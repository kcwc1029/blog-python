{
 "cells": [
  {
   "cell_type": "markdown",
   "metadata": {},
   "source": [
    "- 程式碼可以用，但要資料集要拉高\n",
    "- 到kaggle：https://www.kaggle.com/datasets/sachinpatel21/pothole-image-dataset\n",
    "  - 用壓縮包的方式下載，到roboflow標籤\n",
    "- roboflow：https://roboflow.com/\n",
    "  - 在robot下好標籤後，會轉成dataset"
   ]
  },
  {
   "cell_type": "markdown",
   "metadata": {},
   "source": [
    "### roboflow的dataset下載下來"
   ]
  },
  {
   "cell_type": "code",
   "execution_count": 5,
   "metadata": {},
   "outputs": [
    {
     "name": "stdout",
     "output_type": "stream",
     "text": [
      "loading Roboflow workspace...\n",
      "loading Roboflow project...\n"
     ]
    },
    {
     "name": "stderr",
     "output_type": "stream",
     "text": [
      "Downloading Dataset Version Zip in My-First-Project(YOLO8)-1 to yolov8:: 100%|██████████| 1134/1134 [00:01<00:00, 928.00it/s]"
     ]
    },
    {
     "name": "stdout",
     "output_type": "stream",
     "text": [
      "\n"
     ]
    },
    {
     "name": "stderr",
     "output_type": "stream",
     "text": [
      "\n",
      "Extracting Dataset Version Zip to My-First-Project(YOLO8)-1 in yolov8:: 100%|██████████| 40/40 [00:00<00:00, 2494.83it/s]\n"
     ]
    }
   ],
   "source": [
    "# !pip install roboflow --user\n",
    "\n",
    "from roboflow import Roboflow\n",
    "\n",
    "rf = Roboflow(api_key=\"YleFQbAqMg8wI0a2KLr6\")\n",
    "project = rf.workspace(\"weicheng-chen\").project(\"my-first-project-yolo8\")\n",
    "version = project.version(1)\n",
    "dataset = version.download(\"yolov8\")                "
   ]
  },
  {
   "cell_type": "markdown",
   "metadata": {},
   "source": [
    "### 訓練模型"
   ]
  },
  {
   "cell_type": "code",
   "execution_count": null,
   "metadata": {},
   "outputs": [],
   "source": [
    "from ultralytics import YOLO\n",
    "import os\n",
    "\n",
    "# 檢查路徑\n",
    "dataset_path = os.path.abspath(\"My-First-Project(YOLO8)-1/data.yaml\")\n",
    "print(\"Using dataset path:\", dataset_path)\n",
    "\n",
    "# 載入 YOLOv8 模型 (選擇 nano 版本)\n",
    "model = YOLO(\"yolov8n.pt\")\n",
    "\n",
    "# 開始訓練\n",
    "model.train(\n",
    "    data=dataset_path,  # 指定數據集\n",
    "    epochs=50,  # 訓練 50 個 epoch\n",
    "    batch=16,  # 批次大小\n",
    "    imgsz=640  # 影像尺寸\n",
    ")"
   ]
  },
  {
   "cell_type": "markdown",
   "metadata": {},
   "source": [
    "### 使用訓練好的模型進行推論"
   ]
  },
  {
   "cell_type": "code",
   "execution_count": null,
   "metadata": {},
   "outputs": [
    {
     "name": "stdout",
     "output_type": "stream",
     "text": [
      "\n",
      "image 1/1 d:\\github\\blog-python\\YOLO\\Custom Object Detection YOLOv8 & YOLO11\\Potholes Detection\\My-First-Project(YOLO8)-1\\test\\images\\83_jpg.rf.249b8e4d2b5e97eb3ba51e7b17e9597b.jpg: 640x640 (no detections), 52.3ms\n",
      "Speed: 3.3ms preprocess, 52.3ms inference, 0.7ms postprocess per image at shape (1, 3, 640, 640)\n",
      "Results saved to \u001b[1mruns\\detect\\predict\u001b[0m\n"
     ]
    }
   ],
   "source": [
    "# TODO: 載入訓練好的模型(需要手動調整)\n",
    "model = YOLO(\"./runs/detect/train5/weights/best.pt\")\n",
    "\n",
    "# 選擇測試圖片\n",
    "test_image = \"./My-First-Project(YOLO8)-1/test/images/83_jpg.rf.249b8e4d2b5e97eb3ba51e7b17e9597b.jpg\"\n",
    "\n",
    "# 進行物件檢測\n",
    "results = model.predict(source=test_image, save=True, conf=0.5)\n",
    "\n",
    "# 顯示結果\n",
    "for r in results:\n",
    "    r.show()\n"
   ]
  }
 ],
 "metadata": {
  "kernelspec": {
   "display_name": "Python 3",
   "language": "python",
   "name": "python3"
  },
  "language_info": {
   "codemirror_mode": {
    "name": "ipython",
    "version": 3
   },
   "file_extension": ".py",
   "mimetype": "text/x-python",
   "name": "python",
   "nbconvert_exporter": "python",
   "pygments_lexer": "ipython3",
   "version": "3.9.21"
  }
 },
 "nbformat": 4,
 "nbformat_minor": 2
}
