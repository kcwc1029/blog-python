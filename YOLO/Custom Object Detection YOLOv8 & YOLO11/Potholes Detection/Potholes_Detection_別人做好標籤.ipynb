{
 "cells": [
  {
   "cell_type": "markdown",
   "metadata": {},
   "source": [
    "- 懶得自己手動去建立了\n",
    "- 到kaggle：https://www.kaggle.com/datasets/farzadnekouei/pothole-image-segmentation-dataset"
   ]
  },
  {
   "cell_type": "code",
   "execution_count": null,
   "metadata": {},
   "outputs": [],
   "source": [
    "import kagglehub\n",
    "\n",
    "# Download latest version\n",
    "path = kagglehub.dataset_download(\"farzadnekouei/pothole-image-segmentation-dataset\")\n",
    "\n",
    "print(\"Path to dataset files:\", path)"
   ]
  },
  {
   "cell_type": "markdown",
   "metadata": {},
   "source": [
    "### 訓練 YOLOv8"
   ]
  },
  {
   "cell_type": "code",
   "execution_count": null,
   "metadata": {},
   "outputs": [],
   "source": [
    "from pathlib import Path\n",
    "from ultralytics import YOLO\n",
    "\n",
    "# 初始化 YOLOv8 segmentation 模型\n",
    "model = YOLO(\"yolov8n-seg.pt\")\n",
    "\n",
    "# 定義數據集路徑\n",
    "data_path = r\"C:\\Users\\33313\\.cache\\kagglehub\\datasets\\farzadnekouei\\pothole-image-segmentation-dataset\\versions\\2\\Pothole_Segmentation_YOLOv8\\data.yaml\"\n",
    "\n",
    "# 訓練模型\n",
    "model.train(\n",
    "    data=str(data_path),\n",
    "    epochs=50,\n",
    "    imgsz=640\n",
    ")"
   ]
  },
  {
   "cell_type": "markdown",
   "metadata": {},
   "source": [
    "### 使用訓練好的模型進行推論"
   ]
  },
  {
   "cell_type": "code",
   "execution_count": null,
   "metadata": {},
   "outputs": [
    {
     "name": "stdout",
     "output_type": "stream",
     "text": [
      "\n",
      "image 1/1 d:\\github\\blog-python\\YOLO\\Custom Object Detection YOLOv8 & YOLO11\\Potholes Detection\\My-First-Project(YOLO8)-1\\test\\images\\83_jpg.rf.249b8e4d2b5e97eb3ba51e7b17e9597b.jpg: 640x640 1 Pothole, 6.6ms\n",
      "Speed: 2.1ms preprocess, 6.6ms inference, 2.2ms postprocess per image at shape (1, 3, 640, 640)\n",
      "Results saved to \u001b[1mruns\\segment\\predict\u001b[0m\n"
     ]
    }
   ],
   "source": [
    "# TODO: 載入訓練好的模型(需要手動調整)\n",
    "model = YOLO(\"./runs/segment/train2/weights/best.pt\")\n",
    "\n",
    "# TODO: 選擇測試圖片\n",
    "test_image = \"./My-First-Project(YOLO8)-1/test/images/83_jpg.rf.249b8e4d2b5e97eb3ba51e7b17e9597b.jpg\"\n",
    "\n",
    "# 進行物件檢測\n",
    "results = model.predict(source=test_image, save=True, conf=0.5)\n",
    "\n",
    "# 顯示結果\n",
    "for r in results:\n",
    "    r.show()"
   ]
  },
  {
   "cell_type": "markdown",
   "metadata": {},
   "source": [
    "### YOLOv8 處理影片"
   ]
  },
  {
   "cell_type": "code",
   "execution_count": null,
   "metadata": {},
   "outputs": [],
   "source": [
    "from ultralytics import YOLO\n",
    "\n",
    "model = YOLO(\"./runs/segment/train2/weights/best.pt\")\n",
    "\n",
    "# 執行影片物件偵測\n",
    "results = model.predict(source='./Potholes_Vedio.mp4', save=True, conf=0.5)\n",
    "\n",
    "print(\"影片處理完成，結果已儲存。\")"
   ]
  }
 ],
 "metadata": {
  "kernelspec": {
   "display_name": "Python 3",
   "language": "python",
   "name": "python3"
  },
  "language_info": {
   "codemirror_mode": {
    "name": "ipython",
    "version": 3
   },
   "file_extension": ".py",
   "mimetype": "text/x-python",
   "name": "python",
   "nbconvert_exporter": "python",
   "pygments_lexer": "ipython3",
   "version": "3.9.21"
  }
 },
 "nbformat": 4,
 "nbformat_minor": 2
}
