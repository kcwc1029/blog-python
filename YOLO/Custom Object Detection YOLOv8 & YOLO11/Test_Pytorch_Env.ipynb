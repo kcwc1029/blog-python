{
 "cells": [
  {
   "cell_type": "code",
   "execution_count": 1,
   "metadata": {},
   "outputs": [
    {
     "name": "stdout",
     "output_type": "stream",
     "text": [
      "2.6.0+cu118\n",
      "True\n",
      "NVIDIA GeForce RTX 4060\n"
     ]
    }
   ],
   "source": [
    "import torch\n",
    "print(torch.__version__)  # 檢查 PyTorch 版本\n",
    "print(torch.cuda.is_available())  # 檢查 CUDA 是否可用\n",
    "print(torch.cuda.get_device_name(0))  # 檢查 GPU 名稱"
   ]
  },
  {
   "cell_type": "markdown",
   "metadata": {},
   "source": [
    "## 一次查詢你系統中 PyTorch、CUDA、Python 版本，以及 GPU 資訊："
   ]
  },
  {
   "cell_type": "code",
   "execution_count": 1,
   "metadata": {},
   "outputs": [
    {
     "name": "stdout",
     "output_type": "stream",
     "text": [
      "PyTorch Version: 2.6.0+cu118\n",
      "CUDA Available: True\n",
      "CUDA Version: 11.8\n",
      "cuDNN Version: 90100\n",
      "GPU Name: NVIDIA GeForce RTX 4060\n",
      "Python Version: 3.9.21 (main, Dec 11 2024, 16:35:24) [MSC v.1929 64 bit (AMD64)]\n",
      "System CUDA Version:\n",
      " nvcc: NVIDIA (R) Cuda compiler driver\n",
      "Copyright (c) 2005-2024 NVIDIA Corporation\n",
      "Built on Thu_Sep_12_02:55:00_Pacific_Daylight_Time_2024\n",
      "Cuda compilation tools, release 12.6, V12.6.77\n",
      "Build cuda_12.6.r12.6/compiler.34841621_0\n",
      "\n",
      "OS: Windows 10\n"
     ]
    }
   ],
   "source": [
    "import torch\n",
    "import sys\n",
    "import platform\n",
    "import subprocess\n",
    "\n",
    "# PyTorch & CUDA\n",
    "print(\"PyTorch Version:\", torch.__version__)\n",
    "print(\"CUDA Available:\", torch.cuda.is_available())\n",
    "if torch.cuda.is_available():\n",
    "    print(\"CUDA Version:\", torch.version.cuda)\n",
    "    print(\"cuDNN Version:\", torch.backends.cudnn.version())\n",
    "    print(\"GPU Name:\", torch.cuda.get_device_name(0))\n",
    "\n",
    "# Python 版本\n",
    "print(\"Python Version:\", sys.version)\n",
    "\n",
    "# 檢查系統 CUDA 版本（與 PyTorch 的 CUDA 可能不同）\n",
    "try:\n",
    "    cuda_version = subprocess.check_output(\"nvcc --version\", shell=True).decode()\n",
    "    print(\"System CUDA Version:\\n\", cuda_version)\n",
    "except FileNotFoundError:\n",
    "    print(\"nvcc not found. System CUDA may not be installed.\")\n",
    "\n",
    "# 作業系統\n",
    "print(\"OS:\", platform.system(), platform.release())"
   ]
  }
 ],
 "metadata": {
  "kernelspec": {
   "display_name": "Python 3",
   "language": "python",
   "name": "python3"
  },
  "language_info": {
   "codemirror_mode": {
    "name": "ipython",
    "version": 3
   },
   "file_extension": ".py",
   "mimetype": "text/x-python",
   "name": "python",
   "nbconvert_exporter": "python",
   "pygments_lexer": "ipython3",
   "version": "3.9.21"
  }
 },
 "nbformat": 4,
 "nbformat_minor": 2
}
