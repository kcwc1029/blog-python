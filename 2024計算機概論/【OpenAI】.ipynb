{
 "cells": [
  {
   "cell_type": "markdown",
   "metadata": {},
   "source": [
    "- https://medium.com/@9325838/%E5%A6%82%E4%BD%95%E8%A8%BB%E5%86%8A%E5%92%8C%E4%BB%98%E8%B2%BB%E4%BD%BF%E7%94%A8-chatgpt-api-key-%E8%B6%85%E8%A9%B3%E7%B4%B0%E6%8C%87%E5%8D%97-0faf018a6f27\n",
    "\n",
    "- 在OpenAI的API中\n",
    "    - 文字的輸入稱爲「提示」(Prompt)\n",
    "    - 回傳的文字稱爲「完成」(Completion)\n",
    "    - 當一個提示被發送到ChatGPT時,它會被分解成「標記」(Token)"
   ]
  }
 ],
 "metadata": {
  "language_info": {
   "name": "python"
  }
 },
 "nbformat": 4,
 "nbformat_minor": 2
}
