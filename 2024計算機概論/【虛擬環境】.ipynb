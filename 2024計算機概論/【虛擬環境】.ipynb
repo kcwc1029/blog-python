{
 "cells": [
  {
   "cell_type": "markdown",
   "metadata": {},
   "source": [
    "## 基本概念\n",
    "- 當安裝 Python 時，所有系統套件會被儲存到特定資料夾。可以用 sys.prefix 查詢該資料夾位置。\n",
    "- site.getsitepackage(): 可以查詢安裝第三方套件的資料夾位置，使用 site.getsitepackage() 方法。"
   ]
  },
  {
   "cell_type": "code",
   "execution_count": null,
   "metadata": {},
   "outputs": [
    {
     "name": "stdout",
     "output_type": "stream",
     "text": [
      "d:\\anaconda3\n"
     ]
    }
   ],
   "source": [
    "import sys\n",
    "# 內建套件\n",
    "print(sys.prefix) \n"
   ]
  },
  {
   "cell_type": "code",
   "execution_count": null,
   "metadata": {},
   "outputs": [
    {
     "name": "stdout",
     "output_type": "stream",
     "text": [
      "['d:\\\\anaconda3', 'd:\\\\anaconda3\\\\Lib\\\\site-packages']\n"
     ]
    }
   ],
   "source": [
    "import site\n",
    "# 第三方套建安裝位置\n",
    "print(site.getsitepackages()) "
   ]
  },
  {
   "cell_type": "markdown",
   "metadata": {},
   "source": [
    "## 建立虛擬環境的需求--venv\n",
    "- 由於 Python 只會將 pip 安裝的第三方套件儲存至某一特定資料夾，如果在不同專案間使用不同版本的套件，會造成套件版本衝突。因此，建立虛擬環境讓每個專案有各自的套件存放空間。\n",
    "\n",
    "- Step 1: 建立專案資料夾\n",
    "```\n",
    "mkdir d:\\test_env\n",
    "cd test_env\n",
    "```\n",
    "\n",
    "- Step 2: 使用 venv 建立虛擬環境\n",
    "```\n",
    "python -m venv myproj(環境名稱)\n",
    "```\n",
    "\n",
    "- Step 3: 啟動虛擬環境\n",
    "```\n",
    "cd myproj/Scripts\n",
    "activate\n",
    "```\n",
    "\n",
    "- 列出虛擬環境中的套件\n",
    "```\n",
    "pip list\n",
    "```\n",
    "\n",
    "- 建立套件清單與安裝\n",
    "```\n",
    "# 將虛擬環境中的所有套件輸出至 requirements.txt\n",
    "pip freeze > requirements.txt \n",
    "\n",
    "# 從 requirements.txt 安裝套件\n",
    "pip install -r requirements.txt\n",
    "```\n",
    "\n",
    "- 離開虛擬環境\n",
    "```\n",
    "deactivate\n",
    "```\n"
   ]
  },
  {
   "cell_type": "markdown",
   "metadata": {},
   "source": [
    "## 建立虛擬環境的需求--conda\n",
    "- 先查看自己的python是多少\n",
    "```\n",
    "python3 --version\n",
    "```\n",
    "\n",
    "- 建立環境\n",
    "```\n",
    "conda create --name test_env_conda python=3.9\n",
    "conda activate test_env_conda\n",
    "```\n",
    "\n",
    "- 查看所有環境\n",
    "```\n",
    "conda env list\n",
    "```\n",
    "\n",
    "- 查看當前環境\n",
    "```\n",
    "where python\n",
    "```\n",
    "\n",
    "- 查看當前環境安裝的套建\n",
    "```\n",
    "conda list\n",
    "```\n",
    "\n",
    "- 關閉虛擬環境\n",
    "```\n",
    "conda deactivate\n",
    "```\n",
    "\n",
    "- 移除 Conda 虛擬環境\n",
    "```\n",
    "conda remove --name test_env_conda --all\n",
    "```\n"
   ]
  },
  {
   "cell_type": "code",
   "execution_count": 5,
   "metadata": {},
   "outputs": [
    {
     "name": "stdout",
     "output_type": "stream",
     "text": [
      "d:\\anaconda3\\python.exe\n"
     ]
    }
   ],
   "source": [
    "import sys\n",
    "print(sys.executable)\n"
   ]
  },
  {
   "cell_type": "markdown",
   "metadata": {},
   "source": [
    "### conda匯出環境需求檔案\n",
    "- 若想將環境設定保存成 .yml 檔案，以便在其他地方重建相同的環境\n",
    "```\n",
    "conda env export > environment.yml\n",
    "```\n",
    "\n",
    "- 從需求檔案建立環境\n",
    "```\n",
    "conda env create -f environment.yml\n",
    "\n",
    "```\n",
    "\n"
   ]
  }
 ],
 "metadata": {
  "kernelspec": {
   "display_name": "base",
   "language": "python",
   "name": "python3"
  },
  "language_info": {
   "codemirror_mode": {
    "name": "ipython",
    "version": 3
   },
   "file_extension": ".py",
   "mimetype": "text/x-python",
   "name": "python",
   "nbconvert_exporter": "python",
   "pygments_lexer": "ipython3",
   "version": "3.12.4"
  }
 },
 "nbformat": 4,
 "nbformat_minor": 2
}
