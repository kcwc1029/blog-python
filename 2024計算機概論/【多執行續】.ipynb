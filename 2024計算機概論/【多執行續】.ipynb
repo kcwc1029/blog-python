{
 "cells": [
  {
   "cell_type": "code",
   "execution_count": null,
   "metadata": {},
   "outputs": [],
   "source": [
    "from threading import Thread\n",
    "\n",
    "# 語法\n",
    "# new_thread = Thread(target=fn, args=args_tuple, name=None)\n"
   ]
  },
  {
   "cell_type": "markdown",
   "metadata": {},
   "source": [
    "## 建立&執行thread"
   ]
  },
  {
   "cell_type": "code",
   "execution_count": 1,
   "metadata": {},
   "outputs": [],
   "source": [
    "# current_thread：獲取目前執行的執行緒。\n",
    "# Thread：建立新執行緒的類別。\n",
    "# sleep：讓程式暫停執行一段時間（單位為秒）。\n",
    "# perf_counter：精確地計算程式執行的時間，適合測量短時間的事件。\n",
    "from threading import current_thread, Thread\n",
    "from time import sleep, perf_counter\n",
    "\n",
    "def print_hello():\n",
    "    sleep(2)  # 暫停 2 秒\n",
    "    print(f\"{current_thread().name}: Hello\")\n",
    "\n",
    "def print_message(msg):\n",
    "    sleep(1)  # 暫停 1 秒\n",
    "    print(f\"{current_thread().name}: {msg}\")\n"
   ]
  },
  {
   "cell_type": "code",
   "execution_count": 4,
   "metadata": {},
   "outputs": [
    {
     "name": "stdout",
     "output_type": "stream",
     "text": [
      "Th03: Good morning\n",
      "Th02: Hello\n",
      "Th01: Hello\n",
      "elapsed: 2.00 sec\n"
     ]
    }
   ],
   "source": [
    "# 紀錄程式開始時間\n",
    "start = perf_counter()\n",
    "\n",
    "# 建立執行緒\n",
    "t1 = Thread(target=print_hello, name=\"Th01\")\n",
    "t2 = Thread(target=print_hello, name=\"Th02\")\n",
    "t3 = Thread(target=print_message, args=(\"Good morning\",), name=\"Th03\") # args：指定傳給函式的參數（必須用 tuple）。\n",
    "\n",
    "# 啟動執行緒\n",
    "t1.start()\n",
    "t2.start()\n",
    "t3.start()\n",
    "\n",
    "# 等待執行緒結束\n",
    "t1.join()\n",
    "t2.join()\n",
    "t3.join()\n",
    "\n",
    "# 計算總執行時間\n",
    "elapsed = perf_counter() - start\n",
    "print(f\"elapsed: {elapsed:.2f} sec\")\n"
   ]
  },
  {
   "cell_type": "markdown",
   "metadata": {},
   "source": [
    "## 守護thread(daemon thread)\n",
    "- 守護執行緒 (Daemon Thread) 是一種在背景中執行的執行緒，它的特點是當主程式結束時，守護執行緒會自動終止而不會等待它執行完畢。\n",
    "- 如果你希望執行緒執行完畢後主程式再結束，請使用 join()。\n",
    "- 如果你希望主程式結束時自動終止執行緒，不用等待它執行完畢，可以設置成 守護執行緒 (daemon=True)。"
   ]
  },
  {
   "cell_type": "code",
   "execution_count": null,
   "metadata": {},
   "outputs": [
    {
     "name": "stdout",
     "output_type": "stream",
     "text": [
      "Exiting the main program\n"
     ]
    },
    {
     "name": "stdout",
     "output_type": "stream",
     "text": [
      "Non-Daemon Thread: Hello from non-daemon\n",
      "Daemon Thread: Hello from daemon\n"
     ]
    }
   ],
   "source": [
    "from threading import current_thread, Thread\n",
    "from time import sleep, perf_counter\n",
    "\n",
    "def daemon_func():\n",
    "    sleep(3)\n",
    "    print(f\"{current_thread().name}: Hello from daemon\")\n",
    "\n",
    "def func():\n",
    "    sleep(1)\n",
    "    print(f\"{current_thread().name}: Hello from non-daemon\")\n",
    "\n",
    "# 建立守護執行緒\n",
    "t1=Thread(target=daemon_func, name=\"Daemon Thread\", daemon=True)\n",
    "\n",
    "#建立一般執行緒\n",
    "t2=Thread(target=func, name=\"Non-Daemon Thread\")\n",
    "\n",
    "t1.start()\n",
    "t2.start()\n",
    "print(\"Exiting the main program\")\n",
    "\n"
   ]
  },
  {
   "cell_type": "markdown",
   "metadata": {},
   "source": [
    "## 建立執行續類別"
   ]
  },
  {
   "cell_type": "code",
   "execution_count": 1,
   "metadata": {},
   "outputs": [
    {
     "name": "stdout",
     "output_type": "stream",
     "text": [
      "確認 https://pokeapi.co/api/v2/pokemon/10...\n",
      "確認 https://pokeapi.co/api/v2/pokemon/20...\n",
      "確認 https://pokeapi.co/api/v2/pokemon/30...\n",
      "caterpie\n",
      "nidorina\n",
      "raticate\n"
     ]
    }
   ],
   "source": [
    "import requests\n",
    "from threading import Thread\n",
    "\n",
    "class HttpRequestThread(Thread): # 繼承threading.Thread\n",
    "    def __init__(self, url):\n",
    "        super().__init__()\n",
    "        self.url = url\n",
    "    def run(self):\n",
    "        print(f\"確認 {self.url}...\")\n",
    "        try:\n",
    "            response = requests.get(self.url)\n",
    "            pokemon = response.json()\n",
    "            print(pokemon[\"name\"])\n",
    "        except Exception as e:\n",
    "            print(e)\n",
    "\n",
    "def main():\n",
    "    urls = [\n",
    "        \"https://pokeapi.co/api/v2/pokemon/10\", \"https://pokeapi.co/api/v2/pokemon/20\", \"https://pokeapi.co/api/v2/pokemon/30\"\n",
    "    ]\n",
    "\n",
    "     # 建立執行緒\n",
    "    threads = [HttpRequestThread(url) for url in urls]\n",
    "\n",
    "    # 啟動每個執行緒\n",
    "    for thread in threads:\n",
    "        thread.start()\n",
    "\n",
    "    # 等待所有執行緒完成\n",
    "    for thread in threads:\n",
    "        thread.join()\n",
    "\n",
    "main()"
   ]
  },
  {
   "cell_type": "markdown",
   "metadata": {},
   "source": [
    "## 執行續池(threed pool)\n",
    "- 是一種在程式中實現平行執行的模式。\n",
    "- 每一個在池中的執行緒稱爲「worker」\n",
    "- ==執行緒池允許我們配置worker執行緒的數量，並爲每個worker執行緒提供特定的命名約定。=="
   ]
  },
  {
   "cell_type": "code",
   "execution_count": 2,
   "metadata": {},
   "outputs": [
    {
     "name": "stdout",
     "output_type": "stream",
     "text": [
      "Starting the task 1 ... \n",
      "Starting the task 2 ... \n",
      "Done with task 1\n",
      "Done with task 2\n"
     ]
    }
   ],
   "source": [
    "from time import sleep, perf_counter\n",
    "from concurrent. futures import ThreadPoolExecutor\n",
    "\n",
    "def task(id):\n",
    "    print(f\"Starting the task {id} ... \")\n",
    "    sleep(1)\n",
    "    return f\"Done with task {id}\"\n",
    "\n",
    "with ThreadPoolExecutor() as executor:\n",
    "    f1 = executor.submit(task, 1)\n",
    "    f2 = executor.submit(task, 2)\n",
    "    print(f1.result())\n",
    "    print(f2.result())"
   ]
  },
  {
   "cell_type": "markdown",
   "metadata": {},
   "source": [
    "## 同步執行緒(lock)\n",
    "- 同步執行緒是一種機制，可確保二個或多個執行緒不會同時執行程式的共享資料區塊。\n",
    "```\n",
    "# 建立lock類別\n",
    "lock = Lock()\n",
    "\n",
    "# lock鎖定\n",
    "lock.acquire()\n",
    "\n",
    "# lock解放\n",
    "lock.release()\n",
    "```"
   ]
  },
  {
   "cell_type": "code",
   "execution_count": 8,
   "metadata": {},
   "outputs": [
    {
     "name": "stdout",
     "output_type": "stream",
     "text": [
      "caterpie\n",
      "raticate\n",
      "nidorina\n",
      "final value of x: 3\n"
     ]
    }
   ],
   "source": [
    "from threading import Lock, Thread as Thread\n",
    "import requests\n",
    "from time import sleep\n",
    "\n",
    "urls = [\n",
    "        \"https://pokeapi.co/api/v2/pokemon/10\", \"https://pokeapi.co/api/v2/pokemon/20\", \"https://pokeapi.co/api/v2/pokemon/30\"\n",
    "    ]\n",
    "\n",
    "x=0\n",
    "mylock = Lock()\n",
    "\n",
    "def get_pokemon(lock, url):\n",
    "    global x\n",
    "    try:\n",
    "        # 模擬共用資源\n",
    "        lock.acquire()\n",
    "        local_x = x\n",
    "        local_x+=1  \n",
    "        sleep(1)\n",
    "        x = local_x\n",
    "        lock.release()\n",
    "        response = requests.get(url)\n",
    "        pokemon = response.json()\n",
    "        print(pokemon[\"name\"])\n",
    "    except Exception as e:\n",
    "        print(e)\n",
    "\n",
    "t1=Thread(target=get_pokemon, args=(mylock,urls[0]))\n",
    "t2=Thread(target=get_pokemon, args=(mylock,urls[1]))\n",
    "t3=Thread(target=get_pokemon, args=(mylock,urls[2]))\n",
    "t1.start()\n",
    "t2.start()\n",
    "t3.start()\n",
    "t1.join()\n",
    "t2.join()\n",
    "t3.join()\n",
    "print(f\"final value of x: {x}\")\n",
    "\n",
    "\n"
   ]
  },
  {
   "cell_type": "markdown",
   "metadata": {},
   "source": [
    "## 使用queue交換資料\n",
    "python的queue有3種類型：\n",
    "-  queue.Queue(maxsize=0)：\n",
    "    - 先進先出(FIFO)隊列\n",
    "    - maxsize 參數可限制放置項目的數量，若設為 0 表示無上限。\n",
    "- queue.LifoQueue(maxsize=0)：\n",
    "    - 後進先出(LIFO)隊列，像堆疊一樣。\n",
    "    - maxsize 參數可限制放置項目的數量，若設為 0 表示無上限。\n",
    "- queue.PriorityQueue(maxsize=0)\n",
    "    - 優先級隊列，數值越小的項目會先被取出。"
   ]
  },
  {
   "cell_type": "code",
   "execution_count": 9,
   "metadata": {},
   "outputs": [
    {
     "name": "stdout",
     "output_type": "stream",
     "text": [
      "False\n",
      "1\n",
      "2\n",
      "3\n",
      "True\n"
     ]
    }
   ],
   "source": [
    "import queue\n",
    "\n",
    "# 基本操作\n",
    "q = queue.Queue()\n",
    "q.put(1)\n",
    "q.put(2)\n",
    "q.put(3)\n",
    "\n",
    "print(q.empty())\n",
    "print(q.get())\n",
    "print(q.get())\n",
    "print(q.get())\n",
    "print(q.empty())"
   ]
  },
  {
   "cell_type": "markdown",
   "metadata": {},
   "source": [
    "## 在不同thread中交換資料\n",
    "\n"
   ]
  },
  {
   "cell_type": "code",
   "execution_count": null,
   "metadata": {},
   "outputs": [
    {
     "name": "stdout",
     "output_type": "stream",
     "text": [
      "thread1: task 1\n",
      "thread4: task 4\n",
      "thread5: task 5\n",
      "thread2: task 2\n",
      "thread3: task 3\n",
      "thread4: task 7\n",
      "thread2: task 9\n",
      "thread5: task 8\n",
      "thread1: task 6\n",
      "thread3: task 10\n"
     ]
    }
   ],
   "source": [
    "import queue\n",
    "from threading import  Thread as Thread\n",
    "import threading\n",
    "from time import sleep\n",
    "\n",
    "# 使用 Python 的 queue 模組和多執行緒 threading 模組來模擬多個工作者 (threads) 一起處理任務的情境\n",
    "\n",
    "class Worker(Thread):\n",
    "    def __init__(self, name, q):\n",
    "        super().__init__()\n",
    "        self.name = name\n",
    "        self.queue = q\n",
    "    def run(self):\n",
    "        while True:\n",
    "            item = self.queue.get()\n",
    "            sleep(1)\n",
    "            try:\n",
    "                print(f\"{self.name}: {item}\")\n",
    "            finally:\n",
    "                self.queue.task_done()# 在完成一項工作後,此函式向工作已完成的queue發送一個訊號。\n",
    "\n",
    "my_queue=queue.Queue()\n",
    "for i in range(10):\n",
    "    my_queue.put(f\"task {i+1}\")\n",
    "\n",
    "# 建立5個thread\n",
    "for i in range(5):\n",
    "    worker = Worker(f\"thread{i+1}\", my_queue)\n",
    "    worker.daemon = True\n",
    "    worker.start()\n",
    "\n",
    "my_queue.join()\n",
    "\n",
    "\n"
   ]
  },
  {
   "cell_type": "markdown",
   "metadata": {},
   "source": [
    "## 生產者-消費者模式"
   ]
  },
  {
   "cell_type": "code",
   "execution_count": 14,
   "metadata": {},
   "outputs": [
    {
     "name": "stdout",
     "output_type": "stream",
     "text": [
      "producer put 1, qsize: 1\n",
      "consumer get 1, qsize: 0\n",
      "producer put 2, qsize: 1\n",
      "producer put 3, qsize: 2\n",
      "consumer get 2, qsize: 1\n",
      "producer put 4, qsize: 2\n",
      "producer put 5, qsize: 3consumer get 3, qsize: 2\n",
      "\n",
      "producer put 6, qsize: 3\n",
      "consumer get 4, qsize: 2producer put 7, qsize: 3\n",
      "\n",
      "producer put 8, qsize: 4\n",
      "consumer get 5, qsize: 3\n",
      "producer put 9, qsize: 4\n",
      "producer put 10, qsize: 5\n",
      "consumer get 6, qsize: 4\n",
      "producer put 11, qsize: 5\n",
      "queue is full\n",
      "consumer get 7, qsize: 4\n",
      "consumer get 8, qsize: 3\n",
      "consumer get 9, qsize: 2\n",
      "consumer get 10, qsize: 1\n",
      "consumer get 11, qsize: 0\n",
      "queue is empty\n"
     ]
    }
   ],
   "source": [
    "import queue\n",
    "import time\n",
    "import threading\n",
    "\n",
    "# 建立一個隊列，最大容量為5\n",
    "q = queue.Queue(5)\n",
    "\n",
    "# 生產者類別，繼承自 threading.Thread\n",
    "class Producer(threading.Thread):\n",
    "    def __init__(self, thread_name):\n",
    "        super().__init__()\n",
    "        self.name = thread_name\n",
    "        self.count = 1\n",
    "\n",
    "    def run(self):\n",
    "        while True:\n",
    "            if q.full():\n",
    "                print('queue is full')\n",
    "                break\n",
    "            else:\n",
    "                msg = str(self.count)\n",
    "                q.put(msg)\n",
    "                print(self.name + ' put ' + msg + ', qsize: ' + str(q.qsize()))\n",
    "                self.count += 1\n",
    "            time.sleep(1)\n",
    "\n",
    "# 消費者類別，繼承自 threading.Thread\n",
    "class Consumer(threading.Thread):\n",
    "    def __init__(self, thread_name):\n",
    "        super().__init__()\n",
    "        self.name = thread_name\n",
    "\n",
    "    def run(self):\n",
    "        while True:\n",
    "            if q.empty():\n",
    "                print('queue is empty')\n",
    "                break\n",
    "            else:\n",
    "                msg = q.get()\n",
    "                print(self.name + ' get ' + msg + ', qsize: ' + str(q.qsize()))\n",
    "                time.sleep(2)\n",
    "\n",
    "# 創建並啟動生產者與消費者執行緒\n",
    "p = Producer('producer')\n",
    "p.start()\n",
    "\n",
    "c = Consumer('consumer')\n",
    "c.start()\n",
    "\n",
    "# 等待生產者和消費者執行緒結束\n",
    "p.join()\n",
    "c.join()\n"
   ]
  },
  {
   "cell_type": "markdown",
   "metadata": {},
   "source": [
    "## 多程序\n",
    "- 程序試指電腦中執行的實例。\n",
    "- 同一個程式備執行多次，就會有多個程序。\n",
    "- 一個具有四核的CPU，同時可以執行四個程序。\n",
    "\n",
    "- 針對多程序程式設計,Python提供了multiprocessing套件,此套件包含二種實現多程序的方法。\n",
    "    - 使用Process物件\n",
    "    - 使用Pool物件\n",
    "\n",
    "\n",
    "![upgit_20241102_1730550615.png](https://raw.githubusercontent.com/kcwc1029/obsidian-upgit-image/main/2024/11/upgit_20241102_1730550615.png)\n"
   ]
  },
  {
   "cell_type": "markdown",
   "metadata": {},
   "source": [
    "### 以一般Python程式來處理二個計算任務"
   ]
  },
  {
   "cell_type": "code",
   "execution_count": null,
   "metadata": {},
   "outputs": [
    {
     "name": "stdout",
     "output_type": "stream",
     "text": [
      "result3 = 300000000\n",
      "花費時間: 8.10 sec\n"
     ]
    }
   ],
   "source": [
    "# NOTE: 要用py跑\n",
    "from time import perf_counter\n",
    "\n",
    "def task1():\n",
    "    result = 0\n",
    "    for i in range(10**8):\n",
    "        result += 1\n",
    "    return result\n",
    "\n",
    "def task2():\n",
    "    result = 0\n",
    "    for i in range(10**8):\n",
    "        result += 2\n",
    "    return result\n",
    "\n",
    "# 開始計時\n",
    "start = perf_counter()\n",
    "\n",
    "# 執行任務\n",
    "result1 = task1()\n",
    "result2 = task2()\n",
    "result3 = result1 + result2\n",
    "\n",
    "# 顯示結果\n",
    "print(f\"result3 = {result3}\")\n",
    "\n",
    "# 計算並顯示執行時間\n",
    "elapsed = perf_counter() - start\n",
    "print(f\"花費時間: {elapsed:.2f} sec\")\n"
   ]
  },
  {
   "cell_type": "markdown",
   "metadata": {},
   "source": [
    "### 使用Process 物件執行耗時計算\n",
    "- Process物件提供了與Thread物件相同的API。\n",
    "- 使用start()方法來啓動程序。\n",
    "- 若要等待程序完成工作,可以呼叫join()方法。"
   ]
  },
  {
   "cell_type": "code",
   "execution_count": 1,
   "metadata": {},
   "outputs": [
    {
     "name": "stdout",
     "output_type": "stream",
     "text": [
      "花費時間: 0.07 sec\n"
     ]
    }
   ],
   "source": [
    "from time import perf_counter\n",
    "import multiprocessing\n",
    "\n",
    "def task1():\n",
    "    result = 0\n",
    "    for i in range(10**8):\n",
    "        result += 1\n",
    "\n",
    "def task2():\n",
    "    result = 0\n",
    "    for i in range(10**8):\n",
    "        result += 2\n",
    "\n",
    "if __name__ == '__main__':\n",
    "    # 計時開始\n",
    "    start = perf_counter()\n",
    "\n",
    "    # 建立兩個進程\n",
    "    p1 = multiprocessing.Process(target=task1)\n",
    "    p2 = multiprocessing.Process(target=task2)\n",
    "\n",
    "    # 啟動進程\n",
    "    p1.start()\n",
    "    p2.start()\n",
    "\n",
    "    # 等待進程完成\n",
    "    p1.join()\n",
    "    p2.join()\n",
    "\n",
    "    # 計算並顯示執行時間\n",
    "    elapsed = perf_counter() - start\n",
    "    print(f\"花費時間: {elapsed:.2f} sec\")\n"
   ]
  },
  {
   "cell_type": "code",
   "execution_count": null,
   "metadata": {},
   "outputs": [],
   "source": [
    "# 上述程式並無法取得結果，如果要取得結果，就需要依靠multiprocessing模組提供的queue\n",
    "from time import perf_counter\n",
    "import multiprocessing\n",
    "\n",
    "def task1(queue):\n",
    "    result = 0\n",
    "    for i in range(10**2):\n",
    "        result += 1\n",
    "    queue.put(result)\n",
    "\n",
    "def task2(queue):\n",
    "    result = 0\n",
    "    for i in range(10**2):\n",
    "        result += 2\n",
    "    queue.put(result)  # 把這行放到迴圈外，避免重複放入 queue\n",
    "\n",
    "if __name__ == \"__main__\":\n",
    "    queue = multiprocessing.Queue()\n",
    "    start = perf_counter()\n",
    "\n",
    "    p1 = multiprocessing.Process(target=task1, args=(queue,))\n",
    "    p2 = multiprocessing.Process(target=task2, args=(queue,))\n",
    "\n",
    "    p1.start()\n",
    "    p2.start()\n",
    "\n",
    "    p1.join()\n",
    "    p2.join()\n",
    "\n",
    "    result = queue.get() + queue.get()\n",
    "    print(f\"result= {result}\")\n",
    "\n",
    "    elapsed = perf_counter() - start\n",
    "    print(f\"花費時間: {elapsed:.2f} sec\")\n"
   ]
  },
  {
   "cell_type": "markdown",
   "metadata": {},
   "source": [
    "## 多程序進行批量處理圖像縮圖"
   ]
  },
  {
   "cell_type": "code",
   "execution_count": 1,
   "metadata": {},
   "outputs": [
    {
     "name": "stdout",
     "output_type": "stream",
     "text": [
      "Defaulting to user installation because normal site-packages is not writeable\n",
      "Requirement already satisfied: pillow in d:\\anaconda3\\lib\\site-packages (10.3.0)\n"
     ]
    }
   ],
   "source": [
    "!pip install pillow"
   ]
  },
  {
   "cell_type": "code",
   "execution_count": null,
   "metadata": {},
   "outputs": [
    {
     "name": "stdout",
     "output_type": "stream",
     "text": [
      "elapsed: 0.13 sec\n"
     ]
    }
   ],
   "source": [
    "# ERROR: 可以跑，但無法吃到圖片\n",
    "import multiprocessing\n",
    "import time\n",
    "import os\n",
    "from PIL import Image, ImageFilter\n",
    "\n",
    "# 定義圖片來源和縮圖儲存的資料夾\n",
    "source_dir = \"\"\n",
    "thumb_dir = \"./temp image/thumb dir\"\n",
    "\n",
    "\n",
    "# 建立縮圖函數\n",
    "def create_thumbnail(filename, size=(50, 50), thumb_dir=thumb_dir):\n",
    "    try:\n",
    "        img = Image.open(filename)  # 開啟圖片檔案\n",
    "        img.show()  # 顯示圖片\n",
    "        img = img.filter(ImageFilter.GaussianBlur)  # 應用高斯模糊濾鏡\n",
    "        img.thumbnail(size)  # 調整圖片大小\n",
    "        img.save(f\"{thumb_dir}/{os.path.basename(filename)}\")  # 儲存縮圖\n",
    "        print(f\"{filename} was processed\")\n",
    "    except Exception as e:\n",
    "        print(f\"Error processing {filename}: {e}\")\n",
    "\n",
    "if __name__ == '__main__':\n",
    "    # 確認縮圖資料夾是否存在，若不存在則建立\n",
    "    if not os.path.exists(thumb_dir):\n",
    "        os.makedirs(thumb_dir)\n",
    "\n",
    "    # 自動取得圖片來源資料夾中的所有圖片檔案路徑\n",
    "    filenames = [os.path.join(source_dir, file) for file in os.listdir(source_dir) if file.endswith('.jpg')]\n",
    "\n",
    "    # 記錄開始時間\n",
    "    start = time.perf_counter()\n",
    "\n",
    "    # 建立進程列表\n",
    "    processes = []\n",
    "    for f in filenames:\n",
    "        p = multiprocessing.Process(target=create_thumbnail, args=(f,))\n",
    "        processes.append(p)\n",
    "\n",
    "    # 啟動所有進程\n",
    "    for p in processes:\n",
    "        p.start()\n",
    "\n",
    "    # 等待所有進程完成\n",
    "    for p in processes:\n",
    "        p.join()\n",
    "\n",
    "    # 計算並輸出執行時間\n",
    "    elapsed = time.perf_counter() - start\n",
    "    print(f\"elapsed: {elapsed:.2f} sec\")\n"
   ]
  },
  {
   "cell_type": "markdown",
   "metadata": {},
   "source": [
    "### 使用Pool 物件執行耗時計算"
   ]
  },
  {
   "cell_type": "code",
   "execution_count": null,
   "metadata": {},
   "outputs": [],
   "source": [
    "# NOTE: 要用py跑\n",
    "from multiprocessing import Pool\n",
    "from time import perf_counter\n",
    "\n",
    "# 定義計算任務\n",
    "def task(x):\n",
    "    result = 0\n",
    "    # 對於 10**8 的範圍進行累加計算\n",
    "    for i in range(10**8):\n",
    "        result += x\n",
    "    return result\n",
    "\n",
    "if __name__ == '__main__':\n",
    "    start = perf_counter()  # 計時開始\n",
    "\n",
    "    # 使用多進程池 (Pool) 來處理任務\n",
    "    with Pool(3) as p:  # 建立 3 個進程\n",
    "        # 使用 map 方法將任務分配給每個進程，並將結果打印出來\n",
    "        print(p.map(task, [1, 2, 3]))\n",
    "\n",
    "    # 計算並輸出執行時間\n",
    "    elapsed = perf_counter() - start\n",
    "    print(f\"elapsed: {elapsed:.2f} sec\")"
   ]
  },
  {
   "cell_type": "markdown",
   "metadata": {},
   "source": [
    "## 程序池(Process pool)\n",
    "- 也是一種在程式中實現平行運算的模式，允許我們有效率地自動管理池中的程序，並允許我們配置程序的數量。\n",
    "- 要建立程序池,我們要使用Python的ProcessPoolExecutor類別,此類別繼承自Executor類別,有三個方法可控制程序池：\n",
    "    - submit()：呼叫一個要執行的函式,並回傳Future物件。此方法接受一個函式並以非同步方式執行。\n",
    "    - map()：爲迭代中的每一個成員非同步執行函式。\n",
    "    - shutdown()：關閉executor\n",
    "- 當我們建立一個ProcessPoolExecutor實例後，,Python即會啓動Executor，並會回傳Future物件，表示非同步操作的最終結果。\n",
    "- Future類別有二個有用的方法：\n",
    "    - result()：回傳非同步操作的結果。\n",
    "    - exception()：若發生例外,則回傳非同步操作的例外。"
   ]
  },
  {
   "cell_type": "code",
   "execution_count": null,
   "metadata": {},
   "outputs": [],
   "source": [
    "import time\n",
    "import os\n",
    "from PIL import Image, ImageFilter\n",
    "from concurrent. futures import ProcessPoolExecutor\n",
    "\n",
    "# 這邊有餘力再回來補"
   ]
  },
  {
   "cell_type": "markdown",
   "metadata": {},
   "source": [
    "## 程序間共享記憶體\n",
    "- process與thread的最大不同是每個process皆擁有獨立的記憶體空間，不像多個thread會共享一個process的記憶體空間。\n",
    "- 因此當我們在設計多程序程式時，一般會以Queue來交換資料。\n",
    "- 除了以Queue來交換資料外，若我們真的有需要讓多個程序共享記憶體空間，multiprocessing模組也提供了共享記憶體的方法，讓我們可以使用Value或Array管理共享記憶體：\n",
    "    - multiprocessing.Value：管理共享值\n",
    "    - multiprocessing.Array：管理共享陣列值"
   ]
  },
  {
   "cell_type": "code",
   "execution_count": null,
   "metadata": {},
   "outputs": [
    {
     "name": "stdout",
     "output_type": "stream",
     "text": [
      "num = 0.0\n",
      "arr = [0, 1, 2, 3, 4, 5, 6, 7, 8, 9]\n"
     ]
    }
   ],
   "source": [
    "# NOTE: 要用py跑\n",
    "from multiprocessing import Process, Value, Array, Lock\n",
    "from time import sleep\n",
    "\n",
    "# 定義第一個任務\n",
    "def task1(lock, n, a):\n",
    "    lock.acquire()  # 獲取鎖\n",
    "    num1 = n.value\n",
    "    num1 += 100\n",
    "    sleep(0.2)\n",
    "    n.value = num1\n",
    "\n",
    "    for i in range(len(a)):\n",
    "        a[i] = a[i] * a[i]\n",
    "    lock.release()  # 釋放鎖\n",
    "\n",
    "# 定義第二個任務\n",
    "def task2(lock, n, a):\n",
    "    lock.acquire()  # 獲取鎖\n",
    "    num2 = n.value\n",
    "    num2 += 200\n",
    "    sleep(0.2)\n",
    "    n.value = num2\n",
    "\n",
    "    for i in range(len(a)):\n",
    "        a[i] = -a[i]\n",
    "    lock.release()  # 釋放鎖\n",
    "\n",
    "if __name__ == '__main__':\n",
    "    lock = Lock()\n",
    "    num = Value('d', 0.0)  # 定義共享變數，double 類型\n",
    "    arr = Array('i', range(10))  # 定義共享陣列，int 類型\n",
    "\n",
    "    # 創建進程\n",
    "    p1 = Process(target=task1, args=(lock, num, arr))\n",
    "    p2 = Process(target=task2, args=(lock, num, arr))\n",
    "\n",
    "    # 啟動進程\n",
    "    p1.start()\n",
    "    p2.start()\n",
    "\n",
    "    # 等待進程結束\n",
    "    p1.join()\n",
    "    p2.join()\n",
    "\n",
    "    # 輸出結果\n",
    "    print(f\"num = {num.value}\")\n",
    "    print(f\"arr = {arr[:]}\")\n"
   ]
  }
 ],
 "metadata": {
  "kernelspec": {
   "display_name": "base",
   "language": "python",
   "name": "python3"
  },
  "language_info": {
   "codemirror_mode": {
    "name": "ipython",
    "version": 3
   },
   "file_extension": ".py",
   "mimetype": "text/x-python",
   "name": "python",
   "nbconvert_exporter": "python",
   "pygments_lexer": "ipython3",
   "version": "3.12.4"
  }
 },
 "nbformat": 4,
 "nbformat_minor": 2
}
