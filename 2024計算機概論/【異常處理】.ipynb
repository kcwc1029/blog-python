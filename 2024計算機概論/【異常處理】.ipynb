{
 "cells": [
  {
   "cell_type": "markdown",
   "metadata": {},
   "source": [
    "## 異常處理\n",
    "- python 可以讓我們去捕捉異常跟撰寫異常處理程序。"
   ]
  },
  {
   "cell_type": "code",
   "execution_count": 2,
   "metadata": {},
   "outputs": [
    {
     "name": "stdout",
     "output_type": "stream",
     "text": [
      "5.0\n",
      "2.0\n"
     ]
    },
    {
     "ename": "ZeroDivisionError",
     "evalue": "division by zero",
     "output_type": "error",
     "traceback": [
      "\u001b[1;31m---------------------------------------------------------------------------\u001b[0m",
      "\u001b[1;31mZeroDivisionError\u001b[0m                         Traceback (most recent call last)",
      "Cell \u001b[1;32mIn[2], line 7\u001b[0m\n\u001b[0;32m      5\u001b[0m \u001b[38;5;28mprint\u001b[39m(division(\u001b[38;5;241m10\u001b[39m, \u001b[38;5;241m2\u001b[39m))     \n\u001b[0;32m      6\u001b[0m \u001b[38;5;28mprint\u001b[39m(division(\u001b[38;5;241m6\u001b[39m, \u001b[38;5;241m3\u001b[39m)) \n\u001b[1;32m----> 7\u001b[0m \u001b[38;5;28mprint\u001b[39m(division(\u001b[38;5;241m5\u001b[39m, \u001b[38;5;241m0\u001b[39m))\n",
      "Cell \u001b[1;32mIn[2], line 3\u001b[0m, in \u001b[0;36mdivision\u001b[1;34m(x, y)\u001b[0m\n\u001b[0;32m      2\u001b[0m \u001b[38;5;28;01mdef\u001b[39;00m \u001b[38;5;21mdivision\u001b[39m(x, y):\n\u001b[1;32m----> 3\u001b[0m     \u001b[38;5;28;01mreturn\u001b[39;00m x \u001b[38;5;241m/\u001b[39m y\n",
      "\u001b[1;31mZeroDivisionError\u001b[0m: division by zero"
     ]
    }
   ],
   "source": [
    "# 除數為0\n",
    "def division(x, y):\n",
    "    return x / y\n",
    "\n",
    "print(division(10, 2))     \n",
    "print(division(6, 3)) \n",
    "print(division(5, 0)) "
   ]
  },
  {
   "cell_type": "markdown",
   "metadata": {},
   "source": [
    "### ZeroDivisionError\n",
    "- 所以，我們可以使用`try except來捕捉異常`"
   ]
  },
  {
   "cell_type": "code",
   "execution_count": 3,
   "metadata": {},
   "outputs": [
    {
     "name": "stdout",
     "output_type": "stream",
     "text": [
      "5.0\n",
      "除數不可為0\n",
      "None\n",
      "2.0\n"
     ]
    }
   ],
   "source": [
    "def division(x, y):\n",
    "    try:                        # try - except指令\n",
    "        return x / y\n",
    "    except ZeroDivisionError:   # 除數為0時執行\n",
    "        print(\"除數不可為0\")\n",
    "\n",
    "print(division(10, 2))          # 5.0\n",
    "print(division(5, 0))           # 除數不可為0\n",
    "print(division(6, 3))           # 2.0"
   ]
  },
  {
   "cell_type": "markdown",
   "metadata": {},
   "source": [
    "所以，我們來看看異常處理的整個架構：\n",
    "- try -> 預想可能會發生錯誤的指令\n",
    "- except -> 抓錯\n",
    "- else -> 沒事，繼續跑"
   ]
  },
  {
   "cell_type": "code",
   "execution_count": 7,
   "metadata": {},
   "outputs": [
    {
     "name": "stdout",
     "output_type": "stream",
     "text": [
      "5.0\n",
      "除數不可為0\n",
      "None\n",
      "2.0\n"
     ]
    }
   ],
   "source": [
    "def division(x, y):\n",
    "    try:                        # try - except指令\n",
    "        ans =  x / y\n",
    "        # return ans\n",
    "    except ZeroDivisionError:   # 除數為0時執行\n",
    "        print(\"除數不可為0\")\n",
    "    else:\n",
    "        return ans              # 傳回正確的執行結果\n",
    "\n",
    "print(division(10, 2))          \n",
    "print(division(5, 0))          \n",
    "print(division(6, 3)) "
   ]
  },
  {
   "cell_type": "markdown",
   "metadata": {},
   "source": [
    "### 找不到檔案 file not found error"
   ]
  },
  {
   "cell_type": "code",
   "execution_count": 8,
   "metadata": {},
   "outputs": [
    {
     "name": "stdout",
     "output_type": "stream",
     "text": [
      "找不到 data.txt 檔案\n"
     ]
    }
   ],
   "source": [
    "fn = 'data.txt'             \n",
    "try:\n",
    "    with open(fn) as file_Obj:  \n",
    "        data = file_Obj.read()  \n",
    "except FileNotFoundError:\n",
    "    print(f\"找不到 {fn} 檔案\")\n",
    "else:\n",
    "    print(data) "
   ]
  },
  {
   "cell_type": "markdown",
   "metadata": {},
   "source": [
    "### 常見異常處裡\n",
    "![upgit_20240816_1723810259.png](https://raw.githubusercontent.com/kcwc1029/obsidian-upgit-image/main/2024/08/upgit_20240816_1723810259.png)"
   ]
  },
  {
   "cell_type": "markdown",
   "metadata": {},
   "source": [
    "## 設計多組異常處理程序"
   ]
  },
  {
   "cell_type": "code",
   "execution_count": 16,
   "metadata": {},
   "outputs": [
    {
     "name": "stdout",
     "output_type": "stream",
     "text": [
      "5.0\n",
      "division by zero\n",
      "None\n",
      "unsupported operand type(s) for /: 'str' and 'str'\n",
      "None\n",
      "2.0\n"
     ]
    }
   ],
   "source": [
    "def division(x, y):\n",
    "    try:                       \n",
    "        return x / y\n",
    "    except (ZeroDivisionError, TypeError) as e:   # 2個異常\n",
    "        print(e)\n",
    "\n",
    "print(division(10, 2))          \n",
    "print(division(5, 0))     # division by zero      \n",
    "print(division('a', 'b'))  # unsupported operand type(s) for /: 'str' and 'str'     \n",
    "print(division(6, 3)) "
   ]
  },
  {
   "cell_type": "code",
   "execution_count": 18,
   "metadata": {},
   "outputs": [
    {
     "name": "stdout",
     "output_type": "stream",
     "text": [
      "5.0\n",
      "有錯誤\n",
      "有錯誤\n",
      "2.0\n"
     ]
    }
   ],
   "source": [
    "# 通用錯誤\n",
    "def division(x, y):\n",
    "    try:                       \n",
    "        return x / y\n",
    "    except :   \n",
    "        return \"有錯誤\"\n",
    "\n",
    "print(division(10, 2))          \n",
    "print(division(5, 0))           \n",
    "print(division('a', 'b'))      \n",
    "print(division(6, 3)) "
   ]
  },
  {
   "cell_type": "code",
   "execution_count": 19,
   "metadata": {},
   "outputs": [
    {
     "name": "stdout",
     "output_type": "stream",
     "text": [
      "5.0\n",
      "division by zero\n",
      "unsupported operand type(s) for /: 'str' and 'str'\n",
      "2.0\n"
     ]
    }
   ],
   "source": [
    "# 通用錯誤\n",
    "def division(x, y):\n",
    "    try:                       \n",
    "        return x / y\n",
    "    except Exception as e:\n",
    "        return e\n",
    "\n",
    "print(division(10, 2))          \n",
    "print(division(5, 0))           #\n",
    "print(division('a', 'b'))      \n",
    "print(division(6, 3)) "
   ]
  },
  {
   "cell_type": "markdown",
   "metadata": {},
   "source": [
    "## 丟出異常raise\n",
    "- 前面的部分，著重於python發現異常後，丟出異常，如果不處理就中止執行\n",
    "- 如果要改為，發現異常後會丟出異常，並且跳到設計好的except去處理"
   ]
  },
  {
   "cell_type": "code",
   "execution_count": 20,
   "metadata": {},
   "outputs": [
    {
     "name": "stdout",
     "output_type": "stream",
     "text": [
      "password too long\n",
      "password too short\n",
      "correct\n"
     ]
    }
   ],
   "source": [
    "def passWord(pwd):\n",
    "    \"\"\"檢查密碼長度必須是5到8個字元\"\"\"\n",
    "    pwdlen = len(pwd)                       # 密碼長度\n",
    "    if pwdlen < 5:                          # 密碼長度不足            \n",
    "        raise Exception('password too short')\n",
    "    if pwdlen > 8:                          # 密碼長度太長\n",
    "        raise Exception('password too long')\n",
    "    print('correct')\n",
    "\n",
    "for pwd in ('aaabbbccc', 'aaa', 'aaabbb'):  # 測試系列密碼值\n",
    "    try:\n",
    "        passWord(pwd)\n",
    "    except Exception as e:\n",
    "        print(str(e))\n",
    "# password too long\n",
    "# password too short\n",
    "# correct"
   ]
  },
  {
   "cell_type": "markdown",
   "metadata": {},
   "source": [
    "### 紀錄 Traceback 字串"
   ]
  },
  {
   "cell_type": "code",
   "execution_count": 23,
   "metadata": {},
   "outputs": [
    {
     "name": "stdout",
     "output_type": "stream",
     "text": [
      "password too long\n",
      "password too short\n",
      "correct\n"
     ]
    }
   ],
   "source": [
    "import traceback \n",
    "\n",
    "\n",
    "def passWord(pwd):\n",
    "    \"\"\"檢查密碼長度必須是5到8個字元\"\"\"\n",
    "    pwdlen = len(pwd)                       # 密碼長度\n",
    "    if pwdlen < 5:                          # 密碼長度不足            \n",
    "        raise Exception('password too short')\n",
    "    if pwdlen > 8:                          # 密碼長度太長\n",
    "        raise Exception('password too long')\n",
    "    return \"correct\"\n",
    "\n",
    "for pwd in ('aaabbbccc', 'aaa', 'aaabbb'):  # 測試系列密碼值\n",
    "    try:\n",
    "        print(passWord(pwd))\n",
    "\n",
    "    except Exception as e:\n",
    "        print(str(e))\n",
    "        errlog = open('err.txt', 'a')   # 開啟錯誤檔案\n",
    "        errlog.write(traceback.format_exc())   # 寫入錯誤檔案\n",
    "        errlog.close()                         # 關閉錯誤檔案\n",
    "# password too long\n",
    "# password too short\n",
    "# correct"
   ]
  },
  {
   "cell_type": "markdown",
   "metadata": {},
   "source": [
    "## finally\n",
    "- 他是【是否有錯】，都一定會執行"
   ]
  },
  {
   "cell_type": "code",
   "execution_count": 26,
   "metadata": {},
   "outputs": [
    {
     "name": "stdout",
     "output_type": "stream",
     "text": [
      "5.0\n",
      "complete\n",
      "division by zero\n",
      "complete\n",
      "unsupported operand type(s) for /: 'str' and 'str'\n",
      "complete\n",
      "2.0\n",
      "complete\n"
     ]
    }
   ],
   "source": [
    "def division(x, y):\n",
    "    try:                            \n",
    "        print(x / y)\n",
    "        # return  x / y  # 如果這邊下return，就直接結束，就沒有後面了\n",
    "    except Exception as e:\n",
    "        print(e)\n",
    "    finally:                         # 離開函數前先執行此程式碼\n",
    "        print(\"complete\")\n",
    "\n",
    "\n",
    "division(10, 2)\n",
    "division(5, 0)\n",
    "division('a', 'b')\n",
    "division(6, 3)"
   ]
  },
  {
   "cell_type": "markdown",
   "metadata": {},
   "source": [
    "## 程式斷言 assert\n",
    "- 基本語法：`assert 條件, \"錯誤信息\"`\n",
    "- 條件檢查：如果條件為 True，程式繼續執行。\n",
    "- 錯誤檢查：如果條件為 False，程式會引發 AssertionError，並終止執行。\n",
    "- 主要用於開發階段做檢查"
   ]
  },
  {
   "cell_type": "code",
   "execution_count": 28,
   "metadata": {},
   "outputs": [],
   "source": [
    "class Banks():\n",
    "   # 定義銀行類別\n",
    "    title = 'Tainan Bank'                   \n",
    "    def __init__(self, uname, money):       \n",
    "        self.name = uname                   \n",
    "        self.balance = money                \n",
    "\n",
    "    def save_money(self, money):            # 設計存款方法\n",
    "        self.balance += money        \n",
    "        print(\"save money\", money)       \n",
    "\n",
    "    def withdraw_money(self, money):        # 設計提款方法\n",
    "        self.balance -= money               # 執行提款\n",
    "        print(\"Withdrawal money\", money)\n",
    "\n",
    "    def get_balance(self):                  # 獲得存款餘額\n",
    "        print(\"Current balance \", self.balance)"
   ]
  },
  {
   "cell_type": "code",
   "execution_count": 29,
   "metadata": {},
   "outputs": [
    {
     "name": "stdout",
     "output_type": "stream",
     "text": [
      "Current balance  100\n",
      "save money -300\n",
      "Current balance  -200\n",
      "Withdrawal money 700\n",
      "Current balance  -900\n"
     ]
    }
   ],
   "source": [
    "hungbank = Banks('TA', 100)               \n",
    "hungbank.get_balance()                      # 獲得存款餘額                \n",
    "hungbank.save_money(-300)                   # 存款-300元\n",
    "hungbank.get_balance()                      # 獲得存款餘額\n",
    "hungbank.withdraw_money(700)                # 提款700元\n",
    "hungbank.get_balance()                      # 獲得存款餘額\n",
    "\n",
    "# 之所以會錯誤是因為，我們在提款前，應該要先檢查帳戶餘額"
   ]
  },
  {
   "cell_type": "code",
   "execution_count": 40,
   "metadata": {},
   "outputs": [],
   "source": [
    "# 增加assert後\n",
    "class Banks():\n",
    "   # 定義銀行類別\n",
    "    title = 'Tainan Bank'                   \n",
    "    def __init__(self, uname, money):       \n",
    "        self.name = uname                   \n",
    "        self.balance = money                \n",
    "\n",
    "    def save_money(self, money):           # 設計存款方法\n",
    "        assert money > 0, 'money must > 0'\n",
    "        self.balance += money        \n",
    "        print(\"save money\", money)       \n",
    "\n",
    "    def withdraw_money(self, money):        # 設計提款方法\n",
    "        assert money > 0, 'withdraw must > 0'\n",
    "        assert money <= self.balance, 'money not enough'\n",
    "        self.balance -= money               # 執行提款\n",
    "        print(\"Withdrawal money\", money)\n",
    "\n",
    "    def get_balance(self):                  # 獲得存款餘額\n",
    "        print(\"Current balance \", self.balance)"
   ]
  },
  {
   "cell_type": "code",
   "execution_count": 43,
   "metadata": {},
   "outputs": [
    {
     "name": "stdout",
     "output_type": "stream",
     "text": [
      "Current balance  100\n",
      "save money 300\n"
     ]
    }
   ],
   "source": [
    "hungbank = Banks('TA', 100)               \n",
    "hungbank.get_balance()                      # 獲得存款餘額                \n",
    "hungbank.save_money(300)                   # 存款300元\n",
    "# hungbank.get_balance()                      # 獲得存款餘額\n",
    "# hungbank.withdraw_money(700)                # 提款700元\n",
    "# hungbank.get_balance()                      # 獲得存款餘額\n",
    "\n",
    "# 之所以會錯誤是因為，我們在提款前，應該要先檢查帳戶餘額"
   ]
  },
  {
   "cell_type": "markdown",
   "metadata": {},
   "source": [
    "## 程式日誌模組 logging\n",
    "- logging 模組是 Python 的內建功能，用來追蹤程式的運行過程。它提供了不同等級的日誌紀錄，從詳細的調試資訊到嚴重錯誤訊息，都可以根據需求進行設定與輸出。\n",
    "\n",
    "### logging level(低到高)\n",
    "- DEBUG ：\n",
    "    - 用於顯示程式的小細節，是最低層級的內容。\n",
    "    - 通常在調試程式問題時使用，可追蹤關鍵變數的變化過程。\n",
    "- INFO ：\n",
    "    - 用於記錄程式一般發生的事件。\n",
    "\n",
    "- WARNING ：\n",
    "    - 用於顯示可能影響程式執行但尚未造成問題的事件，未來可能導致問題的發生。\n",
    "- ERROR ：\n",
    "    - 顯示程式發生的錯誤，通常是在某些狀態下引發錯誤的原因。\n",
    "- CRITICAL ：\n",
    "    - 通常表示將導致系統崩潰或中斷的錯誤。"
   ]
  },
  {
   "cell_type": "code",
   "execution_count": 46,
   "metadata": {},
   "outputs": [
    {
     "name": "stderr",
     "output_type": "stream",
     "text": [
      "DEBUG:root:This is a DEBUG message\n",
      "INFO:root:This is an INFO message\n",
      "WARNING:root:This is a WARNING message\n",
      "ERROR:root:This is an ERROR message\n",
      "CRITICAL:root:This is a CRITICAL message\n"
     ]
    }
   ],
   "source": [
    "import logging\n",
    "\n",
    "# 設定 logging 等級為 DEBUG，這樣所有等級的訊息都會顯示\n",
    "logging.basicConfig(level=logging.WARNING)\n",
    "\n",
    "logging.debug('This is a DEBUG message')    # 顯示調試資訊\n",
    "logging.info('This is an INFO message')     # 顯示一般資訊\n",
    "logging.warning('This is a WARNING message') # 顯示警告資訊\n",
    "logging.error('This is an ERROR message')   # 顯示錯誤資訊\n",
    "logging.critical('This is a CRITICAL message') # 顯示嚴重錯誤資訊"
   ]
  },
  {
   "cell_type": "code",
   "execution_count": 47,
   "metadata": {},
   "outputs": [
    {
     "name": "stderr",
     "output_type": "stream",
     "text": [
      "DEBUG:root:This will not show\n",
      "INFO:root:This will not show either\n",
      "WARNING:root:This is a WARNING message\n",
      "ERROR:root:This is an ERROR message\n",
      "CRITICAL:root:This is a CRITICAL message\n"
     ]
    }
   ],
   "source": [
    "import logging\n",
    "\n",
    "# 設定 logging 等級為 WARNING，DEBUG 和 INFO 等級將不顯示\n",
    "logging.basicConfig(level=logging.WARNING)\n",
    "\n",
    "logging.debug('This will not show')         # 不會顯示\n",
    "logging.info('This will not show either')   # 不會顯示\n",
    "logging.warning('This is a WARNING message') # 顯示警告資訊\n",
    "logging.error('This is an ERROR message')   # 顯示錯誤資訊\n",
    "logging.critical('This is a CRITICAL message') # 顯示嚴重錯誤資訊"
   ]
  },
  {
   "cell_type": "markdown",
   "metadata": {},
   "source": [
    "![upgit_20241021_1729490900.png](https://raw.githubusercontent.com/kcwc1029/obsidian-upgit-image/main/2024/10/upgit_20241021_1729490900.png)"
   ]
  },
  {
   "cell_type": "markdown",
   "metadata": {},
   "source": []
  },
  {
   "cell_type": "markdown",
   "metadata": {},
   "source": []
  },
  {
   "cell_type": "markdown",
   "metadata": {},
   "source": []
  }
 ],
 "metadata": {
  "kernelspec": {
   "display_name": "base",
   "language": "python",
   "name": "python3"
  },
  "language_info": {
   "codemirror_mode": {
    "name": "ipython",
    "version": 3
   },
   "file_extension": ".py",
   "mimetype": "text/x-python",
   "name": "python",
   "nbconvert_exporter": "python",
   "pygments_lexer": "ipython3",
   "version": "3.12.4"
  }
 },
 "nbformat": 4,
 "nbformat_minor": 2
}
