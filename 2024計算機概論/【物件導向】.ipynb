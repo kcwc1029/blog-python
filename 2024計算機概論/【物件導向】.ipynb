{
 "cells": [
  {
   "cell_type": "markdown",
   "metadata": {},
   "source": [
    "## YT物件導向教學\n",
    "- https://www.youtube.com/watch?v=WBrX9n0SWG8\n",
    "- https://www.youtube.com/watch?v=fELYoevwnag&t=273s\n",
    "- https://ithelp.ithome.com.tw/articles/10265795"
   ]
  },
  {
   "cell_type": "markdown",
   "metadata": {},
   "source": [
    "- 物件導向程式設計（Object-Oriented Programming, OOP）是一種程式設計範式，它將程式組織成物件，這些物件包含資料（屬性）和操作資料的行為（方法）。OOP 使得程式更具結構性、可讀性和可維護性。\n",
    "- 我們先來認識<<關於我轉生變成史萊姆這檔事>>裡面的大鬼族。\n",
    "- https://zh.wikipedia.org/wiki/%E9%97%9C%E6%96%BC%E6%88%91%E8%BD%89%E7%94%9F%E8%AE%8A%E6%88%90%E5%8F%B2%E8%90%8A%E5%A7%86%E9%80%99%E6%AA%94%E4%BA%8B%E8%A7%92%E8%89%B2%E5%88%97%E8%A1%A8\n",
    "\n",
    "![upgit_20240813_1723542504.png](https://raw.githubusercontent.com/kcwc1029/obsidian-upgit-image/main/2024/08/upgit_20240813_1723542504.png)\n",
    "\n",
    "- 所以，【大鬼族】就是我們的類別(class)，而在大鬼族(class)裡面有下面資訊：\n",
    "    - 特徵，個性，必殺技 -> 這個就是【屬性】(attribute)\n",
    "    - 使出招式-> 這個就是【方法】(method)\n",
    "- 所以，我們可以寫成這樣："
   ]
  },
  {
   "cell_type": "code",
   "execution_count": 1,
   "metadata": {},
   "outputs": [
    {
     "name": "stdout",
     "output_type": "stream",
     "text": [
      "帥氣\n",
      "料理人\n",
      "個性：帥氣\n"
     ]
    }
   ],
   "source": [
    "class 大鬼族:\n",
    "    # 初始化class(self, 其他自己接)\n",
    "    def __init__(self, 特徵, 個性, 必殺技):\n",
    "        self.特徵 = 特徵\n",
    "        self.個性 = 個性\n",
    "        self.必殺技 = 必殺技\n",
    "        \n",
    "    # 使用class自己的參數\n",
    "    def 弒大將(self):\n",
    "        print(f\"使用招數【弒大將】\")\n",
    "    def check_personality(self):\n",
    "        print(f\"個性：{self.個性}\")\n",
    "    \n",
    "\n",
    "紅丸=大鬼族(\"紅髮\",\"帥氣\",\"紅蓮\")\n",
    "紫苑=大鬼族(\"做飯很可怕\",\"身材很好\",\"料理人\")\n",
    "print(紅丸.個性) # 帥氣\n",
    "print(紫苑.必殺技) # 料理人\n",
    "紅丸.check_personality() # 個性：帥氣"
   ]
  },
  {
   "cell_type": "markdown",
   "metadata": {},
   "source": [
    "- 但盡量變數不要用中文，所以我們把它改成正常一點。"
   ]
  },
  {
   "cell_type": "code",
   "execution_count": 2,
   "metadata": {},
   "outputs": [
    {
     "name": "stdout",
     "output_type": "stream",
     "text": [
      "<class '__main__.Robot'>\n",
      "助教\n",
      "23\n",
      "助教 is walking.\n",
      "助教 is going to sleep for 15 hours.\n"
     ]
    }
   ],
   "source": [
    "class Robot:\n",
    "    # 初始化class(self, 其他自己接)\n",
    "    def __init__(self, name, age):\n",
    "        self.name = name\n",
    "        self.age = age\n",
    "        \n",
    "    # 使用class自己的參數\n",
    "    def walk(self):\n",
    "        print(f\"{self.name} is walking.\")\n",
    "\n",
    "    # 除了class裡面的參數，還有額外參數\n",
    "    def sleep(self, hours):\n",
    "        print(f\"{self.name} is going to sleep for {hours} hours.\")\n",
    "\n",
    "# 訪問屬性和方法\n",
    "my_robot = Robot(\"助教\",23)\n",
    "print(type(my_robot)) # <class '__main__.Robot'>\n",
    "\n",
    "\n",
    "\n",
    "print(my_robot.name) # 助教\n",
    "print(my_robot.age) # 23\n",
    "my_robot.walk() # 助教 is walking.\n",
    "my_robot.sleep(15) # 助教 is going to sleep for 15 hours."
   ]
  },
  {
   "cell_type": "markdown",
   "metadata": {},
   "source": [
    "## oop class attribute（屬性）"
   ]
  },
  {
   "cell_type": "markdown",
   "metadata": {},
   "source": [
    "\n",
    "- 屬性就想成，是HP、MP這種自身的參數。\n",
    "- 這邊要介紹另一部動漫<<[怪獸8號](https://www.youtube.com/watch?v=CarsLstLs2s)>>，對他很好看ww\n",
    "\n",
    "![upgit_20240813_1723542553.png](https://raw.githubusercontent.com/kcwc1029/obsidian-upgit-image/main/2024/08/upgit_20240813_1723542553.png)\n",
    "\n",
    "- 那它裡面要的平凡人，如果要打怪獸，就要穿上解放衣，並且激發解放力。\n",
    "\n",
    "![upgit_20240813_1723542605.png](https://raw.githubusercontent.com/kcwc1029/obsidian-upgit-image/main/2024/08/upgit_20240813_1723542605.png)"
   ]
  },
  {
   "cell_type": "markdown",
   "metadata": {},
   "source": [
    "## 覆寫屬性"
   ]
  },
  {
   "cell_type": "code",
   "execution_count": 12,
   "metadata": {},
   "outputs": [
    {
     "name": "stdout",
     "output_type": "stream",
     "text": [
      "姊姊你會不會哈基米呀\n"
     ]
    }
   ],
   "source": [
    "class human():\n",
    "    def __init__(self):\n",
    "        self.eye = 2\n",
    "        self.ear = 2\n",
    "        self.nose = 1\n",
    "        self.mouth = 1\n",
    "    def say(self, msg):\n",
    "        print(f'{self.name} say: {msg}')\n",
    "    def play(self, thing):\n",
    "        print(thing)\n",
    "\n",
    "TA = human()\n",
    "TA.play = '姊姊你會不會哈基米呀'  # 覆寫 play 屬性\n",
    "print(TA.play)   "
   ]
  },
  {
   "cell_type": "markdown",
   "metadata": {},
   "source": [
    "### 第一種寫法：每個對象都有自己的屬性\n",
    "- 在這種寫法中，每個對象都有自己的 `name`、`age` 和 `ingredient` 屬性。\n",
    "- 每當創建一個新的對象時，這些屬性都會被賦予特定的值。\n",
    "- 這種寫法的優點是每個對象都可以擁有不同的屬性值，但缺點是如果多個對象具有相同的屬性值，會造成空間的浪費。"
   ]
  },
  {
   "cell_type": "code",
   "execution_count": 5,
   "metadata": {},
   "outputs": [
    {
     "data": {
      "text/plain": [
       "'TA'"
      ]
     },
     "execution_count": 5,
     "metadata": {},
     "output_type": "execute_result"
    }
   ],
   "source": [
    "class Robot1:\n",
    "    def __init__(self, name, age):\n",
    "        self.name = name\n",
    "        self.age = age\n",
    "        self.ingredient = \"metal\"\n",
    "\n",
    "# 創建class\n",
    "robot1 = Robot(\"weiwei\", 25)\n",
    "robot1.ingredient = \"TA\"\n",
    "\n",
    "robot1.ingredient"
   ]
  },
  {
   "cell_type": "markdown",
   "metadata": {},
   "source": [
    "### 第二種寫法：使用類屬性\n",
    "- 在這種寫法中，屬性 `ingredient` 被定義為類屬性，這意味著所有對象共享同一份 `ingredient` 屬性，而不是每個對象都有自己的副本。\n",
    "- 這種寫法節省了空間，但如果需要為不同的對象設置不同的屬性值，就不適用。"
   ]
  },
  {
   "cell_type": "code",
   "execution_count": 8,
   "metadata": {},
   "outputs": [
    {
     "name": "stdout",
     "output_type": "stream",
     "text": [
      "hi, my name is weiwei. and i am made of metal.\n",
      "Robot1 ingredient: metal\n",
      "Robot2 ingredient: metal\n",
      "Class attribute ingredient: metal\n",
      "Class attribute ingredient: TA\n"
     ]
    }
   ],
   "source": [
    "class Robot:\n",
    "    ingredient = \"metal\"\n",
    "    def __init__(self, name, age):\n",
    "        self.name = name\n",
    "        self.age = age\n",
    "    def greet(self):\n",
    "        print(f\"hi, my name is {self.name}. and i am made of {Robot.ingredient}.\")\n",
    "        \n",
    "# 創建class\n",
    "robot1 = Robot(\"weiwei\", 25)\n",
    "robot2 = Robot(\"robot2\", 30)\n",
    "robot1.greet()\n",
    "\n",
    "# 訪問class\n",
    "print(\"Robot1 ingredient:\", robot1.ingredient)  # 输出 \"metal\"\n",
    "print(\"Robot2 ingredient:\", robot2.ingredient)  # 输出 \"metal\"\n",
    "\n",
    "\n",
    "# 也可以通过class本身来訪問屬性\n",
    "print(\"Class attribute ingredient:\", Robot.ingredient)  # 输出 \"metal\"\n",
    "Robot.ingredient = \"TA\"\n",
    "print(\"Class attribute ingredient:\", Robot.ingredient)  # 输出 \"metal\""
   ]
  },
  {
   "cell_type": "markdown",
   "metadata": {},
   "source": [
    "### 第三種寫法：使用 `self.__class__.attribute`\n",
    "- 這種寫法類似於第二種寫法，但是在方法中使用了 self.__class__.ingredient 來訪問類屬性。這樣做的好處是，如果後續需要修改類屬性的值，只需在類定義中修改一次即可，所有對象都會自動更新，而無需修改每個對象的屬性值。"
   ]
  },
  {
   "cell_type": "code",
   "execution_count": 9,
   "metadata": {},
   "outputs": [
    {
     "name": "stdout",
     "output_type": "stream",
     "text": [
      "hi, my name is weiwei. and i am made of metal.\n",
      "Robot1 ingredient: metal\n",
      "Robot2 ingredient: metal\n"
     ]
    }
   ],
   "source": [
    "class Robot:\n",
    "    ingredient = \"metal\"\n",
    "    def __init__(self, name, age):\n",
    "        self.name = name\n",
    "        self.age = age\n",
    "    def greet(self):\n",
    "        print(f\"hi, my name is {self.name}. and i am made of {self.__class__.ingredient}.\")\n",
    "\n",
    "\n",
    "# 創建class\n",
    "robot1 = Robot(\"weiwei\", 25)\n",
    "robot2 = Robot(\"robot2\", 30)\n",
    "robot1.greet()\n",
    "\n",
    "# 访问class\n",
    "print(\"Robot1 ingredient:\", robot1.ingredient)  # 输出 \"metal\"\n",
    "print(\"Robot2 ingredient:\", robot2.ingredient)  # 输出 \"metal\""
   ]
  },
  {
   "cell_type": "markdown",
   "metadata": {},
   "source": [
    "## 建構子與解構子\n",
    "- 建構子，就是當你建立一個class的時候，就立即要做的事情。\n",
    "- 解構子是 `__del__` 方法，用於在物件被銷毀前執行清理操作。"
   ]
  },
  {
   "cell_type": "code",
   "execution_count": 15,
   "metadata": {},
   "outputs": [
    {
     "name": "stdout",
     "output_type": "stream",
     "text": [
      "Hi, my name is 助教 and I am 23 years old\n",
      "助教 is being deleted\n"
     ]
    }
   ],
   "source": [
    "class Person:\n",
    "    # 建構子\n",
    "    def __init__(self, name, age):\n",
    "        self.name = name\n",
    "        self.age = age\n",
    "\n",
    "    def introduce(self):\n",
    "        print(f\"Hi, my name is {self.name} and I am {self.age} years old\")\n",
    "    def __del__(self):\n",
    "        print(f\"{self.name} is being deleted\")\n",
    "\n",
    "person = Person(\"助教\", 23)\n",
    "person.introduce()  # Hi, my name is 助教 and I am 23 years old\n",
    "del person  # 助教 is being deleted"
   ]
  },
  {
   "cell_type": "markdown",
   "metadata": {},
   "source": [
    "## 方法(method)\n",
    "\n",
    "### 實例化方法(Instance Method)\n",
    "-   第一個參數為 self。\n",
    "-   實例化後，可以訪問物件屬性和實例方法。"
   ]
  },
  {
   "cell_type": "code",
   "execution_count": 16,
   "metadata": {},
   "outputs": [
    {
     "name": "stdout",
     "output_type": "stream",
     "text": [
      "This is an instance method.\n"
     ]
    }
   ],
   "source": [
    "class MyClass:\n",
    "    def instance_method(self):\n",
    "        print(\"This is an instance method.\")\n",
    "\n",
    "obj = MyClass()\n",
    "obj.instance_method() # This is an instance method."
   ]
  },
  {
   "cell_type": "markdown",
   "metadata": {},
   "source": [
    "### 靜態方法(Static Method)\n",
    "-   使用 @staticmethod 裝飾器定義的方法，不需要特定的第一個參數。\n",
    "-   與類別和實例無關的操作，不訪問實例和類別的屬性。"
   ]
  },
  {
   "cell_type": "code",
   "execution_count": 21,
   "metadata": {},
   "outputs": [
    {
     "name": "stdout",
     "output_type": "stream",
     "text": [
      "Static MethodClass Variable.\n"
     ]
    }
   ],
   "source": [
    "class MyClass:\n",
    "    class_variable = \"Class Variable\"\n",
    "    @staticmethod\n",
    "    def static_method():\n",
    "        print(f\"Static Method{MyClass.class_variable}.\")\n",
    "\n",
    "# 使用靜態方法\n",
    "MyClass.static_method() # Static Method."
   ]
  },
  {
   "cell_type": "markdown",
   "metadata": {},
   "source": [
    "### 類別方法(Class Method)\n",
    "-   使用 @classmethod 裝飾器定義的方法，第一個參數為 cls。\n",
    "-   整個類別相關的操作，可以訪問類別的屬性和其他類別方法。"
   ]
  },
  {
   "cell_type": "code",
   "execution_count": 17,
   "metadata": {},
   "outputs": [
    {
     "name": "stdout",
     "output_type": "stream",
     "text": [
      "Class Method. Class Variable: Class Variable\n"
     ]
    }
   ],
   "source": [
    "class MyClass:\n",
    "    class_variable = \"Class Variable\"\n",
    "    @classmethod\n",
    "    def class_method(cls):\n",
    "        print(f\"Class Method. Class Variable: {cls.class_variable}\")\n",
    "\n",
    "# 使用類別方法\n",
    "MyClass.class_method() # Class Method. Class Variable: Class Variable"
   ]
  },
  {
   "cell_type": "markdown",
   "metadata": {},
   "source": [
    "### 綜合示範"
   ]
  },
  {
   "cell_type": "code",
   "execution_count": 22,
   "metadata": {},
   "outputs": [
    {
     "name": "stdout",
     "output_type": "stream",
     "text": [
      "[<__main__.Circle object at 0x000001C30B541190>]\n",
      "[<__main__.Circle object at 0x000001C30B541190>, <__main__.Circle object at 0x000001C30B5414C0>]\n",
      "314.159\n",
      "1021.01675\n",
      "1021.01675\n"
     ]
    }
   ],
   "source": [
    "class Circle:\n",
    "    pi = 3.14159\n",
    "    all_circles = []\n",
    "    # 建構子\n",
    "    def __init__(self,radius):\n",
    "        self.radius = radius\n",
    "        self.all_circles.append(self)\n",
    "    \n",
    "\t# Instance Method(最一般的)\n",
    "    def area(self):\n",
    "        return self.pi * (self.radius**2)\n",
    "        \n",
    "\t# Class Method 類別方法\n",
    "    @classmethod\n",
    "    def total_area2(cls):\n",
    "        total = 0\n",
    "        for i in cls.all_circles:\n",
    "            total += i.area()\n",
    "        return total\n",
    "    \n",
    "\t# Static Method 靜態方法\n",
    "    @staticmethod\n",
    "    def total_area():\n",
    "        total = 0\n",
    "        for i in Circle.all_circles:\n",
    "            total += i.area()\n",
    "        return total\n",
    "\n",
    "c1 = Circle(10)\n",
    "print(c1.all_circles) # [<__main__.Circle object at 0x00000102F199B490>]\n",
    "c2 = Circle(15)\n",
    "print(c1.all_circles) # [<__main__.Circle object at 0x00000102F19797D0>, <__main__.Circle object at 0x00000102F0B6E490>]\n",
    "print(c1.area()) # 314.159\n",
    "print(c1.total_area2()) # 1021.01675\n",
    "print(c1.total_area()) # 1021.01675"
   ]
  },
  {
   "cell_type": "markdown",
   "metadata": {},
   "source": [
    "## 繼承（inheritance）\n",
    "- 繼承允許一個類（子類）繼承另一個類（父類）的屬性和方法。\n",
    "\n",
    "![upgit_20241027_1730044752.png](https://raw.githubusercontent.com/kcwc1029/obsidian-upgit-image/main/2024/10/upgit_20241027_1730044752.png)\n",
    "\n"
   ]
  },
  {
   "cell_type": "code",
   "execution_count": 32,
   "metadata": {},
   "outputs": [
    {
     "name": "stdout",
     "output_type": "stream",
     "text": [
      "23 10911221\n",
      "助教 is sleeping...\n",
      "助教 is eating now 怪獸8號蟲蟲...\n"
     ]
    }
   ],
   "source": [
    "class People:\n",
    "    def __init__(self, name, age) -> None:\n",
    "        self.name = name\n",
    "        self.age = age\n",
    "    def sleep(self):\n",
    "        print(f\"{self.name} is sleeping...\")\n",
    "    def eat(self):\n",
    "        print(f\"{self.name} is eating...\")\n",
    "\n",
    "\n",
    "class Student(People):\n",
    "    def __init__(self, name, age, student_id) -> None:\n",
    "        super().__init__(name, age) # 繼承\n",
    "        self.student_id = student_id\n",
    "\n",
    "    def eat(self,food): # 方法可以被覆寫\n",
    "        print(f\"{self.name} is eating now {food}...\")\n",
    "\n",
    "student1 = Student(\"助教\", 23, 10911221)\n",
    "print(student1.age, student1.student_id) # 23 10911221\n",
    "student1.sleep() # 助教 is sleeping...\n",
    "student1.eat(\"怪獸8號蟲蟲\") # 助教 is eating now 怪獸8號蟲蟲..."
   ]
  },
  {
   "cell_type": "markdown",
   "metadata": {},
   "source": [
    "## 多型（Polymorphism）\n",
    "- 多型允許同一方法在不同物件中有不同的實現。\n",
    "- 繼承時會覆寫方法。\n",
    "- [怪獸8號金句：](https://www.xiaohongshu.com/explore/667a624e000000001d016189?xsec_token=ABMsGp1brHyjqz20IYwaUfoIp7ainqynbGxIDl5J68iwc=&xsec_source=pc_search)\n",
    "\n",
    "![upgit_20241028_1730045206.png](https://raw.githubusercontent.com/kcwc1029/obsidian-upgit-image/main/2024/10/upgit_20241028_1730045206.png)"
   ]
  },
  {
   "cell_type": "code",
   "execution_count": 24,
   "metadata": {},
   "outputs": [
    {
     "name": "stdout",
     "output_type": "stream",
     "text": [
      "我還可以以你的身邊為目標前進嗎?\n",
      "恩，我會一直等你的\n"
     ]
    }
   ],
   "source": [
    "class People:\n",
    "    def speak(self):\n",
    "        return \"say something\"  \n",
    "class 卡夫卡(People):\n",
    "    def speak(self):\n",
    "        return \"我還可以以你的身邊為目標前進嗎?\"\n",
    "class 米娜(People):\n",
    "    def speak(self):\n",
    "        return \"恩，我會一直等你的\"\n",
    "    \n",
    "people1 = 卡夫卡()\n",
    "people2 = 米娜()\n",
    "print(people1.speak()) # '我還可以以你的身邊為目標前進嗎?'\n",
    "print(people2.speak()) # '恩，我會一直等你的'"
   ]
  },
  {
   "cell_type": "code",
   "execution_count": 25,
   "metadata": {},
   "outputs": [
    {
     "name": "stdout",
     "output_type": "stream",
     "text": [
      "55\n"
     ]
    }
   ],
   "source": [
    "class 亞白米娜(): # 防衛隊第3部隊的隊長\n",
    "    def __init__(self):\n",
    "        self.power = 96\n",
    "        self.years = 27\n",
    "        \n",
    "\n",
    "class 四之宮琪歌露(亞白米娜):\n",
    "    def __init__(self):\n",
    "        super().__init__()   # 使用 super() 繼承 亞白米娜 __init__ 裡所有屬性\n",
    "        self.power = 55 # 如果屬性相同，則覆寫屬性\n",
    "        self.years = 16\n",
    "        self.sex = \"female\"\n",
    "        \n",
    "\n",
    "class 日比野卡夫卡(亞白米娜):\n",
    "    def __init__(self):\n",
    "        super().__init__()   # 使用 super() 繼承 亞白米娜 __init__ 裡所有屬性\n",
    "        self.power = 1 # 如果屬性相同，則覆寫屬性\n",
    "        self.years = 32\n",
    "        self.sex = \"male\"\n",
    "\n",
    "person = 四之宮琪歌露()\n",
    "print(person.power) # 55"
   ]
  },
  {
   "cell_type": "markdown",
   "metadata": {},
   "source": [
    "## 多重繼承\n",
    "- 繼承不僅能進行單一繼承，也可以進行多重繼承，例如可以從爸爸身上繼承基因，同時也可以從媽媽身上繼承基因一般。"
   ]
  },
  {
   "cell_type": "code",
   "execution_count": 35,
   "metadata": {},
   "outputs": [
    {
     "name": "stdout",
     "output_type": "stream",
     "text": [
      "2\n",
      "painting\n",
      "play phone\n"
     ]
    }
   ],
   "source": [
    "class father():          \n",
    "    def __init__(self):  \n",
    "        self.eye = 2\n",
    "        self.ear = 2\n",
    "        self.nose = 1\n",
    "        self.mouth = 1\n",
    "\n",
    "class mother():          # mother 类\n",
    "    def language(self):  # mother 的方法\n",
    "        print('english')\n",
    "    def skill(self):\n",
    "        print('painting')\n",
    "\n",
    "class son(father, mother):    # 继承 father 和 mother\n",
    "    def __init__(self):      \n",
    "        super().__init__()    # 繼承爸爸媽媽\n",
    "    def play(self):           \n",
    "        print('play phone')\n",
    "\n",
    "person = son()\n",
    "print(person.eye)        # 输出 2\n",
    "person.skill()           # 输出 painting\n",
    "person.play()            # 输出 ball\n",
    "\n",
    "\n",
    "\n",
    "##################################################\n",
    "# 但這邊有一個小bug，就是我在父類的屬性是直接寫死，\n",
    "# 所以在寫繼承的時候，super().__init__()可以不寫其他任何東西。\n",
    "##################################################\n",
    "# 參考：寫完整的形式\n",
    "# class Student(People):\n",
    "#     def __init__(self, name, age, student_id) -> None:\n",
    "#         super().__init__(name, age) # 繼承\n",
    "#         self.student_id = student_id\n",
    "\n",
    "#     def eat(self,food): # 方法可以被覆寫\n",
    "#         print(f\"{self.name} is eating now {food}...\")"
   ]
  },
  {
   "cell_type": "markdown",
   "metadata": {},
   "source": [
    "## 多層繼承"
   ]
  },
  {
   "cell_type": "code",
   "execution_count": 36,
   "metadata": {},
   "outputs": [
    {
     "name": "stdout",
     "output_type": "stream",
     "text": [
      "2\n",
      "painting\n",
      "ball\n"
     ]
    }
   ],
   "source": [
    "class grandpa():\n",
    "    def __init__(self):\n",
    "        self.eye = 2\n",
    "        self.ear = 2\n",
    "        self.nose = 1\n",
    "        self.mouth = 1\n",
    "\n",
    "class father(grandpa):\n",
    "    def __init__(self):\n",
    "        super().__init__()  # 调用父类的构造函数\n",
    "    def language(self):\n",
    "        print('english')\n",
    "    def skill(self):\n",
    "        print('painting')\n",
    "\n",
    "class son(father):\n",
    "    def __init__(self):\n",
    "        super().__init__()  # 调用父类的构造函数\n",
    "    def play(self):\n",
    "        print('ball')\n",
    "\n",
    "person = son()\n",
    "print(person.eye)    # 输出 2\n",
    "person.skill()       # 输出 painting\n",
    "person.play()        # 输出 ball\n",
    "\n",
    "##################################################\n",
    "# 但這邊有一個小bug，就是我在父類的屬性是直接寫死，\n",
    "# 所以在寫繼承的時候，super().__init__()可以不寫其他任何東西。\n",
    "##################################################\n",
    "# 參考：寫完整的形式\n",
    "# class Student(People):\n",
    "#     def __init__(self, name, age, student_id) -> None:\n",
    "#         super().__init__(name, age) # 繼承\n",
    "#         self.student_id = student_id\n",
    "\n",
    "#     def eat(self,food): # 方法可以被覆寫\n",
    "#         print(f\"{self.name} is eating now {food}...\")"
   ]
  },
  {
   "cell_type": "markdown",
   "metadata": {},
   "source": [
    "## 抽象（Abstraction）\n",
    "- 抽象是指僅顯示物件的必要屬性和行為，隱藏內部的實現細節。\n",
    "- python要借助套件實現。"
   ]
  },
  {
   "cell_type": "code",
   "execution_count": 39,
   "metadata": {},
   "outputs": [
    {
     "name": "stdout",
     "output_type": "stream",
     "text": [
      "我還可以以你的身邊為目標前進嗎?\n",
      "恩，我會一直等你的\n"
     ]
    }
   ],
   "source": [
    "from abc import ABC, abstractmethod\n",
    "\n",
    "class Moster(ABC):\n",
    "    @abstractmethod\n",
    "    def say(self):\n",
    "    \treturn \"我會一直等你的\"\n",
    "class 卡夫卡(Moster):\n",
    "    def say(self):\n",
    "        return \"我還可以以你的身邊為目標前進嗎?\"\n",
    "class 米娜(Moster):\n",
    "    def say(self):\n",
    "        return \"恩，我會一直等你的\"\n",
    "    \n",
    "# error\n",
    "# thief = Moster()\n",
    "# thief.say() # Can't instantiate abstract class Moster with abstract method say\n",
    "\n",
    "# correct\n",
    "person1 = 卡夫卡() \n",
    "person2 = 米娜() \n",
    "print(person1.say())# 我還可以以你的身邊為目標前進嗎?\n",
    "print(person2.say())# 恩，我會一直等你的"
   ]
  },
  {
   "cell_type": "markdown",
   "metadata": {},
   "source": [
    "## 封裝（Encapsulation）與私有化\n",
    "- 封裝是將資料和方法綁定在一起，並隱藏物件的內部細節。可以透過在屬性或方法前加上雙下劃線（__）將其設為私有。"
   ]
  },
  {
   "cell_type": "markdown",
   "metadata": {},
   "source": [
    "### getter & setter"
   ]
  },
  {
   "cell_type": "code",
   "execution_count": 40,
   "metadata": {},
   "outputs": [
    {
     "name": "stdout",
     "output_type": "stream",
     "text": [
      "female\n"
     ]
    }
   ],
   "source": [
    "# 在python中，一般的屬性，是屬於公開的，也因此可以隨意竄改。\n",
    "class Robot:\n",
    "    def __init__(self,name, age) -> None:\n",
    "        self.name = name\n",
    "        self.age = age \n",
    "        self.sex = \"male\" # public\n",
    "my_robot = Robot(\"TA\", 23)\n",
    "my_robot.sex = \"female\" # 數值被隨意篡改了，也正因此有了private的概念\n",
    "print(my_robot.sex) # female"
   ]
  },
  {
   "cell_type": "code",
   "execution_count": 41,
   "metadata": {},
   "outputs": [
    {
     "data": {
      "text/plain": [
       "'female'"
      ]
     },
     "execution_count": 41,
     "metadata": {},
     "output_type": "execute_result"
    }
   ],
   "source": [
    "# 增加getter跟setter的概念\n",
    "class Robot:\n",
    "    def __init__(self,name, age) -> None:\n",
    "        self.name = name\n",
    "        self.age = age \n",
    "        self.__sex = \"male\" \n",
    "    # getter\n",
    "    def getter(self):\n",
    "        return self.__sex\n",
    "    # setter\n",
    "    def setter(self, new_sex): # 更改要透過函數\n",
    "        self.__sex = new_sex\n",
    "    \n",
    "my_robot = Robot(\"TA\", 23)\n",
    "my_robot.getter() # male\n",
    "my_robot.setter(\"female\")\n",
    "my_robot.getter() # female"
   ]
  },
  {
   "cell_type": "markdown",
   "metadata": {},
   "source": [
    "## 裝飾器@property decorator(只讀)"
   ]
  },
  {
   "cell_type": "markdown",
   "metadata": {},
   "source": [
    "- 如果在類別裡有些屬性不希望被外部更動，就能夠使用 @property 的裝飾器，將該屬性設為唯讀屬性\n",
    "- 要使用的話，要用屬性的方式歐。"
   ]
  },
  {
   "cell_type": "code",
   "execution_count": 42,
   "metadata": {},
   "outputs": [
    {
     "data": {
      "text/plain": [
       "'我是金句破壞王'"
      ]
     },
     "execution_count": 42,
     "metadata": {},
     "output_type": "execute_result"
    }
   ],
   "source": [
    "class 卡夫卡():\n",
    "    def __init__(self):\n",
    "        self.sentence = \"我還可以以你的身邊為目標前進嗎?\"\n",
    "    def say(self):\n",
    "        return self.sentence\n",
    "    \n",
    "person1 = 卡夫卡()\n",
    "person1.say() # '我還可以以你的身邊為目標前進嗎?'\n",
    "\n",
    "person1.sentence = \"我是金句破壞王\" # 屬性被更改掉了\n",
    "person1.say() # '我是金句破壞王'"
   ]
  },
  {
   "cell_type": "code",
   "execution_count": 43,
   "metadata": {},
   "outputs": [
    {
     "data": {
      "text/plain": [
       "'恩，我會一直等你的'"
      ]
     },
     "execution_count": 43,
     "metadata": {},
     "output_type": "execute_result"
    }
   ],
   "source": [
    "# 將sentence設為only read\n",
    "class 米娜():\n",
    "    def __init__(self):\n",
    "        self.sentence = \"恩，我會一直等你的\"\n",
    "    @property\n",
    "    def say(self):\n",
    "        return self.sentence\n",
    "\n",
    "person1 = 米娜()\n",
    "\n",
    "person1.say # '恩，我會一直等你的'\n",
    "# person1.say = \"4546\" # error"
   ]
  },
  {
   "cell_type": "markdown",
   "metadata": {},
   "source": [
    "## 魔術方法 dunder method (magic method)（補充）"
   ]
  },
  {
   "cell_type": "markdown",
   "metadata": {},
   "source": [
    "### 建構子 `__init__(self, ...)`"
   ]
  },
  {
   "cell_type": "code",
   "execution_count": 44,
   "metadata": {},
   "outputs": [],
   "source": [
    "class Robot:\n",
    "    def __init__(self, name):\n",
    "        self.name = name"
   ]
  },
  {
   "cell_type": "markdown",
   "metadata": {},
   "source": [
    "### `__str__(self)`\n",
    "- 適合於人類可讀性。如果你調用 `str()` 或 `print()` 對象，將會使用這個方法的結果。"
   ]
  },
  {
   "cell_type": "code",
   "execution_count": 49,
   "metadata": {},
   "outputs": [
    {
     "name": "stdout",
     "output_type": "stream",
     "text": [
      "Robot named TA\n"
     ]
    }
   ],
   "source": [
    "class Robot:\n",
    "    def __init__(self, name):\n",
    "        self.name = name\n",
    "\n",
    "    def __str__(self):\n",
    "        return f\"Robot named {self.name}\"\n",
    "\n",
    "robot1 = Robot(\"TA\")\n",
    "print(str(robot1))"
   ]
  },
  {
   "cell_type": "markdown",
   "metadata": {},
   "source": [
    "### `__repr__(self)`\n",
    "- 用於debug。`repr()` 函數使用這個方法的結果。"
   ]
  },
  {
   "cell_type": "code",
   "execution_count": 50,
   "metadata": {},
   "outputs": [
    {
     "name": "stdout",
     "output_type": "stream",
     "text": [
      "Robot(name=TA)\n"
     ]
    }
   ],
   "source": [
    "class Robot:\n",
    "    def __init__(self, name):\n",
    "        self.name = name\n",
    "\n",
    "    def __repr__(self):\n",
    "        return f\"Robot(name={self.name})\"\n",
    "\n",
    "robot1 = Robot(\"TA\")\n",
    "print(robot1)"
   ]
  },
  {
   "cell_type": "markdown",
   "metadata": {},
   "source": [
    "### `__len__(self)`\n",
    "- 定義在對象上使用 `len()` 函數時返回的長度。"
   ]
  },
  {
   "cell_type": "code",
   "execution_count": 55,
   "metadata": {},
   "outputs": [
    {
     "name": "stdout",
     "output_type": "stream",
     "text": [
      "20\n",
      "True\n"
     ]
    }
   ],
   "source": [
    "class Container:\n",
    "    def __init__(self, size01, size02):\n",
    "        self.size01 = size01\n",
    "        self.size02 = size02\n",
    "\n",
    "    def __len__(self):\n",
    "        return self.size02\n",
    "    \n",
    "container01 = Container(10, 23)\n",
    "container02 = Container(15, 20)\n",
    "print(len(container02))\n",
    "print(len(container01)>len(container02))"
   ]
  },
  {
   "cell_type": "markdown",
   "metadata": {},
   "source": [
    "###  `__eq__(self, other)`、`__lt__(self, other)`\n",
    "- 定義對象的相等比較行為 (`==`)。\n",
    "- 定義小於比較行為 (`<`)。"
   ]
  },
  {
   "cell_type": "code",
   "execution_count": 59,
   "metadata": {},
   "outputs": [
    {
     "name": "stdout",
     "output_type": "stream",
     "text": [
      "True\n",
      "True\n"
     ]
    }
   ],
   "source": [
    "class Robot:\n",
    "    def __init__(self, name, address, phone_number, power_level):\n",
    "        self.name = name\n",
    "        self.address = address\n",
    "        self.phone_number = phone_number\n",
    "        self.power_level= power_level\n",
    "\n",
    "    def __eq__(self, other):\n",
    "        return self.name == other.name\n",
    "    \n",
    "    def __lt__(self, other):\n",
    "        return self.power_level < other.power_level\n",
    "    \n",
    "robot1 = Robot(\"TA\", \"台南市\", \"8787\", 16)\n",
    "robot2 = Robot(\"TA\", \"高雄市\", \"7878\", 18)\n",
    "\n",
    "print(robot1==robot2)\n",
    "print(robot1<robot2)"
   ]
  },
  {
   "cell_type": "markdown",
   "metadata": {},
   "source": [
    "### `__getitem__(self, key)`、`__setitem__(self, key, value)`\n",
    "- 定義對象的索引操作行為 (`obj[key]`)。\n",
    "- 定義對象的索引賦值行為 (`obj[key] = value`)。"
   ]
  },
  {
   "cell_type": "code",
   "execution_count": 62,
   "metadata": {},
   "outputs": [
    {
     "name": "stdout",
     "output_type": "stream",
     "text": [
      "20\n",
      "99\n",
      "[10, 99, 30, 40]\n"
     ]
    }
   ],
   "source": [
    "class CustomList:\n",
    "    def __init__(self, items):\n",
    "        self.items = items\n",
    "    def __getitem__(self, index):\n",
    "        return self.items[index]\n",
    "    def __setitem__(self, index, value):\n",
    "        self.items[index] = value\n",
    "\n",
    "# 創建 CustomList 的實例\n",
    "my_list = CustomList([10, 20, 30, 40])\n",
    "\n",
    "# 使用 __getitem__ 方法（透過索引訪問元素）\n",
    "print(my_list[1])  # 輸出：20\n",
    "\n",
    "# 使用 __setitem__ 方法（透過索引設置元素）\n",
    "my_list[1] = 99\n",
    "print(my_list[1])  # 輸出：99\n",
    "\n",
    "# 查看整個列表\n",
    "print(my_list.items)  # 輸出：[10, 99, 30, 40]\n"
   ]
  },
  {
   "cell_type": "markdown",
   "metadata": {},
   "source": [
    "###  `__call__(self, *args, **kwargs)`\n",
    "- 使得一個對象可以像函數一樣被調用。"
   ]
  },
  {
   "cell_type": "code",
   "execution_count": 64,
   "metadata": {},
   "outputs": [
    {
     "name": "stdout",
     "output_type": "stream",
     "text": [
      "Hello, Alice!\n",
      "Hello, Bob!\n"
     ]
    }
   ],
   "source": [
    "class Greeter:\n",
    "    def __init__(self, greeting):\n",
    "        self.greeting = greeting\n",
    "\n",
    "    # 定義 __call__ 方法\n",
    "    def __call__(self, name):\n",
    "        return f\"{self.greeting}, {name}!\"\n",
    "\n",
    "# 創建 Greeter 類別的實例\n",
    "greeter = Greeter(\"Hello\")\n",
    "\n",
    "# 使用實例像函數一樣調用\n",
    "print(greeter(\"Alice\"))  # 輸出：Hello, Alice!\n",
    "print(greeter(\"Bob\"))    # 輸出：Hello, Bob!\n"
   ]
  }
 ],
 "metadata": {
  "kernelspec": {
   "display_name": "base",
   "language": "python",
   "name": "python3"
  },
  "language_info": {
   "codemirror_mode": {
    "name": "ipython",
    "version": 3
   },
   "file_extension": ".py",
   "mimetype": "text/x-python",
   "name": "python",
   "nbconvert_exporter": "python",
   "pygments_lexer": "ipython3",
   "version": "3.12.4"
  }
 },
 "nbformat": 4,
 "nbformat_minor": 2
}
