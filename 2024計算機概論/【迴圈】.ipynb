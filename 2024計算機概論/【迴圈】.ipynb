{
 "cells": [
  {
   "cell_type": "markdown",
   "metadata": {},
   "source": [
    "## 1 for 迴圈\n",
    "\n",
    "- 當你知道重複的數量(我要做3次、做7次等等)\n",
    "- 遍歷序列(如 list、tuple、字串等)中的每個元素"
   ]
  },
  {
   "cell_type": "markdown",
   "metadata": {},
   "source": [
    "這邊先來解釋一下list(在別的程式語言就是array)，中文我們稱呼為整列\n",
    "\n",
    "```python\n",
    "arr = [\"助教\", \"丁丁\",\"迪西\", \"拉拉\", \"小波\"]\n",
    "```"
   ]
  },
  {
   "cell_type": "code",
   "execution_count": 1,
   "metadata": {},
   "outputs": [
    {
     "name": "stdout",
     "output_type": "stream",
     "text": [
      "0 助教\n",
      "1 丁丁\n",
      "2 迪西\n",
      "3 拉拉\n",
      "4 小波\n"
     ]
    }
   ],
   "source": [
    "arr = [\"助教\", \"丁丁\",\"迪西\", \"拉拉\", \"小波\"]\n",
    "for i in range(len(arr)):\n",
    "    print(i, arr[i])"
   ]
  },
  {
   "cell_type": "code",
   "execution_count": 2,
   "metadata": {},
   "outputs": [
    {
     "data": {
      "text/plain": [
       "'小波'"
      ]
     },
     "execution_count": 2,
     "metadata": {},
     "output_type": "execute_result"
    }
   ],
   "source": [
    "arr[-1]"
   ]
  },
  {
   "cell_type": "code",
   "execution_count": 3,
   "metadata": {},
   "outputs": [
    {
     "name": "stdout",
     "output_type": "stream",
     "text": [
      "助教\n",
      "丁丁\n",
      "迪西\n",
      "拉拉\n",
      "小波\n"
     ]
    }
   ],
   "source": [
    "arr = [\"助教\", \"丁丁\",\"迪西\", \"拉拉\", \"小波\"]\n",
    "for i in arr:\n",
    "    print(i)"
   ]
  },
  {
   "cell_type": "markdown",
   "metadata": {},
   "source": [
    "### 1.1 range函數\n",
    "- 他是一個等差數據 `range(start, stop, step)`"
   ]
  },
  {
   "cell_type": "code",
   "execution_count": 4,
   "metadata": {},
   "outputs": [
    {
     "name": "stdout",
     "output_type": "stream",
     "text": [
      "**********"
     ]
    }
   ],
   "source": [
    "n = 10                         \n",
    "for number in range(10):  \n",
    "    print(\"*\",end=\"\")     # 列印星號"
   ]
  },
  {
   "cell_type": "code",
   "execution_count": 5,
   "metadata": {},
   "outputs": [
    {
     "name": "stdout",
     "output_type": "stream",
     "text": [
      "總和 =  55\n"
     ]
    }
   ],
   "source": [
    "n = 10\n",
    "sum_ = 0    # sum是內建函數, 不適合當作變數, 所以加上 _ \n",
    "for num in range(1,n+1):\n",
    "    sum_ += num\n",
    "print(\"總和 = \", sum_)"
   ]
  },
  {
   "cell_type": "code",
   "execution_count": 6,
   "metadata": {},
   "outputs": [
    {
     "name": "stdout",
     "output_type": "stream",
     "text": [
      "1 3 5 7 9 "
     ]
    }
   ],
   "source": [
    "for i in range(1,10,2):\n",
    "    print(i, end=\" \")"
   ]
  },
  {
   "cell_type": "markdown",
   "metadata": {},
   "source": [
    "### 1.2 迴圈結合判斷式"
   ]
  },
  {
   "cell_type": "code",
   "execution_count": 7,
   "metadata": {},
   "outputs": [
    {
     "name": "stdout",
     "output_type": "stream",
     "text": [
      "5 7 9 "
     ]
    }
   ],
   "source": [
    "for i in range(1,10,2):\n",
    "    if i >= 5:\n",
    "        print(i, end=\" \")"
   ]
  },
  {
   "cell_type": "markdown",
   "metadata": {},
   "source": [
    "### 1.3 雙重迴圈\n",
    "- 以99乘法表舉例：\n",
    "    - 1 * 5 = 5\n",
    "    - 3 * 4 = 12\n",
    "    - i * j = i*j"
   ]
  },
  {
   "cell_type": "code",
   "execution_count": 8,
   "metadata": {},
   "outputs": [
    {
     "name": "stdout",
     "output_type": "stream",
     "text": [
      "1*1=1   1*2=2   1*3=3   1*4=4   1*5=5   1*6=6   1*7=7   1*8=8   1*9=9   \n",
      "2*1=2   2*2=4   2*3=6   2*4=8   2*5=10  2*6=12  2*7=14  2*8=16  2*9=18  \n",
      "3*1=3   3*2=6   3*3=9   3*4=12  3*5=15  3*6=18  3*7=21  3*8=24  3*9=27  \n",
      "4*1=4   4*2=8   4*3=12  4*4=16  4*5=20  4*6=24  4*7=28  4*8=32  4*9=36  \n",
      "5*1=5   5*2=10  5*3=15  5*4=20  5*5=25  5*6=30  5*7=35  5*8=40  5*9=45  \n",
      "6*1=6   6*2=12  6*3=18  6*4=24  6*5=30  6*6=36  6*7=42  6*8=48  6*9=54  \n",
      "7*1=7   7*2=14  7*3=21  7*4=28  7*5=35  7*6=42  7*7=49  7*8=56  7*9=63  \n",
      "8*1=8   8*2=16  8*3=24  8*4=32  8*5=40  8*6=48  8*7=56  8*8=64  8*9=72  \n",
      "9*1=9   9*2=18  9*3=27  9*4=36  9*5=45  9*6=54  9*7=63  9*8=72  9*9=81  \n"
     ]
    }
   ],
   "source": [
    "for i in range(1,10):\n",
    "    for j in range(1, 10):\n",
    "        print(f\"{i}*{j}={i*j:<3d}\", end=\" \")\n",
    "    # 換行\n",
    "    print()"
   ]
  },
  {
   "cell_type": "markdown",
   "metadata": {},
   "source": [
    "\n",
    "![upgit_20240927_1727440139.png](https://raw.githubusercontent.com/kcwc1029/obsidian-upgit-image/main/2024/09/upgit_20240927_1727440139.png)"
   ]
  },
  {
   "cell_type": "code",
   "execution_count": 10,
   "metadata": {},
   "outputs": [
    {
     "name": "stdout",
     "output_type": "stream",
     "text": [
      "a\n",
      "aa\n",
      "aaa\n",
      "aaaa\n",
      "aaaaa\n",
      "aaaaaa\n",
      "aaaaaaa\n",
      "aaaaaaaa\n",
      "aaaaaaaaa\n"
     ]
    }
   ],
   "source": [
    "for i in range(1, 10):\n",
    "    for j in range(1, 10):\n",
    "        # print(\"a\", end=\"\")\n",
    "        if j <= i:print(\"a\", end=\"\")\n",
    "    print()      # 換列輸出"
   ]
  },
  {
   "cell_type": "markdown",
   "metadata": {},
   "source": [
    "## 2 while 迴圈\n",
    "- while 迴圈則根據一個條件來重複執行程式碼。"
   ]
  },
  {
   "cell_type": "code",
   "execution_count": 11,
   "metadata": {},
   "outputs": [
    {
     "name": "stdout",
     "output_type": "stream",
     "text": [
      "0 1 2 3 4 "
     ]
    }
   ],
   "source": [
    "count = 0\n",
    "while count < 5:\n",
    "    print(count, end=\" \")\n",
    "    count += 1 "
   ]
  },
  {
   "cell_type": "markdown",
   "metadata": {},
   "source": [
    "- 如果要達成無限迴圈"
   ]
  },
  {
   "cell_type": "code",
   "execution_count": 12,
   "metadata": {},
   "outputs": [
    {
     "name": "stdout",
     "output_type": "stream",
     "text": [
      "apple\n"
     ]
    }
   ],
   "source": [
    "msg1 = 'what is your favorite fruit, '\n",
    "msg2 = 'enter q, and you can exit'\n",
    "while True:\n",
    "    msg = msg1 + msg2\n",
    "    input_msg = input(msg)\n",
    "    if input_msg == \"q\":\n",
    "        break\n",
    "    else:\n",
    "        print(input_msg)\n",
    "    "
   ]
  },
  {
   "cell_type": "markdown",
   "metadata": {},
   "source": [
    "### 2.1 break\n",
    "- break：用於立即退出整個循環。"
   ]
  },
  {
   "cell_type": "code",
   "execution_count": 13,
   "metadata": {},
   "outputs": [
    {
     "name": "stdout",
     "output_type": "stream",
     "text": [
      "0 1 2 "
     ]
    }
   ],
   "source": [
    "# 使用 break\n",
    "for i in range(5):\n",
    "    if i == 3:\n",
    "        break\n",
    "    print(i, end=\" \")"
   ]
  },
  {
   "cell_type": "markdown",
   "metadata": {},
   "source": [
    "### 2.2 continue\n",
    "- continue 用於跳過本次循環,進入下一次循環。"
   ]
  },
  {
   "cell_type": "code",
   "execution_count": 14,
   "metadata": {},
   "outputs": [
    {
     "name": "stdout",
     "output_type": "stream",
     "text": [
      "0\n",
      "1\n",
      "2\n",
      "4\n"
     ]
    }
   ],
   "source": [
    "# 使用 continue\n",
    "for i in range(5):\n",
    "    if i == 3:\n",
    "        continue\n",
    "    print(i)  # 輸出: 0 1 2 4"
   ]
  },
  {
   "cell_type": "markdown",
   "metadata": {},
   "source": [
    "### 2.3 pass\n",
    "- pass 是 Python 中的一個空語句,它什麼也不做。"
   ]
  },
  {
   "cell_type": "code",
   "execution_count": 15,
   "metadata": {},
   "outputs": [
    {
     "name": "stdout",
     "output_type": "stream",
     "text": [
      "6\n"
     ]
    }
   ],
   "source": [
    "while True:\n",
    "    input_msg = int(input())\n",
    "    if input_msg == 0:\n",
    "        break\n",
    "    elif input_msg<5:\n",
    "        pass\n",
    "    else:\n",
    "        print(input_msg)"
   ]
  },
  {
   "cell_type": "markdown",
   "metadata": {},
   "source": [
    "## 3. 迴圈的相關函數\n",
    "- zip()：用於將多個序列打包成一個個元組。"
   ]
  },
  {
   "cell_type": "code",
   "execution_count": 16,
   "metadata": {},
   "outputs": [
    {
     "name": "stdout",
     "output_type": "stream",
     "text": [
      "[('助教', '可愛'), ('丁丁', '叮叮噹'), ('吉伊卡哇', '兄弟你好香')]\n"
     ]
    }
   ],
   "source": [
    "names = ['助教', '丁丁', '吉伊卡哇']\n",
    "ages = [\"可愛\", \"叮叮噹\", \"兄弟你好香\"]\n",
    "pairs = list(zip(names, ages))\n",
    "print(pairs)  "
   ]
  },
  {
   "cell_type": "markdown",
   "metadata": {},
   "source": [
    "- enumerate()` 函數用於在遍歷序列時獲取元素的索引和值。"
   ]
  },
  {
   "cell_type": "code",
   "execution_count": 18,
   "metadata": {},
   "outputs": [
    {
     "name": "stdout",
     "output_type": "stream",
     "text": [
      "0 助教\n",
      "1 丁丁\n",
      "2 迪西\n"
     ]
    }
   ],
   "source": [
    "people = ['助教', '丁丁', '迪西']\n",
    "# for i in people:\n",
    "for i, pp in enumerate(people):\n",
    "    # print(i)\n",
    "    print(i, pp)"
   ]
  }
 ],
 "metadata": {
  "kernelspec": {
   "display_name": "base",
   "language": "python",
   "name": "python3"
  },
  "language_info": {
   "codemirror_mode": {
    "name": "ipython",
    "version": 3
   },
   "file_extension": ".py",
   "mimetype": "text/x-python",
   "name": "python",
   "nbconvert_exporter": "python",
   "pygments_lexer": "ipython3",
   "version": "3.12.4"
  }
 },
 "nbformat": 4,
 "nbformat_minor": 2
}
