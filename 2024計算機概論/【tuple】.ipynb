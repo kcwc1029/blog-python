{
 "cells": [
  {
   "cell_type": "markdown",
   "metadata": {},
   "source": [
    "## 1 基本定義\n",
    "- Tuple是一種不可變的有序集合\n",
    "    - len()\n",
    "    - indexing\n",
    "    - count()\n",
    "    - set()"
   ]
  },
  {
   "cell_type": "code",
   "execution_count": 3,
   "metadata": {},
   "outputs": [
    {
     "name": "stdout",
     "output_type": "stream",
     "text": [
      "('助教', '丁丁', '迪西', '拉拉', '小波')\n",
      "<class 'tuple'>\n"
     ]
    }
   ],
   "source": [
    "arr = (\"助教\", \"丁丁\",\"迪西\", \"拉拉\", \"小波\") \n",
    "print(arr)\n",
    "print(type(arr)) # <class 'tuple'>"
   ]
  },
  {
   "cell_type": "markdown",
   "metadata": {},
   "source": [
    "## 2. 遍歷所有元素 "
   ]
  },
  {
   "cell_type": "code",
   "execution_count": 4,
   "metadata": {},
   "outputs": [
    {
     "name": "stdout",
     "output_type": "stream",
     "text": [
      "magic xaab 9099 "
     ]
    }
   ],
   "source": [
    "arr = ('magic', 'xaab', 9099)      # 定義元組元素是字串與數字\n",
    "for i in arr:\n",
    "    print(i, end=\" \")"
   ]
  },
  {
   "cell_type": "markdown",
   "metadata": {},
   "source": [
    "## 3 list與tuple互換"
   ]
  },
  {
   "cell_type": "code",
   "execution_count": 5,
   "metadata": {},
   "outputs": [
    {
     "name": "stdout",
     "output_type": "stream",
     "text": [
      "['助教', '丁丁', '迪西', '拉拉', '小波', '吉伊卡哇']\n"
     ]
    }
   ],
   "source": [
    "arr_tuple = (\"助教\", \"丁丁\",\"迪西\", \"拉拉\", \"小波\")\n",
    "arr = list(arr_tuple)\n",
    "arr.append(\"吉伊卡哇\")\n",
    "print(arr)"
   ]
  },
  {
   "cell_type": "code",
   "execution_count": 6,
   "metadata": {},
   "outputs": [
    {
     "name": "stdout",
     "output_type": "stream",
     "text": [
      "('助教', '丁丁', '迪西', '拉拉', '小波')\n"
     ]
    }
   ],
   "source": [
    "arr_list = [\"助教\", \"丁丁\", \"迪西\", \"拉拉\", \"小波\"]\n",
    "arr_tuple = tuple(arr_list)\n",
    "print(arr_tuple)"
   ]
  },
  {
   "cell_type": "markdown",
   "metadata": {},
   "source": [
    "## 4 讀取tuple & 切片"
   ]
  },
  {
   "cell_type": "code",
   "execution_count": 7,
   "metadata": {},
   "outputs": [
    {
     "name": "stdout",
     "output_type": "stream",
     "text": [
      "助教\n"
     ]
    }
   ],
   "source": [
    "arr = (\"助教\", \"丁丁\",\"迪西\", \"拉拉\", \"小波\")\n",
    "print(arr[0]) # 助教"
   ]
  },
  {
   "cell_type": "code",
   "execution_count": null,
   "metadata": {},
   "outputs": [],
   "source": [
    "arr = (\"助教\", \"丁丁\",\"迪西\", \"拉拉\", \"小波\")\n",
    "print(arr[1:3]) # ('丁丁', '迪西')\n",
    "print(arr[:2]) # ('助教', '丁丁')\n",
    "print(arr[1:]) # ('丁丁', '迪西', '拉拉', '小波')\n",
    "print(arr[-2:]) # ('拉拉', '小波')\n",
    "print(arr[0:5:2]) # ('助教', '迪西', '小波')"
   ]
  },
  {
   "cell_type": "markdown",
   "metadata": {},
   "source": [
    "## 5 tuple解包與打包"
   ]
  },
  {
   "cell_type": "markdown",
   "metadata": {},
   "source": [
    "![upgit_20240813_1723542222.png](https://raw.githubusercontent.com/kcwc1029/obsidian-upgit-image/main/2024/08/upgit_20240813_1723542222.png)"
   ]
  },
  {
   "cell_type": "markdown",
   "metadata": {},
   "source": [
    "### 5.1 Tuple Packing（元组打包）"
   ]
  },
  {
   "cell_type": "code",
   "execution_count": 8,
   "metadata": {},
   "outputs": [
    {
     "data": {
      "text/plain": [
       "(1, 'apple', 3.14)"
      ]
     },
     "execution_count": 8,
     "metadata": {},
     "output_type": "execute_result"
    }
   ],
   "source": [
    "packed_tuple = 1, 'apple', 3.14\n",
    "packed_tuple"
   ]
  },
  {
   "cell_type": "markdown",
   "metadata": {},
   "source": [
    "### 5.2 Tuple Unpacking（元组解包）"
   ]
  },
  {
   "cell_type": "code",
   "execution_count": 10,
   "metadata": {},
   "outputs": [
    {
     "name": "stdout",
     "output_type": "stream",
     "text": [
      "a: 1\n",
      "c: 3.14\n"
     ]
    }
   ],
   "source": [
    "my_tuple = (1, 'apple', 3.14)\n",
    "a, b, c = my_tuple # 數量不一樣會出錯\n",
    "print(\"a:\", a) # 1\n",
    "print(\"c:\", c) # 1"
   ]
  }
 ],
 "metadata": {
  "kernelspec": {
   "display_name": "base",
   "language": "python",
   "name": "python3"
  },
  "language_info": {
   "codemirror_mode": {
    "name": "ipython",
    "version": 3
   },
   "file_extension": ".py",
   "mimetype": "text/x-python",
   "name": "python",
   "nbconvert_exporter": "python",
   "pygments_lexer": "ipython3",
   "version": "3.12.4"
  }
 },
 "nbformat": 4,
 "nbformat_minor": 2
}
