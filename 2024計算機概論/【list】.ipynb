{
 "cells": [
  {
   "cell_type": "markdown",
   "metadata": {},
   "source": [
    "## 1 list的特性\n",
    "- 可以儲存多個資料\n",
    "- 屬於序列結構\n",
    "- 值是可變的(Modifiable)"
   ]
  },
  {
   "cell_type": "markdown",
   "metadata": {},
   "source": [
    "### 1.1 基本輸出"
   ]
  },
  {
   "cell_type": "code",
   "execution_count": 2,
   "metadata": {},
   "outputs": [
    {
     "name": "stdout",
     "output_type": "stream",
     "text": [
      "['助教', '丁丁', '迪西', '拉拉', '小波']\n",
      "<class 'list'>\n"
     ]
    }
   ],
   "source": [
    "arr = [\"助教\", \"丁丁\",\"迪西\", \"拉拉\", \"小波\"]\n",
    "print(arr)\n",
    "print(type(arr))"
   ]
  },
  {
   "cell_type": "markdown",
   "metadata": {},
   "source": [
    "### 1.2 list + 索引與切片"
   ]
  },
  {
   "cell_type": "code",
   "execution_count": 3,
   "metadata": {},
   "outputs": [
    {
     "name": "stdout",
     "output_type": "stream",
     "text": [
      "助教\n",
      "丁丁\n",
      "小波\n"
     ]
    }
   ],
   "source": [
    "arr = [\"助教\", \"丁丁\",\"迪西\", \"拉拉\", \"小波\"]\n",
    "\n",
    "# 索引\n",
    "print(arr[0])\n",
    "print(arr[1])\n",
    "print(arr[-1])"
   ]
  },
  {
   "cell_type": "code",
   "execution_count": 4,
   "metadata": {},
   "outputs": [
    {
     "name": "stdout",
     "output_type": "stream",
     "text": [
      "['助教', '丁丁', '迪西']\n",
      "['丁丁', '迪西', '拉拉']\n"
     ]
    }
   ],
   "source": [
    "# 切片\n",
    "print(arr[0:3])\n",
    "print(arr[1:4])"
   ]
  },
  {
   "cell_type": "markdown",
   "metadata": {},
   "source": [
    "### 1.3 list + 相加 & 相乘"
   ]
  },
  {
   "cell_type": "code",
   "execution_count": 5,
   "metadata": {},
   "outputs": [
    {
     "data": {
      "text/plain": [
       "['拉拉', '小波', '助教', '丁丁']"
      ]
     },
     "execution_count": 5,
     "metadata": {},
     "output_type": "execute_result"
    }
   ],
   "source": [
    "arr1 = [\"拉拉\", \"小波\"]\n",
    "arr2 = [\"助教\", \"丁丁\"]\n",
    "arr1+arr2"
   ]
  },
  {
   "cell_type": "code",
   "execution_count": 4,
   "metadata": {},
   "outputs": [
    {
     "data": {
      "text/plain": [
       "['拉拉', '小波', '拉拉', '小波', '拉拉', '小波']"
      ]
     },
     "execution_count": 4,
     "metadata": {},
     "output_type": "execute_result"
    }
   ],
   "source": [
    "arr1 = [\"拉拉\", \"小波\"]\n",
    "arr1*3"
   ]
  },
  {
   "cell_type": "code",
   "execution_count": 5,
   "metadata": {},
   "outputs": [
    {
     "name": "stdout",
     "output_type": "stream",
     "text": [
      "[1, 3, 5, 1, 3, 5, 1, 3, 5, 1, 3, 5, 1, 3, 5]\n",
      "5 15 25 "
     ]
    }
   ],
   "source": [
    "# 如果是【數字list】碰到【*】\n",
    "nums = [1, 3, 5]\n",
    "print(nums * 5) \n",
    "\n",
    "for i in nums:\n",
    "    print(i*5, end=\" \")"
   ]
  },
  {
   "cell_type": "markdown",
   "metadata": {},
   "source": [
    "### 1.4 判斷串列為空 & 把陣列清空"
   ]
  },
  {
   "cell_type": "code",
   "execution_count": 6,
   "metadata": {},
   "outputs": [
    {
     "data": {
      "text/plain": [
       "5"
      ]
     },
     "execution_count": 6,
     "metadata": {},
     "output_type": "execute_result"
    }
   ],
   "source": [
    "arr = [\"助教\", \"丁丁\",\"迪西\", \"拉拉\", \"小波\"] \n",
    "len(arr)"
   ]
  },
  {
   "cell_type": "code",
   "execution_count": 8,
   "metadata": {},
   "outputs": [
    {
     "name": "stdout",
     "output_type": "stream",
     "text": [
      "[]\n",
      "nums元素不存在\n"
     ]
    }
   ],
   "source": [
    "arr = [\"助教\", \"丁丁\",\"迪西\", \"拉拉\", \"小波\"] \n",
    "\n",
    "arr.clear()\n",
    "\n",
    "print(arr)\n",
    "\n",
    "if len(arr) != 0:\n",
    "    print(\"nums元素存在\")\n",
    "else:\n",
    "    print(\"nums元素不存在\")"
   ]
  },
  {
   "cell_type": "markdown",
   "metadata": {},
   "source": [
    "### 1.5 返回list的元素位置"
   ]
  },
  {
   "cell_type": "code",
   "execution_count": 10,
   "metadata": {},
   "outputs": [
    {
     "name": "stdout",
     "output_type": "stream",
     "text": [
      "3\n",
      "所搜尋元素 30 第一次出現位置索引是 2\n"
     ]
    }
   ],
   "source": [
    "arr = [\"助教\", \"丁丁\",\"迪西\", \"拉拉\", \"小波\"] \n",
    "print(arr.index(\"拉拉\")) # 0\n",
    "\n",
    "nums = [7, 12, 30, 12, 30, 9, 8]\n",
    "j = nums.index(30)\n",
    "print(f\"所搜尋元素 {30} 第一次出現位置索引是 {j}\") "
   ]
  },
  {
   "cell_type": "markdown",
   "metadata": {},
   "source": [
    "### 1.6 計算陣列元素"
   ]
  },
  {
   "cell_type": "code",
   "execution_count": 11,
   "metadata": {},
   "outputs": [
    {
     "name": "stdout",
     "output_type": "stream",
     "text": [
      "4\n"
     ]
    }
   ],
   "source": [
    "arr = [\"助教\", \"丁丁\",\"迪西\", \"拉拉\", \"小波\", \"丁丁\", \"丁丁\", \"丁丁\"] \n",
    "\n",
    "print(arr.count(\"丁丁\")) # 4"
   ]
  },
  {
   "cell_type": "markdown",
   "metadata": {},
   "source": [
    "### 1.7 串列其他函數\n",
    "\n",
    "-   len()\n",
    "-   indexing\n",
    "-   count()\n",
    "-   set()\n",
    "-   insert()\n",
    "-   remove()\n",
    "-   clear()\n",
    "-   reverse()\n",
    "-   append()\n",
    "-   pop()\n",
    "-   copy()\n",
    "\n",
    "---\n",
    "\n",
    "- lower(), upper()\n",
    "- title(), \n",
    "- rstrip(), lstrip(), strip()\n",
    "- center(), rjust(), ljust()\n",
    "- startwith(), endwith()\n",
    "- replace()\n"
   ]
  },
  {
   "cell_type": "markdown",
   "metadata": {},
   "source": [
    "### 1.8 學習連結\n",
    "- https://www.youtube.com/watch?v=0yySumZTxJ0\n",
    "- https://www.youtube.com/watch?v=orCsnSHc8Mo"
   ]
  },
  {
   "cell_type": "markdown",
   "metadata": {},
   "source": [
    "## 2 新增元素(append, insert)\n",
    "\n",
    "### 2.1 增加串列元素"
   ]
  },
  {
   "cell_type": "code",
   "execution_count": 13,
   "metadata": {},
   "outputs": [
    {
     "name": "stdout",
     "output_type": "stream",
     "text": [
      "目前串列內容 =  []\n",
      "目前串列內容 =  ['助教', 'AAA']\n"
     ]
    }
   ],
   "source": [
    "people = []     \n",
    "print(\"目前串列內容 = \",people)\n",
    "people.append('助教')\n",
    "people.append('AAA')\n",
    "\n",
    "print(\"目前串列內容 = \",people)"
   ]
  },
  {
   "cell_type": "markdown",
   "metadata": {},
   "source": [
    "### 2.2 插入串列元素"
   ]
  },
  {
   "cell_type": "code",
   "execution_count": 14,
   "metadata": {},
   "outputs": [
    {
     "name": "stdout",
     "output_type": "stream",
     "text": [
      "目前串列內容 =  ['丁丁', '迪西', '拉拉', '小波']\n",
      "目前串列內容 =  ['丁丁', '助教', '迪西', '拉拉', '小波']\n"
     ]
    }
   ],
   "source": [
    "arr = [\"丁丁\",\"迪西\", \"拉拉\", \"小波\"] \n",
    "print(\"目前串列內容 = \",arr)\n",
    "arr.insert(1, \"助教\")\n",
    "print(\"目前串列內容 = \",arr)"
   ]
  },
  {
   "cell_type": "markdown",
   "metadata": {},
   "source": [
    "## 3 刪除元素(del, pop, remove)"
   ]
  },
  {
   "cell_type": "markdown",
   "metadata": {},
   "source": [
    "### 3.1 使用索引刪除元素"
   ]
  },
  {
   "cell_type": "code",
   "execution_count": 16,
   "metadata": {},
   "outputs": [
    {
     "data": {
      "text/plain": [
       "['迪西', '拉拉', '助教']"
      ]
     },
     "execution_count": 16,
     "metadata": {},
     "output_type": "execute_result"
    }
   ],
   "source": [
    "arr = [\"丁丁\",\"迪西\", \"拉拉\", \"助教\"] \n",
    "# arr.pop()\n",
    "arr.pop(0)\n",
    "arr"
   ]
  },
  {
   "cell_type": "markdown",
   "metadata": {},
   "source": [
    "### 3.2 使用值刪除元素"
   ]
  },
  {
   "cell_type": "code",
   "execution_count": 18,
   "metadata": {},
   "outputs": [
    {
     "data": {
      "text/plain": [
       "['迪西', '拉拉', '助教']"
      ]
     },
     "execution_count": 18,
     "metadata": {},
     "output_type": "execute_result"
    }
   ],
   "source": [
    "arr = [\"丁丁\",\"迪西\", \"拉拉\", \"助教\"] \n",
    "arr.remove(\"丁丁\")\n",
    "\n",
    "arr"
   ]
  },
  {
   "cell_type": "markdown",
   "metadata": {},
   "source": [
    "### 3.3 刪除全部元素"
   ]
  },
  {
   "cell_type": "code",
   "execution_count": 19,
   "metadata": {},
   "outputs": [
    {
     "name": "stdout",
     "output_type": "stream",
     "text": [
      "['丁丁', '迪西', '拉拉', '助教']\n"
     ]
    },
    {
     "ename": "NameError",
     "evalue": "name 'arr' is not defined",
     "output_type": "error",
     "traceback": [
      "\u001b[1;31m---------------------------------------------------------------------------\u001b[0m",
      "\u001b[1;31mNameError\u001b[0m                                 Traceback (most recent call last)",
      "Cell \u001b[1;32mIn[19], line 4\u001b[0m\n\u001b[0;32m      2\u001b[0m \u001b[38;5;28mprint\u001b[39m(arr)\n\u001b[0;32m      3\u001b[0m \u001b[38;5;28;01mdel\u001b[39;00m arr\n\u001b[1;32m----> 4\u001b[0m \u001b[38;5;28mprint\u001b[39m(arr)\n",
      "\u001b[1;31mNameError\u001b[0m: name 'arr' is not defined"
     ]
    }
   ],
   "source": [
    "arr = [\"丁丁\",\"迪西\", \"拉拉\", \"助教\"]  \n",
    "print(arr)\n",
    "del arr\n",
    "print(arr)"
   ]
  },
  {
   "cell_type": "markdown",
   "metadata": {},
   "source": [
    "## 4 元素排序"
   ]
  },
  {
   "cell_type": "markdown",
   "metadata": {},
   "source": [
    "### 4.1 sort(): 直接改變陣列"
   ]
  },
  {
   "cell_type": "code",
   "execution_count": 20,
   "metadata": {},
   "outputs": [
    {
     "name": "stdout",
     "output_type": "stream",
     "text": [
      "['bmw', 'ford', 'honda', 'toyota']\n",
      "['toyota', 'honda', 'ford', 'bmw']\n"
     ]
    }
   ],
   "source": [
    "cars = ['honda','bmw','toyota','ford']\n",
    "cars.sort()\n",
    "print(cars)\n",
    "cars.sort(reverse=True)\n",
    "print(cars)"
   ]
  },
  {
   "cell_type": "markdown",
   "metadata": {},
   "source": [
    "### 4.2 sorted()： 反之，未改變原本陣列"
   ]
  },
  {
   "cell_type": "code",
   "execution_count": 22,
   "metadata": {},
   "outputs": [
    {
     "name": "stdout",
     "output_type": "stream",
     "text": [
      "['bmw', 'ford', 'honda', 'toyota'] ['honda', 'bmw', 'toyota', 'ford']\n",
      "['toyota', 'honda', 'ford', 'bmw'] ['honda', 'bmw', 'toyota', 'ford']\n"
     ]
    }
   ],
   "source": [
    "cars = ['honda','bmw','toyota','ford']\n",
    "cars_sorted = sorted(cars)\n",
    "print(cars_sorted, cars)\n",
    "\n",
    "cars_sorted = sorted(cars, reverse=True)\n",
    "print(cars_sorted, cars)"
   ]
  },
  {
   "cell_type": "markdown",
   "metadata": {},
   "source": [
    "## 5 二維陣列\n",
    "\n",
    "![upgit_20240813_1723541468.png](https://raw.githubusercontent.com/kcwc1029/obsidian-upgit-image/main/2024/08/upgit_20240813_1723541468.png)\n"
   ]
  },
  {
   "cell_type": "code",
   "execution_count": 29,
   "metadata": {},
   "outputs": [
    {
     "name": "stdout",
     "output_type": "stream",
     "text": [
      "263\n",
      "291\n"
     ]
    }
   ],
   "source": [
    "sc = [['同學一', 80, 95, 88, 0],\n",
    "      ['同學二', 98, 97, 96, 0],\n",
    "     ]\n",
    "\n",
    "sc[0][4] = sum(sc[0][1:4])\n",
    "sc[1][4] = sum(sc[1][1:4])\n",
    "print(sc[0][4]) \n",
    "print(sc[1][4]) "
   ]
  },
  {
   "cell_type": "markdown",
   "metadata": {},
   "source": [
    "## 6 list的淺拷貝與深拷貝\n",
    "\n",
    "### 6.1 淺拷貝\n",
    "- 當我們將一個 list 賦值給另一個變數時,我們實際上是建立了一個新的參考,而不是建立一個新的 list。\n",
    "- 這意味著,當我們修改其中一個 list 時,另一個 list 也會受到影響。"
   ]
  },
  {
   "cell_type": "code",
   "execution_count": null,
   "metadata": {},
   "outputs": [],
   "source": [
    "a = 10\n",
    "\n",
    "0f1121 10"
   ]
  },
  {
   "cell_type": "code",
   "execution_count": 33,
   "metadata": {},
   "outputs": [
    {
     "name": "stdout",
     "output_type": "stream",
     "text": [
      "[1, 2, [3, 4, 5]]\n",
      "[1, 2, [3, 4, 5]]\n"
     ]
    }
   ],
   "source": [
    "# 淺拷貝\n",
    "original_list = [1, 2, [3, 4]]\n",
    "new_list = original_list\n",
    "new_list\n",
    "\n",
    "new_list[2].append(5)\n",
    "print(original_list)  # Output: [1, 2, [3, 4, 5]]\n",
    "print(new_list)       # Output: [1, 2, [3, 4, 5]]\n",
    "# `new_list`是`original_list`的淺拷貝。當我們修改`new_list`中的巢狀列表時,`original_list`也會受到影響。"
   ]
  },
  {
   "cell_type": "markdown",
   "metadata": {},
   "source": [
    "### 6.2 深拷貝\n",
    "- 如果我們想要建立一個完全獨立的 list 副本\n",
    "- 可以使用copy.deepcopy()方法進行深拷貝。"
   ]
  },
  {
   "cell_type": "code",
   "execution_count": 34,
   "metadata": {},
   "outputs": [
    {
     "name": "stdout",
     "output_type": "stream",
     "text": [
      "[1, 2, [3, 4]]\n",
      "[1, 2, [3, 4, 5]]\n"
     ]
    }
   ],
   "source": [
    "# 深拷貝\n",
    "import copy\n",
    "\n",
    "original_list = [1, 2, [3, 4]]\n",
    "new_list = copy.deepcopy(original_list)\n",
    "\n",
    "\n",
    "new_list[2].append(5)\n",
    "print(original_list)  # Output: [1, 2, [3, 4]]\n",
    "print(new_list)       # Output: [1, 2, [3, 4, 5]]\n",
    "# NOTE:`new_list`是`original_list`的深拷貝。當我們修改`new_list`中的巢狀列表時,`original_list`不會受到影響。"
   ]
  }
 ],
 "metadata": {
  "kernelspec": {
   "display_name": "base",
   "language": "python",
   "name": "python3"
  },
  "language_info": {
   "codemirror_mode": {
    "name": "ipython",
    "version": 3
   },
   "file_extension": ".py",
   "mimetype": "text/x-python",
   "name": "python",
   "nbconvert_exporter": "python",
   "pygments_lexer": "ipython3",
   "version": "3.12.4"
  }
 },
 "nbformat": 4,
 "nbformat_minor": 2
}
