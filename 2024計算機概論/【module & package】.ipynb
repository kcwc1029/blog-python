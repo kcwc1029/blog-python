{
 "cells": [
  {
   "cell_type": "markdown",
   "metadata": {},
   "source": [
    "## module & package\n",
    "- 以下是python常見的module\n",
    "- 外部module會使用pip去安裝\n",
    "\n",
    "![upgit_20240817_1723873329.png](https://raw.githubusercontent.com/kcwc1029/obsidian-upgit-image/main/2024/08/upgit_20240817_1723873329.png)"
   ]
  },
  {
   "cell_type": "markdown",
   "metadata": {},
   "source": [
    "## 自己建立模組\n",
    "- 如果要導入多組函數 from make_food import make_icecream, make_drink\n",
    "- 如果要導入所有函數 from make_food import *"
   ]
  },
  {
   "cell_type": "code",
   "execution_count": 3,
   "metadata": {},
   "outputs": [
    {
     "name": "stdout",
     "output_type": "stream",
     "text": [
      "這個冰淇淋所加配料如下\n",
      "---  草莓醬\n",
      "這個冰淇淋所加配料如下\n",
      "---  草莓醬\n",
      "---  葡萄乾\n",
      "---  巧克力碎片\n",
      "所點飲料如下\n",
      "---  large\n",
      "---  coke\n"
     ]
    }
   ],
   "source": [
    "def make_icecream(*args):\n",
    "    \"\"\"這邊寫關於函數的說明\n",
    "    Args:\n",
    "        toppings (string): 各種配料\n",
    "    Return:\n",
    "        none\n",
    "    \"\"\"\n",
    "\n",
    "    print(\"這個冰淇淋所加配料如下\")\n",
    "    for topping in args:\n",
    "        print(\"--- \", topping)\n",
    "\n",
    "\n",
    "def make_drink(size, drink):\n",
    "    \"\"\"這邊寫關於函數的說明\n",
    "    Args:\n",
    "        size (string): \n",
    "        drink (string): 各種飲料\n",
    "    Return:\n",
    "        none\n",
    "    \"\"\"\n",
    "    print(\"所點飲料如下\")\n",
    "    print(\"--- \", size)\n",
    "    print(\"--- \", drink)\n",
    "\n",
    "\n",
    "\n",
    "make_icecream('草莓醬')\n",
    "make_icecream('草莓醬', '葡萄乾', '巧克力碎片')\n",
    "make_drink('large', 'coke')"
   ]
  },
  {
   "cell_type": "markdown",
   "metadata": {},
   "source": [
    "- 應用自己寫的module\n",
    "- 那我覺得我知還會再用到這個func，所以我把它放到module"
   ]
  },
  {
   "cell_type": "code",
   "execution_count": 4,
   "metadata": {},
   "outputs": [
    {
     "name": "stdout",
     "output_type": "stream",
     "text": [
      "Writing make_food.py\n"
     ]
    }
   ],
   "source": [
    "%%writefile make_food.py\n",
    "\n",
    "def make_icecream(*toppings):\n",
    "    \"\"\"這邊寫關於函數的說明\n",
    "    Args:\n",
    "        toppings (string): 各種配料\n",
    "    Return:\n",
    "        none\n",
    "    \"\"\"\n",
    "\n",
    "    print(\"這個冰淇淋所加配料如下\")\n",
    "    for topping in toppings:\n",
    "        print(\"--- \", topping)\n",
    "\n",
    "\n",
    "def make_drink(size, drink):\n",
    "    \"\"\"這邊寫關於函數的說明\n",
    "    Args:\n",
    "        size (string): \n",
    "        drink (string): 各種飲料\n",
    "    Return:\n",
    "        none\n",
    "    \"\"\"\n",
    "    print(\"所點飲料如下\")\n",
    "    print(\"--- \", size.title())\n",
    "    print(\"--- \", drink.title())"
   ]
  },
  {
   "cell_type": "markdown",
   "metadata": {},
   "source": [
    "- 要使用的地方把它引入 from module_name import func_name"
   ]
  },
  {
   "cell_type": "code",
   "execution_count": 5,
   "metadata": {},
   "outputs": [
    {
     "name": "stdout",
     "output_type": "stream",
     "text": [
      "這個冰淇淋所加配料如下\n",
      "---  草莓醬\n",
      "---  葡萄乾\n",
      "---  巧克力碎片\n"
     ]
    }
   ],
   "source": [
    "from make_food import make_icecream\n",
    "\n",
    "make_icecream('草莓醬', '葡萄乾', '巧克力碎片')\n",
    "\n",
    "# 這個冰淇淋所加配料如下\n",
    "# ---  草莓醬\n",
    "# ---  葡萄乾\n",
    "# ---  巧克力碎片"
   ]
  },
  {
   "cell_type": "markdown",
   "metadata": {},
   "source": [
    "## module 使用別稱as\n",
    "可以分為：\n",
    "- 幫module取名\n",
    "- 幫module的func取名"
   ]
  },
  {
   "cell_type": "code",
   "execution_count": 6,
   "metadata": {},
   "outputs": [
    {
     "name": "stdout",
     "output_type": "stream",
     "text": [
      "這個冰淇淋所加配料如下\n",
      "---  草莓醬\n",
      "---  葡萄乾\n",
      "---  巧克力碎片\n"
     ]
    }
   ],
   "source": [
    "from make_food import make_icecream as m\n",
    "\n",
    "m('草莓醬', '葡萄乾', '巧克力碎片')"
   ]
  },
  {
   "cell_type": "code",
   "execution_count": 7,
   "metadata": {},
   "outputs": [
    {
     "name": "stdout",
     "output_type": "stream",
     "text": [
      "這個冰淇淋所加配料如下\n",
      "---  草莓醬\n",
      "---  葡萄乾\n",
      "---  巧克力碎片\n"
     ]
    }
   ],
   "source": [
    "import make_food  as m\n",
    "\n",
    "m.make_icecream('草莓醬', '葡萄乾', '巧克力碎片')"
   ]
  },
  {
   "cell_type": "markdown",
   "metadata": {},
   "source": [
    "## random module\n",
    "![upgit_20241021_1729492699.png](https://raw.githubusercontent.com/kcwc1029/obsidian-upgit-image/main/2024/10/upgit_20241021_1729492699.png)"
   ]
  },
  {
   "cell_type": "code",
   "execution_count": 1,
   "metadata": {},
   "outputs": [
    {
     "name": "stdout",
     "output_type": "stream",
     "text": [
      "7\n",
      "0.8397997363118733\n",
      "1.365183773909035\n",
      "a\n",
      "['a', 'c']\n",
      "['b', 'a', 'c']\n"
     ]
    }
   ],
   "source": [
    "import random\n",
    "\n",
    "random.seed(24)\n",
    "\n",
    "print(random.randint(1, 10)) # 隨機整數\n",
    "print(random.random()) # 0-1 隨機浮點數\n",
    "print(random.uniform(1,3)) # 範圍間隨機浮點數\n",
    "print(random.choice([\"a\", \"b\", \"c\"])) # 範圍間隨機選\n",
    "print(random.sample([\"a\", \"b\", \"c\"], 2)) # 範圍間隨機選要求數量\n",
    "\n",
    "# 隨機排列\n",
    "arr = [\"a\", \"b\", \"c\"]\n",
    "random.shuffle(arr)\n",
    "print(arr)"
   ]
  },
  {
   "cell_type": "markdown",
   "metadata": {},
   "source": [
    "## time module\n",
    "![upgit_20241021_1729492730.png](https://raw.githubusercontent.com/kcwc1029/obsidian-upgit-image/main/2024/10/upgit_20241021_1729492730.png)"
   ]
  },
  {
   "cell_type": "code",
   "execution_count": 2,
   "metadata": {},
   "outputs": [
    {
     "name": "stdout",
     "output_type": "stream",
     "text": [
      "1729492746.6057384\n",
      "Mon Oct 21 14:39:06 2024\n",
      "time.struct_time(tm_year=2024, tm_mon=10, tm_mday=21, tm_hour=14, tm_min=39, tm_sec=6, tm_wday=0, tm_yday=295, tm_isdst=0)\n",
      "2024\n",
      "2024\n"
     ]
    }
   ],
   "source": [
    "import time\n",
    "\n",
    "print(time.time()) # 1970.01.01到現在秒數\n",
    "print(time.ctime()) # 目前系統時間\n",
    "\n",
    "print(time.localtime()) # 返回tuple結構時間\n",
    "print(time.localtime().tm_year)\n",
    "print(time.localtime()[0])"
   ]
  },
  {
   "cell_type": "markdown",
   "metadata": {},
   "source": [
    "## sys module\n",
    "- 可以了解python shell的訊息。"
   ]
  },
  {
   "cell_type": "code",
   "execution_count": 3,
   "metadata": {},
   "outputs": [
    {
     "name": "stdout",
     "output_type": "stream",
     "text": [
      "3.12.4 | packaged by Anaconda, Inc. | (main, Jun 18 2024, 15:03:56) [MSC v.1929 64 bit (AMD64)]\n",
      "sys.version_info(major=3, minor=12, micro=4, releaselevel='final', serial=0)\n"
     ]
    }
   ],
   "source": [
    "import sys\n",
    "\n",
    "# 顯示python訊息\n",
    "print(sys.version)\n",
    "print(sys.version_info) # 比較結構化"
   ]
  },
  {
   "cell_type": "code",
   "execution_count": null,
   "metadata": {},
   "outputs": [
    {
     "name": "stdout",
     "output_type": "stream",
     "text": [
      "請輸入字串\n"
     ]
    }
   ],
   "source": [
    "##### stdin(不執行) #####\n",
    "# standard input 的縮寫\n",
    "# import sys\n",
    "\n",
    "# # 要額外開+terminal\n",
    "# print(\"請輸入字串\")\n",
    "# msg = sys.stdin.readline()\n",
    "# print(msg)\n",
    "\n",
    "# # 規定要取幾個字元\n",
    "# print(\"請輸入字串\")\n",
    "# msg = sys.stdin.readline(3)\n",
    "# print(msg)"
   ]
  },
  {
   "cell_type": "code",
   "execution_count": 1,
   "metadata": {},
   "outputs": [],
   "source": [
    "##### stdout(不執行) #####\n",
    "# standard output 的縮寫\n",
    "# import sys\n",
    "\n",
    "# # 要額外開+terminal\n",
    "# sys.stdout.write(\"122323\")"
   ]
  },
  {
   "cell_type": "code",
   "execution_count": 2,
   "metadata": {},
   "outputs": [
    {
     "name": "stdout",
     "output_type": "stream",
     "text": [
      "d:\\github\\blog\\Python\\2024計算機概論\n",
      "d:\\anaconda3\\python312.zip\n",
      "d:\\anaconda3\\DLLs\n",
      "d:\\anaconda3\\Lib\n",
      "d:\\anaconda3\n",
      "\n",
      "C:\\Users\\33313\\AppData\\Roaming\\Python\\Python312\\site-packages\n",
      "d:\\anaconda3\\Lib\\site-packages\n",
      "d:\\anaconda3\\Lib\\site-packages\\win32\n",
      "d:\\anaconda3\\Lib\\site-packages\\win32\\lib\n",
      "d:\\anaconda3\\Lib\\site-packages\\Pythonwin\n"
     ]
    }
   ],
   "source": [
    "# 列出module所在的路徑\n",
    "import sys\n",
    "for i in sys.path:\n",
    "    print(i)"
   ]
  },
  {
   "cell_type": "markdown",
   "metadata": {},
   "source": [
    "## if name == \"main\"\n",
    "- 在 Python 中，每個檔案都可以被視為一個模組，當模組被運行時，Python 會賦予一個特殊變數 __name__。\n",
    "- 如果該檔案是被直接運行的（比如用 python filename.py 來執行），那麼 __name__ 的值會被設為 \"__main__\"。\n",
    "- 如果這個檔案是被作為模組導入的，那麼 __name__ 的值會是這個模組的名字（也就是檔案名）。"
   ]
  },
  {
   "cell_type": "code",
   "execution_count": 7,
   "metadata": {},
   "outputs": [
    {
     "name": "stdout",
     "output_type": "stream",
     "text": [
      "Writing calculator.py\n"
     ]
    }
   ],
   "source": [
    "%%writefile calculator.py\n",
    "def add(a, b):\n",
    "    return a + b\n",
    "\n",
    "def subtract(a, b):\n",
    "    return a - b\n",
    "\n",
    "if __name__ == \"__main__\":\n",
    "    # 這些程式碼只在這個檔案直接運行時執行\n",
    "    print(\"Testing add function:\", add(2, 3))           # 5\n",
    "    print(\"Testing subtract function:\", subtract(5, 2)) # 3\n",
    "\n"
   ]
  },
  {
   "cell_type": "markdown",
   "metadata": {},
   "source": [
    "## 將自己寫的class建立在module內\n",
    "- 類別也可以用module的方式去處理"
   ]
  },
  {
   "cell_type": "code",
   "execution_count": 10,
   "metadata": {},
   "outputs": [
    {
     "name": "stdout",
     "output_type": "stream",
     "text": [
      "Writing make_band.py\n"
     ]
    }
   ],
   "source": [
    "%%writefile make_band.py\n",
    "class Banks():\n",
    "    def __init__(self, name):    \n",
    "        self.__name = name\n",
    "        self.__balance = 0\n",
    "        self.__title = \"Bank\"\n",
    "\n",
    "    def save_money(self, money): # 設計存款方法\n",
    "        self.__balance += money\n",
    "        print(\"存款 \", money, \" 完成\")\n",
    "\n",
    "    def withdraw_money(self, money): # 設計提款方法\n",
    "        self.__balance -= money             \n",
    "        print(\"提款 \", money, \" 完成\")\n",
    "\n",
    "    def get_balance(self):   # 獲得存款餘額\n",
    "        print(self.__name.title(), \" 目前餘額: \", self.__balance)\n",
    "\n",
    "    def bank_title(self):  # 獲得銀行名稱\n",
    "        return self.__title\n",
    "\n",
    "\n",
    "class Tainan_bank(Banks):\n",
    "    def __init__(self, name):\n",
    "        self.__title = \"Tainan bank\"\n",
    "    def bank_title(self):  # 獲得銀行名稱\n",
    "        return self.__title"
   ]
  },
  {
   "cell_type": "code",
   "execution_count": 11,
   "metadata": {},
   "outputs": [
    {
     "name": "stdout",
     "output_type": "stream",
     "text": [
      "TA's banks =  Bank\n",
      "存款  500  完成\n",
      "James  目前餘額:  500\n",
      "hung's banks  =  Tainan bank\n"
     ]
    }
   ],
   "source": [
    "from make_band import Banks, Tainan_bank\n",
    "\n",
    "TA = Banks('James')  \n",
    "print(\"TA's banks = \", TA.bank_title())  # 列印銀行名稱\n",
    "TA.save_money(500)                   # 存錢\n",
    "TA.get_balance()                     # 列出存款金額\n",
    "hung = Tainan_bank('Hung')             # 定義Shilin_Banks類別物件\n",
    "print(\"hung's banks  = \", hung.bank_title())   # 列印銀行名稱"
   ]
  },
  {
   "cell_type": "markdown",
   "metadata": {},
   "source": [
    "## module searching\n",
    "- 針對模組放的路徑，可以有一下選擇：\n",
    "    - 放在該專案資料夾裡面的 sys.path\n",
    "    - 跟 main program 放在一起\n",
    "    - 放在任何地方，再去更改 sys.path"
   ]
  },
  {
   "cell_type": "code",
   "execution_count": 13,
   "metadata": {},
   "outputs": [
    {
     "name": "stdout",
     "output_type": "stream",
     "text": [
      "d:\\github\\blog\\Python\\2024計算機概論\n",
      "d:\\anaconda3\\python312.zip\n",
      "d:\\anaconda3\\DLLs\n",
      "d:\\anaconda3\\Lib\n",
      "d:\\anaconda3\n",
      "\n",
      "C:\\Users\\33313\\AppData\\Roaming\\Python\\Python312\\site-packages\n",
      "d:\\anaconda3\\Lib\\site-packages\n",
      "d:\\anaconda3\\Lib\\site-packages\\win32\n",
      "d:\\anaconda3\\Lib\\site-packages\\win32\\lib\n",
      "d:\\anaconda3\\Lib\\site-packages\\Pythonwin\n"
     ]
    }
   ],
   "source": [
    "import sys\n",
    "# 電腦會根據以下每一個路徑去找module\n",
    "\n",
    "print(*sys.path, sep=\"\\n\")"
   ]
  },
  {
   "cell_type": "code",
   "execution_count": 14,
   "metadata": {},
   "outputs": [],
   "source": [
    "# TODO:更改sys.path\n",
    "# sys.path.append(\"要增加的路徑\")"
   ]
  },
  {
   "cell_type": "markdown",
   "metadata": {},
   "source": [
    "## namespace\n",
    "- 其實就是前面提到 LEGB 規則的延伸，程式在找變數（函數），會先從區域命名空間（local namespace）去找，接著是全域命名空間（global namespace），最後是 built-in（內建函式庫）"
   ]
  },
  {
   "cell_type": "code",
   "execution_count": 15,
   "metadata": {},
   "outputs": [
    {
     "name": "stdout",
     "output_type": "stream",
     "text": [
      "<module 'builtins' (built-in)>\n",
      "ArithmeticError\n",
      "AssertionError\n",
      "AttributeError\n",
      "BaseException\n",
      "BaseExceptionGroup\n",
      "BlockingIOError\n",
      "BrokenPipeError\n",
      "BufferError\n",
      "BytesWarning\n",
      "ChildProcessError\n",
      "ConnectionAbortedError\n",
      "ConnectionError\n",
      "ConnectionRefusedError\n",
      "ConnectionResetError\n",
      "DeprecationWarning\n",
      "EOFError\n",
      "Ellipsis\n",
      "EncodingWarning\n",
      "EnvironmentError\n",
      "Exception\n",
      "ExceptionGroup\n",
      "False\n",
      "FileExistsError\n",
      "FileNotFoundError\n",
      "FloatingPointError\n",
      "FutureWarning\n",
      "GeneratorExit\n",
      "IOError\n",
      "ImportError\n",
      "ImportWarning\n",
      "IndentationError\n",
      "IndexError\n",
      "InterruptedError\n",
      "IsADirectoryError\n",
      "KeyError\n",
      "KeyboardInterrupt\n",
      "LookupError\n",
      "MemoryError\n",
      "ModuleNotFoundError\n",
      "NameError\n",
      "None\n",
      "NotADirectoryError\n",
      "NotImplemented\n",
      "NotImplementedError\n",
      "OSError\n",
      "OverflowError\n",
      "PendingDeprecationWarning\n",
      "PermissionError\n",
      "ProcessLookupError\n",
      "RecursionError\n",
      "ReferenceError\n",
      "ResourceWarning\n",
      "RuntimeError\n",
      "RuntimeWarning\n",
      "StopAsyncIteration\n",
      "StopIteration\n",
      "SyntaxError\n",
      "SyntaxWarning\n",
      "SystemError\n",
      "SystemExit\n",
      "TabError\n",
      "TimeoutError\n",
      "True\n",
      "TypeError\n",
      "UnboundLocalError\n",
      "UnicodeDecodeError\n",
      "UnicodeEncodeError\n",
      "UnicodeError\n",
      "UnicodeTranslateError\n",
      "UnicodeWarning\n",
      "UserWarning\n",
      "ValueError\n",
      "Warning\n",
      "WindowsError\n",
      "ZeroDivisionError\n",
      "__IPYTHON__\n",
      "__build_class__\n",
      "__debug__\n",
      "__doc__\n",
      "__import__\n",
      "__loader__\n",
      "__name__\n",
      "__package__\n",
      "__spec__\n",
      "abs\n",
      "aiter\n",
      "all\n",
      "anext\n",
      "any\n",
      "ascii\n",
      "bin\n",
      "bool\n",
      "breakpoint\n",
      "bytearray\n",
      "bytes\n",
      "callable\n",
      "chr\n",
      "classmethod\n",
      "compile\n",
      "complex\n",
      "copyright\n",
      "credits\n",
      "delattr\n",
      "dict\n",
      "dir\n",
      "display\n",
      "divmod\n",
      "enumerate\n",
      "eval\n",
      "exec\n",
      "execfile\n",
      "filter\n",
      "float\n",
      "format\n",
      "frozenset\n",
      "get_ipython\n",
      "getattr\n",
      "globals\n",
      "hasattr\n",
      "hash\n",
      "help\n",
      "hex\n",
      "id\n",
      "input\n",
      "int\n",
      "isinstance\n",
      "issubclass\n",
      "iter\n",
      "len\n",
      "license\n",
      "list\n",
      "locals\n",
      "map\n",
      "max\n",
      "memoryview\n",
      "min\n",
      "next\n",
      "object\n",
      "oct\n",
      "open\n",
      "ord\n",
      "pow\n",
      "print\n",
      "property\n",
      "range\n",
      "repr\n",
      "reversed\n",
      "round\n",
      "runfile\n",
      "set\n",
      "setattr\n",
      "slice\n",
      "sorted\n",
      "staticmethod\n",
      "str\n",
      "sum\n",
      "super\n",
      "tuple\n",
      "type\n",
      "vars\n",
      "zip\n"
     ]
    }
   ],
   "source": [
    "# 輸出內建函式庫\n",
    "print(__builtins__) # <module 'builtins' (built-in)>\n",
    "\n",
    "# 輸出所有函數名稱\n",
    "print(*dir(__builtins__), sep=\"\\n\")"
   ]
  },
  {
   "cell_type": "markdown",
   "metadata": {},
   "source": [
    "## package\n",
    "package 是一種包含很多 python 模組的字典\n",
    "- PyPI：全名 Python Package Index，是指 Python 生態系統中的一個中央軟件存儲庫。\n",
    "- pip：安裝第三方庫的指令：\n",
    "\n",
    "```\n",
    "# TODO: pip相關指令\n",
    "pip install <package_name>\n",
    "pip install -upgrade <package_name>\n",
    "\n",
    "# 安裝指定版本\n",
    "pip install <package_name> == <指定版本>\n",
    "\n",
    "# 確認目前安裝所有模組及版本\n",
    "pip freeze\n",
    "```"
   ]
  }
 ],
 "metadata": {
  "kernelspec": {
   "display_name": "base",
   "language": "python",
   "name": "python3"
  },
  "language_info": {
   "codemirror_mode": {
    "name": "ipython",
    "version": 3
   },
   "file_extension": ".py",
   "mimetype": "text/x-python",
   "name": "python",
   "nbconvert_exporter": "python",
   "pygments_lexer": "ipython3",
   "version": "3.12.4"
  }
 },
 "nbformat": 4,
 "nbformat_minor": 2
}
