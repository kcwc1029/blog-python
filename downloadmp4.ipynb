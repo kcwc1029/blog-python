{
 "cells": [
  {
   "cell_type": "markdown",
   "metadata": {},
   "source": [
    "## yt-dlp"
   ]
  },
  {
   "cell_type": "code",
   "execution_count": 1,
   "metadata": {},
   "outputs": [
    {
     "name": "stdout",
     "output_type": "stream",
     "text": [
      "Defaulting to user installation because normal site-packages is not writeable\n",
      "Collecting yt-dlp\n",
      "  Downloading yt_dlp-2024.10.7-py3-none-any.whl.metadata (171 kB)\n",
      "     ---------------------------------------- 0.0/171.3 kB ? eta -:--:--\n",
      "     ---- -------------------------------- 20.5/171.3 kB 640.0 kB/s eta 0:00:01\n",
      "     --------------- --------------------- 71.7/171.3 kB 787.7 kB/s eta 0:00:01\n",
      "     -------------------------------------- 171.3/171.3 kB 1.3 MB/s eta 0:00:00\n",
      "Requirement already satisfied: brotli in d:\\anaconda3\\lib\\site-packages (from yt-dlp) (1.0.9)\n",
      "Requirement already satisfied: certifi in d:\\anaconda3\\lib\\site-packages (from yt-dlp) (2024.6.2)\n",
      "Collecting mutagen (from yt-dlp)\n",
      "  Downloading mutagen-1.47.0-py3-none-any.whl.metadata (1.7 kB)\n",
      "Collecting pycryptodomex (from yt-dlp)\n",
      "  Downloading pycryptodomex-3.21.0-cp36-abi3-win_amd64.whl.metadata (3.4 kB)\n",
      "Requirement already satisfied: requests<3,>=2.32.2 in d:\\anaconda3\\lib\\site-packages (from yt-dlp) (2.32.2)\n",
      "Requirement already satisfied: urllib3<3,>=1.26.17 in d:\\anaconda3\\lib\\site-packages (from yt-dlp) (2.2.2)\n",
      "Collecting websockets>=13.0 (from yt-dlp)\n",
      "  Downloading websockets-13.1-cp312-cp312-win_amd64.whl.metadata (7.0 kB)\n",
      "Requirement already satisfied: charset-normalizer<4,>=2 in d:\\anaconda3\\lib\\site-packages (from requests<3,>=2.32.2->yt-dlp) (2.0.4)\n",
      "Requirement already satisfied: idna<4,>=2.5 in d:\\anaconda3\\lib\\site-packages (from requests<3,>=2.32.2->yt-dlp) (3.7)\n",
      "Downloading yt_dlp-2024.10.7-py3-none-any.whl (3.1 MB)\n",
      "   ---------------------------------------- 0.0/3.1 MB ? eta -:--:--\n",
      "   -- ------------------------------------- 0.2/3.1 MB 12.2 MB/s eta 0:00:01\n",
      "   ----- ---------------------------------- 0.5/3.1 MB 7.0 MB/s eta 0:00:01\n",
      "   ------------ --------------------------- 1.0/3.1 MB 7.5 MB/s eta 0:00:01\n",
      "   ------------------------ --------------- 2.0/3.1 MB 11.4 MB/s eta 0:00:01\n",
      "   ---------------------------------------  3.1/3.1 MB 14.3 MB/s eta 0:00:01\n",
      "   ---------------------------------------- 3.1/3.1 MB 14.3 MB/s eta 0:00:00\n",
      "Downloading websockets-13.1-cp312-cp312-win_amd64.whl (159 kB)\n",
      "   ---------------------------------------- 0.0/159.1 kB ? eta -:--:--\n",
      "   ---------------------------------------- 159.1/159.1 kB 9.3 MB/s eta 0:00:00\n",
      "Downloading mutagen-1.47.0-py3-none-any.whl (194 kB)\n",
      "   ---------------------------------------- 0.0/194.4 kB ? eta -:--:--\n",
      "   ---------------------------------------- 194.4/194.4 kB ? eta 0:00:00\n",
      "Downloading pycryptodomex-3.21.0-cp36-abi3-win_amd64.whl (1.8 MB)\n",
      "   ---------------------------------------- 0.0/1.8 MB ? eta -:--:--\n",
      "   ---------------------------------------- 1.8/1.8 MB 112.9 MB/s eta 0:00:00\n",
      "Installing collected packages: websockets, pycryptodomex, mutagen, yt-dlp\n",
      "Successfully installed mutagen-1.47.0 pycryptodomex-3.21.0 websockets-13.1 yt-dlp-2024.10.7\n"
     ]
    },
    {
     "name": "stderr",
     "output_type": "stream",
     "text": [
      "  WARNING: The scripts mid3cp.exe, mid3iconv.exe, mid3v2.exe, moggsplit.exe, mutagen-inspect.exe and mutagen-pony.exe are installed in 'C:\\Users\\33313\\AppData\\Roaming\\Python\\Python312\\Scripts' which is not on PATH.\n",
      "  Consider adding this directory to PATH or, if you prefer to suppress this warning, use --no-warn-script-location.\n",
      "  WARNING: The script yt-dlp.exe is installed in 'C:\\Users\\33313\\AppData\\Roaming\\Python\\Python312\\Scripts' which is not on PATH.\n",
      "  Consider adding this directory to PATH or, if you prefer to suppress this warning, use --no-warn-script-location.\n"
     ]
    }
   ],
   "source": [
    "!pip install yt-dlp"
   ]
  },
  {
   "cell_type": "code",
   "execution_count": 2,
   "metadata": {},
   "outputs": [
    {
     "name": "stdout",
     "output_type": "stream",
     "text": [
      "[youtube] Extracting URL: https://www.youtube.com/shorts/fvatChTk6ug?feature=share\n",
      "[youtube] fvatChTk6ug: Downloading webpage\n",
      "[youtube] fvatChTk6ug: Downloading ios player API JSON\n",
      "[youtube] fvatChTk6ug: Downloading mweb player API JSON\n",
      "[youtube] fvatChTk6ug: Downloading player 815edc2a\n",
      "[youtube] fvatChTk6ug: Downloading m3u8 information\n",
      "影片標題: 颱風天就是要穿輕鬆一點啊！ #有特色的帥哥\n",
      "影片長度 (秒): 40\n",
      "影片作者: 有特色的帥哥\n",
      "影片作者頻道網址: https://www.youtube.com/@specsome\n",
      "影片縮圖網址: https://i.ytimg.com/vi/fvatChTk6ug/hq720_2.jpg?sqp=-oaymwE2CK4FEIIDSEbyq4qpAygIARUAAIhCGABwAcABBvABAfgBtgiAAoAPigIMCAAQARhlIE4oSTAP&rs=AOn4CLBjZRoi36eSKpy9oxrn9VbCi5lMtw\n",
      "影片觀看數: 861250\n",
      "下載中...\n",
      "[youtube] Extracting URL: https://www.youtube.com/shorts/fvatChTk6ug?feature=share\n",
      "[youtube] fvatChTk6ug: Downloading webpage\n",
      "[youtube] fvatChTk6ug: Downloading ios player API JSON\n",
      "[youtube] fvatChTk6ug: Downloading mweb player API JSON\n",
      "[youtube] fvatChTk6ug: Downloading m3u8 information\n",
      "[info] fvatChTk6ug: Downloading 1 format(s): 18\n",
      "[download] Destination: baby_shark.mp4\n",
      "[download] 100% of    2.90MiB in 00:00:00 at 19.31MiB/s  \n",
      "下載完成！\n"
     ]
    }
   ],
   "source": [
    "import yt_dlp\n",
    "\n",
    "url = 'https://www.youtube.com/shorts/fvatChTk6ug?feature=share'  # 影片網址\n",
    "\n",
    "ydl_opts = {\n",
    "    'format': 'best',  # 選擇最佳格式\n",
    "    'outtmpl': 'baby_shark.mp4'  # 指定下載後的文件名\n",
    "}\n",
    "\n",
    "with yt_dlp.YoutubeDL(ydl_opts) as ydl:\n",
    "    info_dict = ydl.extract_info(url, download=False)\n",
    "    print(\"影片標題:\", info_dict.get('title', 'N/A'))\n",
    "    print(\"影片長度 (秒):\", info_dict.get('duration', 'N/A'))\n",
    "    print(\"影片作者:\", info_dict.get('uploader', 'N/A'))\n",
    "    print(\"影片作者頻道網址:\", info_dict.get('uploader_url', 'N/A'))\n",
    "    print(\"影片縮圖網址:\", info_dict.get('thumbnail', 'N/A'))\n",
    "    print(\"影片觀看數:\", info_dict.get('view_count', 'N/A'))\n",
    "\n",
    "    # 下載影片\n",
    "    print('下載中...')\n",
    "    ydl.download([url])\n",
    "    print('下載完成！')\n"
   ]
  }
 ],
 "metadata": {
  "kernelspec": {
   "display_name": "base",
   "language": "python",
   "name": "python3"
  },
  "language_info": {
   "codemirror_mode": {
    "name": "ipython",
    "version": 3
   },
   "file_extension": ".py",
   "mimetype": "text/x-python",
   "name": "python",
   "nbconvert_exporter": "python",
   "pygments_lexer": "ipython3",
   "version": "3.12.4"
  }
 },
 "nbformat": 4,
 "nbformat_minor": 2
}
