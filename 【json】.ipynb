{
 "cells": [
  {
   "cell_type": "markdown",
   "metadata": {},
   "source": [
    "- 使用JavaScript物件表示法編寫。"
   ]
  },
  {
   "cell_type": "markdown",
   "metadata": {},
   "source": [
    "\n",
    "- json.loads()：JSON 格式的字串轉換為 Python 資料物件。\n",
    "- json.dumps()：Python 資料物件轉換為 JSON 格式的字串，並返回字串。\n",
    "- json.dump()：Python 資料物件轉換為 JSON 格式的字串，並直接寫入到指定的文件中。\n"
   ]
  },
  {
   "cell_type": "code",
   "execution_count": 7,
   "metadata": {},
   "outputs": [
    {
     "name": "stdout",
     "output_type": "stream",
     "text": [
      "{\"name\": \"TA\", \"age\": 23, \"city\": \"Tainan\"} <class 'str'>\n"
     ]
    }
   ],
   "source": [
    "import json\n",
    "# 物件轉json\n",
    "dict = {\n",
    "    \"name\":\"TA\", \n",
    "    \"age\":23,\n",
    "    \"city\":\"Tainan\"\n",
    "}\n",
    "json_data = json.dumps(dict)\n",
    "print(json_data , type(json_data))\n",
    "\n",
    "\n",
    "\n"
   ]
  },
  {
   "cell_type": "code",
   "execution_count": 8,
   "metadata": {},
   "outputs": [
    {
     "name": "stdout",
     "output_type": "stream",
     "text": [
      "{'name': 'TA', 'age': 23, 'city': 'Tainan'}\n"
     ]
    }
   ],
   "source": [
    "import json\n",
    "# json轉物件\n",
    "json_data = '{\"name\": \"TA\", \"age\": 23, \"city\": \"Tainan\"}'\n",
    "dict = json.loads(json_data)\n",
    "print(dict)\n",
    "\n"
   ]
  },
  {
   "cell_type": "code",
   "execution_count": 3,
   "metadata": {},
   "outputs": [
    {
     "name": "stdout",
     "output_type": "stream",
     "text": [
      "{'name': 'Alice', 'age': 25, 'city': 'New York'}\n"
     ]
    }
   ],
   "source": [
    "import json\n",
    "\n",
    "json_data = '{\"name\": \"Alice\", \"age\": 25, \"city\": \"New York\"}'\n",
    "\n",
    "try:\n",
    "    python_data = json.loads(json_data)\n",
    "    print(python_data)\n",
    "except json.JSONDecodeError as e:\n",
    "    print(\"JSON 格式錯誤：\", e)\n",
    "\n",
    "\n"
   ]
  }
 ],
 "metadata": {
  "kernelspec": {
   "display_name": "base",
   "language": "python",
   "name": "python3"
  },
  "language_info": {
   "codemirror_mode": {
    "name": "ipython",
    "version": 3
   },
   "file_extension": ".py",
   "mimetype": "text/x-python",
   "name": "python",
   "nbconvert_exporter": "python",
   "pygments_lexer": "ipython3",
   "version": "3.12.4"
  }
 },
 "nbformat": 4,
 "nbformat_minor": 2
}
