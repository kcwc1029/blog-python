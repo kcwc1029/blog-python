{
 "cells": [
  {
   "cell_type": "code",
   "execution_count": 1,
   "id": "f04cbf9a",
   "metadata": {},
   "outputs": [
    {
     "name": "stdout",
     "output_type": "stream",
     "text": [
      "Requirement already satisfied: ollama in c:\\users\\33313\\.conda\\envs\\openai\\lib\\site-packages (0.4.1)Note: you may need to restart the kernel to use updated packages.\n",
      "\n",
      "Requirement already satisfied: httpx<0.28.0,>=0.27.0 in c:\\users\\33313\\.conda\\envs\\openai\\lib\\site-packages (from ollama) (0.27.0)\n",
      "Requirement already satisfied: pydantic<3.0.0,>=2.9.0 in c:\\users\\33313\\.conda\\envs\\openai\\lib\\site-packages (from ollama) (2.10.3)\n",
      "Requirement already satisfied: anyio in c:\\users\\33313\\.conda\\envs\\openai\\lib\\site-packages (from httpx<0.28.0,>=0.27.0->ollama) (4.6.2)\n",
      "Requirement already satisfied: certifi in c:\\users\\33313\\.conda\\envs\\openai\\lib\\site-packages (from httpx<0.28.0,>=0.27.0->ollama) (2024.8.30)\n",
      "Requirement already satisfied: httpcore==1.* in c:\\users\\33313\\.conda\\envs\\openai\\lib\\site-packages (from httpx<0.28.0,>=0.27.0->ollama) (1.0.2)\n",
      "Requirement already satisfied: idna in c:\\users\\33313\\.conda\\envs\\openai\\lib\\site-packages (from httpx<0.28.0,>=0.27.0->ollama) (3.10)\n",
      "Requirement already satisfied: sniffio in c:\\users\\33313\\.conda\\envs\\openai\\lib\\site-packages (from httpx<0.28.0,>=0.27.0->ollama) (1.3.0)\n",
      "Requirement already satisfied: h11<0.15,>=0.13 in c:\\users\\33313\\.conda\\envs\\openai\\lib\\site-packages (from httpcore==1.*->httpx<0.28.0,>=0.27.0->ollama) (0.14.0)\n",
      "Requirement already satisfied: annotated-types>=0.6.0 in c:\\users\\33313\\.conda\\envs\\openai\\lib\\site-packages (from pydantic<3.0.0,>=2.9.0->ollama) (0.6.0)\n",
      "Requirement already satisfied: pydantic-core==2.27.1 in c:\\users\\33313\\.conda\\envs\\openai\\lib\\site-packages (from pydantic<3.0.0,>=2.9.0->ollama) (2.27.1)\n",
      "Requirement already satisfied: typing-extensions>=4.12.2 in c:\\users\\33313\\.conda\\envs\\openai\\lib\\site-packages (from pydantic<3.0.0,>=2.9.0->ollama) (4.12.2)\n",
      "Requirement already satisfied: exceptiongroup>=1.0.2 in c:\\users\\33313\\.conda\\envs\\openai\\lib\\site-packages (from anyio->httpx<0.28.0,>=0.27.0->ollama) (1.2.2)\n"
     ]
    }
   ],
   "source": [
    "pip install ollama"
   ]
  },
  {
   "cell_type": "code",
   "execution_count": 12,
   "id": "ff732366",
   "metadata": {},
   "outputs": [
    {
     "name": "stdout",
     "output_type": "stream",
     "text": [
      "{\n",
      "    \"model\": \"llama3.2:latest\",\n",
      "    \"created_at\": \"2025-06-12T09:46:35.3012485Z\",\n",
      "    \"message\": {\n",
      "        \"role\": \"assistant\",\n",
      "        \"content\": \"It seems like you've made a mistake by only typing the number \\\"1\\\". Could you please provide more context or clarify what you'd like to talk about? I'm here to help with any questions or topics you'd like to discuss.\"\n",
      "    },\n",
      "    \"done_reason\": \"stop\",\n",
      "    \"done\": true,\n",
      "    \"total_duration\": 2051329800,\n",
      "    \"load_duration\": 1435353800\n",
      "}\n"
     ]
    }
   ],
   "source": [
    "import ollama\n",
    "import json\n",
    "\n",
    "response = ollama.chat(\n",
    "    model='llama3.2:latest',\n",
    "    messages=[\n",
    "        {'role': 'user', 'content': '1'}\n",
    "    ]\n",
    ")\n",
    "\n",
    "# 建立可序列化的輸出字典\n",
    "output = {\n",
    "    \"model\": response.model,\n",
    "    \"created_at\": response.created_at,\n",
    "    \"message\": {\n",
    "        \"role\": response.message[\"role\"],\n",
    "        \"content\": response.message[\"content\"]\n",
    "    },\n",
    "    \"done_reason\": response.done_reason,\n",
    "    \"done\": response.done,\n",
    "    \"total_duration\": response.total_duration,\n",
    "    \"load_duration\": response.load_duration\n",
    "}\n",
    "\n",
    "print(json.dumps(output, indent=4, ensure_ascii=False))\n"
   ]
  }
 ],
 "metadata": {
  "kernelspec": {
   "display_name": "Python 3",
   "language": "python",
   "name": "python3"
  },
  "language_info": {
   "codemirror_mode": {
    "name": "ipython",
    "version": 3
   },
   "file_extension": ".py",
   "mimetype": "text/x-python",
   "name": "python",
   "nbconvert_exporter": "python",
   "pygments_lexer": "ipython3",
   "version": "3.10.15"
  }
 },
 "nbformat": 4,
 "nbformat_minor": 5
}
