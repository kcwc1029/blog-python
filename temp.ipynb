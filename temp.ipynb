{
 "cells": [
  {
   "cell_type": "code",
   "execution_count": 8,
   "metadata": {},
   "outputs": [
    {
     "name": "stdout",
     "output_type": "stream",
     "text": [
      "LED 模擬 10W 燈泡每小時電費: 0.05 元\n",
      "燈泡每小時電費: 0.05 元\n"
     ]
    }
   ],
   "source": [
    "voltage = 5  # 電壓 (V)\n",
    "current = 10  # 電流 (mA)\n",
    "electricity_rate = 5  # 電費 (元/度)\n",
    "\n",
    "time = (10 / (voltage * (current / 1000)))  # 計算讓 LED 模擬 10W 燈泡所需的運行時間 (小時)\n",
    "\n",
    "# 計算 LED 每小時的耗電量 (kWh)\n",
    "led_consumption_per_hour = (voltage * (current / 1000)) / 1000  # 轉換成 kWh\n",
    "\n",
    "# 計算 LED 模擬 10W 燈泡所需的電費\n",
    "led_cost_for_10w_bulb = led_consumption_per_hour * time * electricity_rate\n",
    "print(f\"LED 模擬 10W 燈泡每小時電費: {led_cost_for_10w_bulb:.2f} 元\")\n",
    "\n",
    "bulb_power = 10  # 燈泡功率 (W)\n",
    "\n",
    "# 計算燈泡每小時的耗電量 (kWh)\n",
    "bulb_consumption_per_hour = bulb_power / 1000  # 轉換成 kWh\n",
    "\n",
    "# 計算燈泡每小時的電費\n",
    "bulb_cost_per_hour = bulb_consumption_per_hour * electricity_rate\n",
    "print(f\"燈泡每小時電費: {bulb_cost_per_hour:.2f} 元\")"
   ]
  }
 ],
 "metadata": {
  "kernelspec": {
   "display_name": "Python 3",
   "language": "python",
   "name": "python3"
  },
  "language_info": {
   "codemirror_mode": {
    "name": "ipython",
    "version": 3
   },
   "file_extension": ".py",
   "mimetype": "text/x-python",
   "name": "python",
   "nbconvert_exporter": "python",
   "pygments_lexer": "ipython3",
   "version": "3.10.15"
  }
 },
 "nbformat": 4,
 "nbformat_minor": 2
}
