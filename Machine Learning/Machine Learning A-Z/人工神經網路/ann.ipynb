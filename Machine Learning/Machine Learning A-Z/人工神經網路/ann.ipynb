{
 "cells": [
  {
   "cell_type": "code",
   "execution_count": 1,
   "metadata": {},
   "outputs": [],
   "source": [
    "import numpy as np\n",
    "import pandas as pd\n",
    "import torch\n",
    "import torch.nn as nn\n",
    "import torch.optim as optim"
   ]
  },
  {
   "cell_type": "code",
   "execution_count": 2,
   "metadata": {},
   "outputs": [
    {
     "data": {
      "text/plain": [
       "'2.5.1+cu121'"
      ]
     },
     "execution_count": 2,
     "metadata": {},
     "output_type": "execute_result"
    }
   ],
   "source": [
    "torch.__version__"
   ]
  },
  {
   "cell_type": "markdown",
   "metadata": {},
   "source": [
    "## Data Preprocessing"
   ]
  },
  {
   "cell_type": "code",
   "execution_count": 3,
   "metadata": {},
   "outputs": [
    {
     "data": {
      "text/plain": [
       "array([[619, 'France', 'Female', ..., 1, 1, 101348.88],\n",
       "       [608, 'Spain', 'Female', ..., 0, 1, 112542.58],\n",
       "       [502, 'France', 'Female', ..., 1, 0, 113931.57],\n",
       "       ...,\n",
       "       [709, 'France', 'Female', ..., 0, 1, 42085.58],\n",
       "       [772, 'Germany', 'Male', ..., 1, 0, 92888.52],\n",
       "       [792, 'France', 'Female', ..., 1, 0, 38190.78]], dtype=object)"
      ]
     },
     "execution_count": 3,
     "metadata": {},
     "output_type": "execute_result"
    }
   ],
   "source": [
    "dataset = pd.read_csv('Churn_Modelling.csv')\n",
    "X = dataset.iloc[:, 3:-1].values # pa轉np\n",
    "y = dataset.iloc[:, -1].values # pa轉np\n",
    "X"
   ]
  },
  {
   "cell_type": "markdown",
   "metadata": {},
   "source": [
    "##  Encoding categorical data\n",
    "- 當數據有序或類別較少時，選擇標籤編碼(Label Encoding)。\n",
    "- 當數據無序且類別較多時，選擇獨熱編碼(One-Hot Encoding)。"
   ]
  },
  {
   "cell_type": "code",
   "execution_count": 4,
   "metadata": {},
   "outputs": [
    {
     "data": {
      "text/plain": [
       "array([[619, 'France', 0, ..., 1, 1, 101348.88],\n",
       "       [608, 'Spain', 0, ..., 0, 1, 112542.58],\n",
       "       [502, 'France', 0, ..., 1, 0, 113931.57],\n",
       "       ...,\n",
       "       [709, 'France', 0, ..., 0, 1, 42085.58],\n",
       "       [772, 'Germany', 1, ..., 1, 0, 92888.52],\n",
       "       [792, 'France', 0, ..., 1, 0, 38190.78]], dtype=object)"
      ]
     },
     "execution_count": 4,
     "metadata": {},
     "output_type": "execute_result"
    }
   ],
   "source": [
    "# NOTE: 對 \"Gender\" 欄進行標籤編碼(Label Encoding) -> 當特徵只有兩類（binary classification）且沒有明顯的順序問題\n",
    "from sklearn.preprocessing import LabelEncoder\n",
    "le = LabelEncoder()\n",
    "X[:, 2] = le.fit_transform(X[:, 2])\n",
    "X"
   ]
  },
  {
   "cell_type": "code",
   "execution_count": 5,
   "metadata": {},
   "outputs": [
    {
     "data": {
      "text/plain": [
       "array([[1.0, 0.0, 0.0, ..., 1, 1, 101348.88],\n",
       "       [0.0, 0.0, 1.0, ..., 0, 1, 112542.58],\n",
       "       [1.0, 0.0, 0.0, ..., 1, 0, 113931.57],\n",
       "       ...,\n",
       "       [1.0, 0.0, 0.0, ..., 0, 1, 42085.58],\n",
       "       [0.0, 1.0, 0.0, ..., 1, 0, 92888.52],\n",
       "       [1.0, 0.0, 0.0, ..., 1, 0, 38190.78]], dtype=object)"
      ]
     },
     "execution_count": 5,
     "metadata": {},
     "output_type": "execute_result"
    }
   ],
   "source": [
    "# NOTE: 對 \"Geography\" 欄進行獨熱編碼(One-Hot Encoding) -> 當分類特徵是無序的（nominal），例如：國家、顏色等\n",
    "from sklearn.compose import ColumnTransformer\n",
    "from sklearn.preprocessing import OneHotEncoder\n",
    "ct = ColumnTransformer(transformers=[('encoder', OneHotEncoder(), [1])], remainder='passthrough')\n",
    "X = np.array(ct.fit_transform(X))\n",
    "X  # 查看編碼後的數據"
   ]
  },
  {
   "cell_type": "markdown",
   "metadata": {},
   "source": [
    "## Splitting the dataset\n"
   ]
  },
  {
   "cell_type": "code",
   "execution_count": 6,
   "metadata": {},
   "outputs": [
    {
     "data": {
      "text/plain": [
       "((8000, 12), (2000, 12), (8000,), (2000,))"
      ]
     },
     "execution_count": 6,
     "metadata": {},
     "output_type": "execute_result"
    }
   ],
   "source": [
    "from sklearn.model_selection import train_test_split\n",
    "X_train, X_test, y_train, y_test = train_test_split(X, y, test_size = 0.2)\n",
    "\n",
    "X_train.shape, X_test.shape, y_train.shape, y_test.shape"
   ]
  },
  {
   "cell_type": "markdown",
   "metadata": {},
   "source": [
    "## Feature Scaling\n",
    "- X經過特徵縮放處裡"
   ]
  },
  {
   "cell_type": "code",
   "execution_count": 7,
   "metadata": {},
   "outputs": [],
   "source": [
    "from sklearn.preprocessing import StandardScaler\n",
    "sc = StandardScaler()\n",
    "X_train = sc.fit_transform(X_train)\n",
    "X_test = sc.transform(X_test)"
   ]
  },
  {
   "cell_type": "code",
   "execution_count": 8,
   "metadata": {},
   "outputs": [
    {
     "data": {
      "text/plain": [
       "array([[ 0.99153582, -0.57369368, -0.5744635 , ...,  0.64959174,\n",
       "         0.97603703,  0.70880522],\n",
       "       [ 0.99153582, -0.57369368, -0.5744635 , ..., -1.53942844,\n",
       "         0.97603703,  0.74704204],\n",
       "       [ 0.99153582, -0.57369368, -0.5744635 , ..., -1.53942844,\n",
       "         0.97603703,  0.86031147],\n",
       "       ...,\n",
       "       [ 0.99153582, -0.57369368, -0.5744635 , ...,  0.64959174,\n",
       "        -1.02455129, -0.39794774],\n",
       "       [ 0.99153582, -0.57369368, -0.5744635 , ...,  0.64959174,\n",
       "         0.97603703, -0.80445466],\n",
       "       [ 0.99153582, -0.57369368, -0.5744635 , ...,  0.64959174,\n",
       "         0.97603703, -1.64310116]])"
      ]
     },
     "execution_count": 8,
     "metadata": {},
     "output_type": "execute_result"
    }
   ],
   "source": [
    "X_train"
   ]
  },
  {
   "cell_type": "markdown",
   "metadata": {},
   "source": [
    "## 開始使用Pytorch進行訓練\n",
    "- 將數據轉換為 PyTorch 張量"
   ]
  },
  {
   "cell_type": "code",
   "execution_count": 9,
   "metadata": {},
   "outputs": [],
   "source": [
    "X_train = torch.tensor(X_train, dtype=torch.float32).cuda()\n",
    "X_test = torch.tensor(X_test, dtype=torch.float32).cuda()\n",
    "y_train = torch.tensor(y_train, dtype=torch.float32).view(-1, 1).cuda()\n",
    "y_test = torch.tensor(y_test, dtype=torch.float32).view(-1, 1).cuda()"
   ]
  },
  {
   "cell_type": "markdown",
   "metadata": {},
   "source": [
    "## Building the ANN\n",
    "- 這個模型包括：\n",
    "  - 一個輸入層。\n",
    "  - 兩個隱藏層。\n",
    "  - 一個輸出層。\n",
    "- 激活函數是 ReLU，輸出層使用了 Sigmoid 函數，通常用於二分類問題"
   ]
  },
  {
   "cell_type": "code",
   "execution_count": 10,
   "metadata": {},
   "outputs": [],
   "source": [
    "# nn.Module 是 PyTorch 的所有神經網絡的基類。\n",
    "class ANNModel(nn.Module):\n",
    "    def __init__(self):\n",
    "        super(ANNModel, self).__init__()\n",
    "        self.fc1 = nn.Linear(X_train.shape[1], 6) # 連接層 (Fully Connected Layer)。輸入1，輸出6\n",
    "        self.relu = nn.ReLU() # 激活函數\n",
    "        self.fc2 = nn.Linear(6, 6) # 全連接層\n",
    "        self.fc3 = nn.Linear(6, 1) # 全連接層，輸入6，輸出1\n",
    "        self.sigmoid = nn.Sigmoid() # 輸出層激活函數\n",
    "\n",
    "    # 定義了數據如何通過這個網絡\n",
    "    def forward(self, x):\n",
    "        x = self.fc1(x)\n",
    "        x = self.relu(x)\n",
    "        x = self.fc2(x)\n",
    "        x = self.relu(x)\n",
    "        x = self.fc3(x)\n",
    "        x = self.sigmoid(x)\n",
    "        return x\n",
    "    \n",
    "# 初始化模型\n",
    "model = ANNModel().cuda()"
   ]
  },
  {
   "cell_type": "markdown",
   "metadata": {},
   "source": [
    "## Training the ANN"
   ]
  },
  {
   "cell_type": "code",
   "execution_count": 11,
   "metadata": {},
   "outputs": [],
   "source": [
    "# 定義損失函數和優化器\n",
    "criterion = nn.BCELoss()  # 二元交叉熵損失\n",
    "optimizer = optim.Adam(model.parameters(), lr=0.001)"
   ]
  },
  {
   "cell_type": "code",
   "execution_count": 12,
   "metadata": {},
   "outputs": [
    {
     "name": "stdout",
     "output_type": "stream",
     "text": [
      "Epoch 1/100, Loss: 0.6022, Accuracy: 0.6526\n",
      "Epoch 2/100, Loss: 0.4496, Accuracy: 0.7973\n",
      "Epoch 3/100, Loss: 0.4350, Accuracy: 0.7973\n",
      "Epoch 4/100, Loss: 0.4297, Accuracy: 0.8084\n",
      "Epoch 5/100, Loss: 0.4254, Accuracy: 0.8200\n",
      "Epoch 6/100, Loss: 0.4213, Accuracy: 0.8257\n",
      "Epoch 7/100, Loss: 0.4171, Accuracy: 0.8265\n",
      "Epoch 8/100, Loss: 0.4129, Accuracy: 0.8287\n",
      "Epoch 9/100, Loss: 0.4085, Accuracy: 0.8287\n",
      "Epoch 10/100, Loss: 0.4045, Accuracy: 0.8307\n",
      "Epoch 11/100, Loss: 0.4004, Accuracy: 0.8319\n",
      "Epoch 12/100, Loss: 0.3964, Accuracy: 0.8329\n",
      "Epoch 13/100, Loss: 0.3925, Accuracy: 0.8331\n",
      "Epoch 14/100, Loss: 0.3887, Accuracy: 0.8325\n",
      "Epoch 15/100, Loss: 0.3851, Accuracy: 0.8336\n",
      "Epoch 16/100, Loss: 0.3815, Accuracy: 0.8350\n",
      "Epoch 17/100, Loss: 0.3783, Accuracy: 0.8414\n",
      "Epoch 18/100, Loss: 0.3754, Accuracy: 0.8434\n",
      "Epoch 19/100, Loss: 0.3726, Accuracy: 0.8449\n",
      "Epoch 20/100, Loss: 0.3699, Accuracy: 0.8454\n",
      "Epoch 21/100, Loss: 0.3675, Accuracy: 0.8468\n",
      "Epoch 22/100, Loss: 0.3653, Accuracy: 0.8481\n",
      "Epoch 23/100, Loss: 0.3633, Accuracy: 0.8499\n",
      "Epoch 24/100, Loss: 0.3613, Accuracy: 0.8514\n",
      "Epoch 25/100, Loss: 0.3597, Accuracy: 0.8525\n",
      "Epoch 26/100, Loss: 0.3583, Accuracy: 0.8524\n",
      "Epoch 27/100, Loss: 0.3570, Accuracy: 0.8536\n",
      "Epoch 28/100, Loss: 0.3559, Accuracy: 0.8541\n",
      "Epoch 29/100, Loss: 0.3548, Accuracy: 0.8546\n",
      "Epoch 30/100, Loss: 0.3538, Accuracy: 0.8556\n",
      "Epoch 31/100, Loss: 0.3529, Accuracy: 0.8561\n",
      "Epoch 32/100, Loss: 0.3521, Accuracy: 0.8558\n",
      "Epoch 33/100, Loss: 0.3512, Accuracy: 0.8546\n",
      "Epoch 34/100, Loss: 0.3505, Accuracy: 0.8552\n",
      "Epoch 35/100, Loss: 0.3497, Accuracy: 0.8559\n",
      "Epoch 36/100, Loss: 0.3491, Accuracy: 0.8562\n",
      "Epoch 37/100, Loss: 0.3484, Accuracy: 0.8568\n",
      "Epoch 38/100, Loss: 0.3478, Accuracy: 0.8572\n",
      "Epoch 39/100, Loss: 0.3472, Accuracy: 0.8581\n",
      "Epoch 40/100, Loss: 0.3466, Accuracy: 0.8586\n",
      "Epoch 41/100, Loss: 0.3460, Accuracy: 0.8585\n",
      "Epoch 42/100, Loss: 0.3454, Accuracy: 0.8586\n",
      "Epoch 43/100, Loss: 0.3449, Accuracy: 0.8590\n",
      "Epoch 44/100, Loss: 0.3445, Accuracy: 0.8585\n",
      "Epoch 45/100, Loss: 0.3440, Accuracy: 0.8590\n",
      "Epoch 46/100, Loss: 0.3436, Accuracy: 0.8594\n",
      "Epoch 47/100, Loss: 0.3431, Accuracy: 0.8601\n",
      "Epoch 48/100, Loss: 0.3427, Accuracy: 0.8598\n",
      "Epoch 49/100, Loss: 0.3424, Accuracy: 0.8598\n",
      "Epoch 50/100, Loss: 0.3420, Accuracy: 0.8598\n",
      "Epoch 51/100, Loss: 0.3416, Accuracy: 0.8601\n",
      "Epoch 52/100, Loss: 0.3412, Accuracy: 0.8609\n",
      "Epoch 53/100, Loss: 0.3409, Accuracy: 0.8611\n",
      "Epoch 54/100, Loss: 0.3406, Accuracy: 0.8609\n",
      "Epoch 55/100, Loss: 0.3403, Accuracy: 0.8605\n",
      "Epoch 56/100, Loss: 0.3400, Accuracy: 0.8594\n",
      "Epoch 57/100, Loss: 0.3397, Accuracy: 0.8608\n",
      "Epoch 58/100, Loss: 0.3394, Accuracy: 0.8602\n",
      "Epoch 59/100, Loss: 0.3392, Accuracy: 0.8604\n",
      "Epoch 60/100, Loss: 0.3390, Accuracy: 0.8604\n",
      "Epoch 61/100, Loss: 0.3388, Accuracy: 0.8608\n",
      "Epoch 62/100, Loss: 0.3386, Accuracy: 0.8609\n",
      "Epoch 63/100, Loss: 0.3384, Accuracy: 0.8608\n",
      "Epoch 64/100, Loss: 0.3382, Accuracy: 0.8604\n",
      "Epoch 65/100, Loss: 0.3381, Accuracy: 0.8601\n",
      "Epoch 66/100, Loss: 0.3379, Accuracy: 0.8606\n",
      "Epoch 67/100, Loss: 0.3378, Accuracy: 0.8610\n",
      "Epoch 68/100, Loss: 0.3377, Accuracy: 0.8614\n",
      "Epoch 69/100, Loss: 0.3376, Accuracy: 0.8611\n",
      "Epoch 70/100, Loss: 0.3376, Accuracy: 0.8610\n",
      "Epoch 71/100, Loss: 0.3375, Accuracy: 0.8614\n",
      "Epoch 72/100, Loss: 0.3374, Accuracy: 0.8611\n",
      "Epoch 73/100, Loss: 0.3373, Accuracy: 0.8615\n",
      "Epoch 74/100, Loss: 0.3372, Accuracy: 0.8612\n",
      "Epoch 75/100, Loss: 0.3372, Accuracy: 0.8612\n",
      "Epoch 76/100, Loss: 0.3371, Accuracy: 0.8611\n",
      "Epoch 77/100, Loss: 0.3371, Accuracy: 0.8610\n",
      "Epoch 78/100, Loss: 0.3370, Accuracy: 0.8612\n",
      "Epoch 79/100, Loss: 0.3370, Accuracy: 0.8611\n",
      "Epoch 80/100, Loss: 0.3369, Accuracy: 0.8614\n",
      "Epoch 81/100, Loss: 0.3369, Accuracy: 0.8611\n",
      "Epoch 82/100, Loss: 0.3368, Accuracy: 0.8611\n",
      "Epoch 83/100, Loss: 0.3368, Accuracy: 0.8611\n",
      "Epoch 84/100, Loss: 0.3367, Accuracy: 0.8616\n",
      "Epoch 85/100, Loss: 0.3367, Accuracy: 0.8614\n",
      "Epoch 86/100, Loss: 0.3367, Accuracy: 0.8615\n",
      "Epoch 87/100, Loss: 0.3366, Accuracy: 0.8614\n",
      "Epoch 88/100, Loss: 0.3366, Accuracy: 0.8612\n",
      "Epoch 89/100, Loss: 0.3366, Accuracy: 0.8612\n",
      "Epoch 90/100, Loss: 0.3365, Accuracy: 0.8610\n",
      "Epoch 91/100, Loss: 0.3365, Accuracy: 0.8610\n",
      "Epoch 92/100, Loss: 0.3365, Accuracy: 0.8612\n",
      "Epoch 93/100, Loss: 0.3364, Accuracy: 0.8612\n",
      "Epoch 94/100, Loss: 0.3364, Accuracy: 0.8612\n",
      "Epoch 95/100, Loss: 0.3364, Accuracy: 0.8611\n",
      "Epoch 96/100, Loss: 0.3363, Accuracy: 0.8614\n",
      "Epoch 97/100, Loss: 0.3363, Accuracy: 0.8616\n",
      "Epoch 98/100, Loss: 0.3363, Accuracy: 0.8609\n",
      "Epoch 99/100, Loss: 0.3363, Accuracy: 0.8610\n",
      "Epoch 100/100, Loss: 0.3362, Accuracy: 0.8618\n"
     ]
    }
   ],
   "source": [
    "epochs = 100\n",
    "batch_size = 32\n",
    "\n",
    "for epoch in range(epochs):\n",
    "    model.train()\n",
    "    epoch_loss = 0.0\n",
    "    correct_predictions = 0\n",
    "    total_samples = 0\n",
    "\n",
    "    for i in range(0, len(X_train), batch_size):\n",
    "        X_batch = X_train[i:i+batch_size]\n",
    "        y_batch = y_train[i:i+batch_size]\n",
    "\n",
    "        # 前向傳播\n",
    "        outputs = model(X_batch)\n",
    "        loss = criterion(outputs, y_batch)\n",
    "\n",
    "        # 反向傳播\n",
    "        optimizer.zero_grad()\n",
    "        loss.backward()\n",
    "        optimizer.step()\n",
    "\n",
    "        # 累積損失\n",
    "        epoch_loss += loss.item()\n",
    "\n",
    "        # 計算準確率\n",
    "        predictions = (outputs > 0.5).float()  # 將概率轉為 0 或 1\n",
    "        correct_predictions += (predictions == y_batch).sum().item()\n",
    "        total_samples += y_batch.size(0)\n",
    "\n",
    "    # 計算每個 epoch 的平均損失和準確率\n",
    "    epoch_loss /= len(X_train) / batch_size\n",
    "    accuracy = correct_predictions / total_samples\n",
    "\n",
    "    print(f'Epoch {epoch+1}/{epochs}, Loss: {epoch_loss:.4f}, Accuracy: {accuracy:.4f}')\n"
   ]
  },
  {
   "cell_type": "markdown",
   "metadata": {},
   "source": [
    "## Making the predictions "
   ]
  },
  {
   "cell_type": "code",
   "execution_count": 14,
   "metadata": {},
   "outputs": [
    {
     "name": "stdout",
     "output_type": "stream",
     "text": [
      "False\n"
     ]
    }
   ],
   "source": [
    "# 預測單個觀測結果\n",
    "sample = sc.transform([[1, 0, 0, 600, 1, 40, 3, 60000, 2, 1, 1, 50000]]) # 特徵壓縮\n",
    "sample_tensor = torch.tensor(sample, dtype=torch.float32).cuda()\n",
    "print((model(sample_tensor) > 0.5).item())  # 是否留住客戶"
   ]
  },
  {
   "cell_type": "code",
   "execution_count": 15,
   "metadata": {},
   "outputs": [],
   "source": [
    "y_pred = model(X_test)\n",
    "y_pred = (y_pred > 0.5).float()"
   ]
  },
  {
   "cell_type": "markdown",
   "metadata": {},
   "source": [
    "## evaluating"
   ]
  },
  {
   "cell_type": "code",
   "execution_count": 23,
   "metadata": {},
   "outputs": [
    {
     "data": {
      "image/png": "[encoded data removed]",
      "text/plain": [
       "<Figure size 400x300 with 2 Axes>"
      ]
     },
     "metadata": {},
     "output_type": "display_data"
    }
   ],
   "source": [
    "# 可視化混淆矩陣\n",
    "import matplotlib.pyplot as plt\n",
    "import seaborn as sns\n",
    "from sklearn.metrics import confusion_matrix, accuracy_score\n",
    "\n",
    "cm = confusion_matrix(y_test.cpu().numpy(), y_pred.cpu().detach().numpy())\n",
    "\n",
    "plt.figure(figsize=(4, 3))\n",
    "sns.heatmap(cm, annot=True, fmt='d', cmap='Blues', xticklabels=['Stayed', 'Left'], yticklabels=['Stayed', 'Left'])\n",
    "plt.xlabel('Predicted')\n",
    "plt.ylabel('Actual')\n",
    "plt.title('Confusion Matrix')\n",
    "plt.show()\n"
   ]
  }
 ],
 "metadata": {
  "kernelspec": {
   "display_name": "openai",
   "language": "python",
   "name": "python3"
  },
  "language_info": {
   "codemirror_mode": {
    "name": "ipython",
    "version": 3
   },
   "file_extension": ".py",
   "mimetype": "text/x-python",
   "name": "python",
   "nbconvert_exporter": "python",
   "pygments_lexer": "ipython3",
   "version": "3.10.15"
  }
 },
 "nbformat": 4,
 "nbformat_minor": 2
}
