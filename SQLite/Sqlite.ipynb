{
 "cells": [
  {
   "cell_type": "markdown",
   "metadata": {},
   "source": [
    "-   學習來源：https://www.youtube.com/watch?v=byHcYRpMgI4&t=4541s"
   ]
  },
  {
   "cell_type": "markdown",
   "metadata": {},
   "source": [
    "## 建立(連線)資料庫"
   ]
  },
  {
   "cell_type": "code",
   "execution_count": 16,
   "metadata": {},
   "outputs": [],
   "source": [
    "import sqlite3\n",
    "# NOTE: 建立資料庫\n",
    "conn = sqlite3.connect(\"customer.db\")\n",
    "# conn = sqlite3.connect(\":memory:\") # 暫時性建立"
   ]
  },
  {
   "cell_type": "markdown",
   "metadata": {},
   "source": [
    "## 建立資料表\n",
    "\n",
    "-   主要的資料類型：\n",
    "    -   NULL\n",
    "    -   INTEGER\n",
    "    -   REAL：儲存浮點數\n",
    "    -   TEXT：儲存文字字串\n",
    "    -   BLOB：儲存二進位數據"
   ]
  },
  {
   "cell_type": "code",
   "execution_count": 15,
   "metadata": {},
   "outputs": [],
   "source": [
    "import sqlite3\n",
    "conn = sqlite3.connect(\"customer.db\") # 連線資料庫\n",
    "c = conn.cursor() # 建立 cursor\n",
    "\n",
    "# 建立資料表\n",
    "c.execute(\"\"\"\n",
    "CREATE TABLE customers(\n",
    "    first_name text, \n",
    "    last_name text,\n",
    "    email text\n",
    ")\n",
    "\"\"\")\n",
    "\n",
    "conn.commit() # 執行\n",
    "conn.close()\n"
   ]
  },
  {
   "cell_type": "markdown",
   "metadata": {},
   "source": [
    "## 新增資料\n",
    "- 插入單筆數據"
   ]
  },
  {
   "cell_type": "code",
   "execution_count": 40,
   "metadata": {},
   "outputs": [
    {
     "name": "stdout",
     "output_type": "stream",
     "text": [
      "資料插入成功！\n"
     ]
    }
   ],
   "source": [
    "import sqlite3\n",
    "conn = sqlite3.connect(\"customer.db\") # 連線資料庫\n",
    "c = conn.cursor() # 建立 cursor\n",
    "customer_data = (\"Tim\", \"Smith\", \"john@codemy.com\")\n",
    "c.execute(\"INSERT INTO customers VALUES (?, ?, ?)\", customer_data)\n",
    "\n",
    "conn.commit()\n",
    "print(\"資料插入成功！\")\n",
    "conn.close()\n"
   ]
  },
  {
   "cell_type": "markdown",
   "metadata": {},
   "source": [
    "- 一次插入多筆數據"
   ]
  },
  {
   "cell_type": "code",
   "execution_count": 41,
   "metadata": {},
   "outputs": [
    {
     "name": "stdout",
     "output_type": "stream",
     "text": [
      "資料插入成功！\n"
     ]
    }
   ],
   "source": [
    "import sqlite3\n",
    "conn = sqlite3.connect(\"customer.db\") # 連線資料庫\n",
    "c = conn.cursor() # 建立 cursor\n",
    "\n",
    "customer_list = [\n",
    "    (\"Alice\", \"Johnson\", \"alice@example.com\"),\n",
    "    (\"Bob\", \"Brown\", \"bob@example.com\")\n",
    "]\n",
    "c.executemany(\"INSERT INTO customers VALUES (?, ?, ?)\", customer_list)\n",
    "conn.commit()\n",
    "conn.close()\n",
    "print(\"資料插入成功！\")"
   ]
  },
  {
   "cell_type": "markdown",
   "metadata": {},
   "source": [
    "## 查詢\n",
    "- fetchone()\n",
    "- fetchall()\n",
    "- fetchmany(size) "
   ]
  },
  {
   "cell_type": "code",
   "execution_count": 26,
   "metadata": {},
   "outputs": [
    {
     "name": "stdout",
     "output_type": "stream",
     "text": [
      "('Tim', 'Smith', 'john@codemy.com')\n",
      "('Alice', 'Johnson', 'alice@example.com')\n",
      "('Bob', 'Brown', 'bob@example.com')\n",
      "('Tim', 'Smith', 'john@codemy.com')\n"
     ]
    }
   ],
   "source": [
    "# TODO: 獲取查詢結果中的第一條記錄\n",
    "import sqlite3\n",
    "conn = sqlite3.connect(\"customer.db\") # 連線資料庫\n",
    "\n",
    "c = conn.cursor() # 建立 cursor\n",
    "c.execute(\"SELECT * FROM customers\")\n",
    "row = c.fetchone()  # 獲取第一條記錄\n",
    "\n",
    "# 獲取下一條記錄\n",
    "while row:\n",
    "    print(row)  \n",
    "    row = c.fetchone() \n",
    "\n",
    "conn.close()"
   ]
  },
  {
   "cell_type": "code",
   "execution_count": 27,
   "metadata": {},
   "outputs": [
    {
     "name": "stdout",
     "output_type": "stream",
     "text": [
      "('Tim', 'Smith', 'john@codemy.com')\n",
      "('Alice', 'Johnson', 'alice@example.com')\n",
      "('Bob', 'Brown', 'bob@example.com')\n",
      "('Tim', 'Smith', 'john@codemy.com')\n"
     ]
    }
   ],
   "source": [
    "# TODO: 獲取查詢結果中的所有記錄\n",
    "import sqlite3\n",
    "conn = sqlite3.connect(\"customer.db\") # 連線資料庫\n",
    "\n",
    "c = conn.cursor() # 建立 cursor\n",
    "c.execute(\"SELECT * FROM customers\")\n",
    "rows = c.fetchall()  # 獲取所有記錄\n",
    "\n",
    "# 打印每條記錄\n",
    "for row in rows:\n",
    "    print(row)  \n",
    "\n",
    "conn.close()"
   ]
  },
  {
   "cell_type": "code",
   "execution_count": 28,
   "metadata": {},
   "outputs": [
    {
     "name": "stdout",
     "output_type": "stream",
     "text": [
      "('Tim', 'Smith', 'john@codemy.com')\n",
      "('Alice', 'Johnson', 'alice@example.com')\n"
     ]
    }
   ],
   "source": [
    "# TODO: 獲取指定數量的記錄\n",
    "import sqlite3\n",
    "conn = sqlite3.connect(\"customer.db\") # 連線資料庫\n",
    "\n",
    "c = conn.cursor() # 建立 cursor\n",
    "c.execute(\"SELECT * FROM customers\")\n",
    "rows = c.fetchmany(2)  # 每次獲取 2 條記錄\n",
    "\n",
    "# 打印每條記錄\n",
    "for row in rows:\n",
    "    print(row)  \n",
    "\n",
    "conn.close()"
   ]
  },
  {
   "cell_type": "markdown",
   "metadata": {},
   "source": [
    "- 其實也可以直接迭代Cursor本身\n",
    "- 高效且簡潔，適合逐行處理數據"
   ]
  },
  {
   "cell_type": "code",
   "execution_count": 30,
   "metadata": {},
   "outputs": [
    {
     "name": "stdout",
     "output_type": "stream",
     "text": [
      "Tim Smith john@codemy.com\n",
      "Alice Johnson alice@example.com\n",
      "Bob Brown bob@example.com\n",
      "Tim Smith john@codemy.com\n"
     ]
    }
   ],
   "source": [
    "# TODO: 迭代Cursor本身\n",
    "import sqlite3\n",
    "conn = sqlite3.connect(\"customer.db\") # 連線資料庫\n",
    "\n",
    "c = conn.cursor() # 建立 cursor\n",
    "c.execute(\"SELECT * FROM customers\")\n",
    "for row in c:  # 直接遍歷 Cursor\n",
    "    print(*row)\n",
    "\n",
    "conn.close()"
   ]
  },
  {
   "cell_type": "markdown",
   "metadata": {},
   "source": [
    "## 排序資料"
   ]
  },
  {
   "cell_type": "code",
   "execution_count": 43,
   "metadata": {},
   "outputs": [
    {
     "name": "stdout",
     "output_type": "stream",
     "text": [
      "(3, 'Charlie', 'Brown', 'bob@example.com')\n",
      "(4, 'Tim', 'Smith', 'john@codemy.com')\n",
      "(5, 'Alice', 'Johnson', 'alice@example.com')\n",
      "(6, 'Bob', 'Brown', 'bob@example.com')\n"
     ]
    }
   ],
   "source": [
    "# TODO: 獲取查詢結果中的所有記錄\n",
    "import sqlite3\n",
    "conn = sqlite3.connect(\"customer.db\") # 連線資料庫\n",
    "\n",
    "c = conn.cursor() # 建立 cursor\n",
    "c.execute(\"SELECT rowid, * FROM customers ORDER BY rowid\")\n",
    "rows = c.fetchall()  # 獲取所有記錄\n",
    "\n",
    "# 打印每條記錄\n",
    "for row in rows:\n",
    "    print(row)  \n",
    "\n",
    "conn.close()"
   ]
  },
  {
   "cell_type": "markdown",
   "metadata": {},
   "source": [
    "## 限制查詢比數\n"
   ]
  },
  {
   "cell_type": "code",
   "execution_count": 44,
   "metadata": {},
   "outputs": [
    {
     "name": "stdout",
     "output_type": "stream",
     "text": [
      "(6, 'Bob', 'Brown', 'bob@example.com')\n",
      "(5, 'Alice', 'Johnson', 'alice@example.com')\n"
     ]
    }
   ],
   "source": [
    "# TODO: 獲取查詢結果中的所有記錄\n",
    "import sqlite3\n",
    "conn = sqlite3.connect(\"customer.db\") # 連線資料庫\n",
    "\n",
    "c = conn.cursor() # 建立 cursor\n",
    "c.execute(\"SELECT rowid, * FROM customers ORDER BY rowid DESC LIMIT 2\")\n",
    "rows = c.fetchall()  # 獲取所有記錄\n",
    "\n",
    "# 打印每條記錄\n",
    "for row in rows:\n",
    "    print(row)  \n",
    "\n",
    "conn.close()"
   ]
  },
  {
   "cell_type": "markdown",
   "metadata": {},
   "source": [
    "## Primary key"
   ]
  },
  {
   "cell_type": "code",
   "execution_count": 33,
   "metadata": {},
   "outputs": [
    {
     "name": "stdout",
     "output_type": "stream",
     "text": [
      "1 Tim Smith john@codemy.com\n",
      "2 Alice Johnson alice@example.com\n",
      "3 Bob Brown bob@example.com\n",
      "4 Tim Smith john@codemy.com\n"
     ]
    }
   ],
   "source": [
    "import sqlite3\n",
    "conn = sqlite3.connect(\"customer.db\") # 連線資料庫\n",
    "\n",
    "c = conn.cursor() # 建立 cursor\n",
    "c.execute(\"SELECT rowid, * FROM customers\")\n",
    "for row in c:  # 直接遍歷 Cursor\n",
    "    print(*row)\n",
    "\n",
    "conn.close()"
   ]
  },
  {
   "cell_type": "code",
   "execution_count": 34,
   "metadata": {},
   "outputs": [
    {
     "name": "stdout",
     "output_type": "stream",
     "text": [
      "1 Tim Smith john@codemy.com\n",
      "4 Tim Smith john@codemy.com\n"
     ]
    }
   ],
   "source": [
    "import sqlite3\n",
    "conn = sqlite3.connect(\"customer.db\") # 連線資料庫\n",
    "\n",
    "c = conn.cursor() # 建立 cursor\n",
    "c.execute(\"SELECT rowid, * FROM customers WHERE first_name = 'Tim'\")\n",
    "for row in c:  # 直接遍歷 Cursor\n",
    "    print(*row)\n",
    "\n",
    "conn.close()"
   ]
  },
  {
   "cell_type": "markdown",
   "metadata": {},
   "source": [
    "## 更新資料\n",
    "- 更新單筆記錄"
   ]
  },
  {
   "cell_type": "code",
   "execution_count": 35,
   "metadata": {},
   "outputs": [],
   "source": [
    "import sqlite3\n",
    "conn = sqlite3.connect(\"customer.db\") # 連線資料庫\n",
    "\n",
    "data = ('Bob', 'Elder')\n",
    "\n",
    "c = conn.cursor() # 建立 cursor\n",
    "c.execute(\"\"\"\n",
    "    UPDATE customers SET first_name = ? WHERE last_name = ?\n",
    "\"\"\", data)\n",
    "\n",
    "conn.commit()\n",
    "conn.close()"
   ]
  },
  {
   "cell_type": "markdown",
   "metadata": {},
   "source": [
    "- 更新多筆記錄"
   ]
  },
  {
   "cell_type": "code",
   "execution_count": 36,
   "metadata": {},
   "outputs": [],
   "source": [
    "import sqlite3\n",
    "conn = sqlite3.connect(\"customer.db\") # 連線資料庫\n",
    "\n",
    "data = [\n",
    "    ('Alice', 'Smith'),\n",
    "    ('Charlie', 'Brown')\n",
    "]\n",
    "\n",
    "c = conn.cursor() # 建立 cursor\n",
    "c.executemany(\"\"\"\n",
    "    UPDATE customers SET first_name = ? WHERE last_name = ?\n",
    "\"\"\", data)\n",
    "\n",
    "conn.commit()\n",
    "conn.close()"
   ]
  },
  {
   "cell_type": "markdown",
   "metadata": {},
   "source": [
    "## 刪除資料"
   ]
  },
  {
   "cell_type": "code",
   "execution_count": 39,
   "metadata": {},
   "outputs": [],
   "source": [
    "import sqlite3\n",
    "conn = sqlite3.connect(\"customer.db\") # 連線資料庫\n",
    "\n",
    "data = ('Alice',)\n",
    "\n",
    "c = conn.cursor() # 建立 cursor\n",
    "\n",
    "# 查詢資料以驗證刪除\n",
    "c.execute(\"SELECT * FROM customers\")\n",
    "c.execute(\"\"\"\n",
    "    DELETE FROM customers WHERE first_name = ?\n",
    "\"\"\", data)\n",
    "\n",
    "conn.commit()\n",
    "conn.close()"
   ]
  },
  {
   "cell_type": "markdown",
   "metadata": {},
   "source": [
    "## 刪除整張資料表"
   ]
  },
  {
   "cell_type": "code",
   "execution_count": 46,
   "metadata": {},
   "outputs": [],
   "source": [
    "import sqlite3\n",
    "conn = sqlite3.connect(\"customer.db\") # 連線資料庫\n",
    "c = conn.cursor() # 建立 cursor\n",
    "c.execute(\"DROP TABLE customers\")\n",
    "\n",
    "conn.commit()\n",
    "conn.close()"
   ]
  }
 ],
 "metadata": {
  "kernelspec": {
   "display_name": "openai",
   "language": "python",
   "name": "python3"
  },
  "language_info": {
   "codemirror_mode": {
    "name": "ipython",
    "version": 3
   },
   "file_extension": ".py",
   "mimetype": "text/x-python",
   "name": "python",
   "nbconvert_exporter": "python",
   "pygments_lexer": "ipython3",
   "version": "3.10.15"
  }
 },
 "nbformat": 4,
 "nbformat_minor": 2
}
